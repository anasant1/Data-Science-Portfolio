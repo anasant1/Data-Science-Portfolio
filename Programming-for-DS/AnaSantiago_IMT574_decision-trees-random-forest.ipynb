{
 "cells": [
  {
   "cell_type": "markdown",
   "id": "8a01bc9f",
   "metadata": {},
   "source": [
    "# 4.8 Assignment 3: Decision Trees and Random Forest\n",
    "\n",
    "## Table of Contents:\n",
    "[Part 1: Decision Trees](#Part-1:-Decision-Trees)\n",
    "\n",
    "[Part 2: Random Forest](#Part-2:-Random-Forest) \n",
    "\n",
    "Both sections work with the “Blues Guitarists Hand Posture and Thumbing Style by Region and Birth Period” data, which has 93 entries of various blues guitarists born between 1874-1940.\n",
    "\n",
    "#### Features included\n",
    "\n",
    "Regions: 1 means East, 2 means Delta, 3 means Texas\n",
    "\n",
    "Years: 0 for those born before 1906, 1 for the rest\n",
    "\n",
    "Hand postures: 1= Extended, 2= Stacked, 3=Lutiform\n",
    "\n",
    "Thumb styles: Between 1 and 3, 1=Alternating, 2=Utility, 3=Dead"
   ]
  },
  {
   "cell_type": "markdown",
   "id": "2ea269b1",
   "metadata": {},
   "source": [
    "### Libraries"
   ]
  },
  {
   "cell_type": "code",
   "execution_count": 1,
   "id": "db7e8ccc",
   "metadata": {},
   "outputs": [],
   "source": [
    "import pandas as pd\n",
    "import numpy as np\n",
    "import matplotlib.pyplot as plt\n",
    "import seaborn as sns\n",
    "\n",
    "from sklearn.preprocessing import OneHotEncoder\n",
    "from sklearn.tree import DecisionTreeClassifier\n",
    "from sklearn.model_selection import train_test_split\n",
    "from sklearn.metrics import accuracy_score\n",
    "from sklearn.model_selection import KFold\n",
    "\n",
    "from sklearn.ensemble import RandomForestClassifier"
   ]
  },
  {
   "cell_type": "markdown",
   "id": "2e79a112",
   "metadata": {},
   "source": [
    "# Part 1: Decision Trees\n",
    "\n",
    "In this section, I'll use a decision tree classifier to see how accurately predictions of a guitarist's birth year are when considering their hand postures ('handPost') and thumb styles ('thumbSty'). Afterward, I will redo the model but also include the 'region' variable while training the model and measure how it affected the predictions. \n",
    "\n",
    "[Data Processing](#Data-Processing)\n",
    "\n",
    "[Model Training](#Model-Training)"
   ]
  },
  {
   "cell_type": "markdown",
   "id": "13f531f9",
   "metadata": {},
   "source": [
    "# Data Processing"
   ]
  },
  {
   "cell_type": "code",
   "execution_count": 2,
   "id": "44152c1d",
   "metadata": {},
   "outputs": [
    {
     "data": {
      "text/html": [
       "<div>\n",
       "<style scoped>\n",
       "    .dataframe tbody tr th:only-of-type {\n",
       "        vertical-align: middle;\n",
       "    }\n",
       "\n",
       "    .dataframe tbody tr th {\n",
       "        vertical-align: top;\n",
       "    }\n",
       "\n",
       "    .dataframe thead th {\n",
       "        text-align: right;\n",
       "    }\n",
       "</style>\n",
       "<table border=\"1\" class=\"dataframe\">\n",
       "  <thead>\n",
       "    <tr style=\"text-align: right;\">\n",
       "      <th></th>\n",
       "      <th>name</th>\n",
       "      <th>state</th>\n",
       "      <th>brthYr</th>\n",
       "      <th>post1906</th>\n",
       "      <th>region</th>\n",
       "      <th>handPost</th>\n",
       "      <th>thumbSty</th>\n",
       "    </tr>\n",
       "  </thead>\n",
       "  <tbody>\n",
       "    <tr>\n",
       "      <th>0</th>\n",
       "      <td>Henry Thomas</td>\n",
       "      <td>TX</td>\n",
       "      <td>1874</td>\n",
       "      <td>0</td>\n",
       "      <td>3</td>\n",
       "      <td>1</td>\n",
       "      <td>3</td>\n",
       "    </tr>\n",
       "    <tr>\n",
       "      <th>1</th>\n",
       "      <td>Frank Stokes</td>\n",
       "      <td>TN</td>\n",
       "      <td>1887</td>\n",
       "      <td>0</td>\n",
       "      <td>2</td>\n",
       "      <td>1</td>\n",
       "      <td>3</td>\n",
       "    </tr>\n",
       "    <tr>\n",
       "      <th>2</th>\n",
       "      <td>Sam Collins</td>\n",
       "      <td>MS</td>\n",
       "      <td>1887</td>\n",
       "      <td>0</td>\n",
       "      <td>2</td>\n",
       "      <td>1</td>\n",
       "      <td>2</td>\n",
       "    </tr>\n",
       "    <tr>\n",
       "      <th>3</th>\n",
       "      <td>Peg Leg Howell</td>\n",
       "      <td>GA</td>\n",
       "      <td>1888</td>\n",
       "      <td>0</td>\n",
       "      <td>1</td>\n",
       "      <td>2</td>\n",
       "      <td>2</td>\n",
       "    </tr>\n",
       "    <tr>\n",
       "      <th>4</th>\n",
       "      <td>Huddie Ledbetter</td>\n",
       "      <td>TX</td>\n",
       "      <td>1888</td>\n",
       "      <td>0</td>\n",
       "      <td>3</td>\n",
       "      <td>2</td>\n",
       "      <td>3</td>\n",
       "    </tr>\n",
       "  </tbody>\n",
       "</table>\n",
       "</div>"
      ],
      "text/plain": [
       "               name state  brthYr  post1906  region  handPost  thumbSty\n",
       "0      Henry Thomas    TX    1874         0       3         1         3\n",
       "1      Frank Stokes    TN    1887         0       2         1         3\n",
       "2       Sam Collins    MS    1887         0       2         1         2\n",
       "3    Peg Leg Howell    GA    1888         0       1         2         2\n",
       "4  Huddie Ledbetter    TX    1888         0       3         2         3"
      ]
     },
     "execution_count": 2,
     "metadata": {},
     "output_type": "execute_result"
    }
   ],
   "source": [
    "guitarists_data = pd.read_csv('Assignment 4-blues_hand.csv')\n",
    "guitarists_data.head()"
   ]
  },
  {
   "cell_type": "code",
   "execution_count": 3,
   "id": "3ce54dd8",
   "metadata": {},
   "outputs": [
    {
     "data": {
      "text/plain": [
       "(93, 7)"
      ]
     },
     "execution_count": 3,
     "metadata": {},
     "output_type": "execute_result"
    }
   ],
   "source": [
    "#ensure correct upload\n",
    "guitarists_data.shape"
   ]
  },
  {
   "cell_type": "code",
   "execution_count": 4,
   "id": "fb39d987",
   "metadata": {},
   "outputs": [
    {
     "data": {
      "text/html": [
       "<div>\n",
       "<style scoped>\n",
       "    .dataframe tbody tr th:only-of-type {\n",
       "        vertical-align: middle;\n",
       "    }\n",
       "\n",
       "    .dataframe tbody tr th {\n",
       "        vertical-align: top;\n",
       "    }\n",
       "\n",
       "    .dataframe thead th {\n",
       "        text-align: right;\n",
       "    }\n",
       "</style>\n",
       "<table border=\"1\" class=\"dataframe\">\n",
       "  <thead>\n",
       "    <tr style=\"text-align: right;\">\n",
       "      <th></th>\n",
       "      <th>brthYr</th>\n",
       "      <th>post1906</th>\n",
       "      <th>region</th>\n",
       "      <th>handPost</th>\n",
       "      <th>thumbSty</th>\n",
       "    </tr>\n",
       "  </thead>\n",
       "  <tbody>\n",
       "    <tr>\n",
       "      <th>count</th>\n",
       "      <td>93.000000</td>\n",
       "      <td>93.000000</td>\n",
       "      <td>93.000000</td>\n",
       "      <td>93.000000</td>\n",
       "      <td>93.000000</td>\n",
       "    </tr>\n",
       "    <tr>\n",
       "      <th>mean</th>\n",
       "      <td>1908.903226</td>\n",
       "      <td>0.548387</td>\n",
       "      <td>1.741935</td>\n",
       "      <td>1.580645</td>\n",
       "      <td>2.043011</td>\n",
       "    </tr>\n",
       "    <tr>\n",
       "      <th>std</th>\n",
       "      <td>13.448020</td>\n",
       "      <td>0.500351</td>\n",
       "      <td>0.657783</td>\n",
       "      <td>0.712048</td>\n",
       "      <td>0.832936</td>\n",
       "    </tr>\n",
       "    <tr>\n",
       "      <th>min</th>\n",
       "      <td>1874.000000</td>\n",
       "      <td>0.000000</td>\n",
       "      <td>1.000000</td>\n",
       "      <td>1.000000</td>\n",
       "      <td>1.000000</td>\n",
       "    </tr>\n",
       "    <tr>\n",
       "      <th>25%</th>\n",
       "      <td>1898.000000</td>\n",
       "      <td>0.000000</td>\n",
       "      <td>1.000000</td>\n",
       "      <td>1.000000</td>\n",
       "      <td>1.000000</td>\n",
       "    </tr>\n",
       "    <tr>\n",
       "      <th>50%</th>\n",
       "      <td>1908.000000</td>\n",
       "      <td>1.000000</td>\n",
       "      <td>2.000000</td>\n",
       "      <td>1.000000</td>\n",
       "      <td>2.000000</td>\n",
       "    </tr>\n",
       "    <tr>\n",
       "      <th>75%</th>\n",
       "      <td>1917.000000</td>\n",
       "      <td>1.000000</td>\n",
       "      <td>2.000000</td>\n",
       "      <td>2.000000</td>\n",
       "      <td>3.000000</td>\n",
       "    </tr>\n",
       "    <tr>\n",
       "      <th>max</th>\n",
       "      <td>1940.000000</td>\n",
       "      <td>1.000000</td>\n",
       "      <td>3.000000</td>\n",
       "      <td>3.000000</td>\n",
       "      <td>3.000000</td>\n",
       "    </tr>\n",
       "  </tbody>\n",
       "</table>\n",
       "</div>"
      ],
      "text/plain": [
       "            brthYr   post1906     region   handPost   thumbSty\n",
       "count    93.000000  93.000000  93.000000  93.000000  93.000000\n",
       "mean   1908.903226   0.548387   1.741935   1.580645   2.043011\n",
       "std      13.448020   0.500351   0.657783   0.712048   0.832936\n",
       "min    1874.000000   0.000000   1.000000   1.000000   1.000000\n",
       "25%    1898.000000   0.000000   1.000000   1.000000   1.000000\n",
       "50%    1908.000000   1.000000   2.000000   1.000000   2.000000\n",
       "75%    1917.000000   1.000000   2.000000   2.000000   3.000000\n",
       "max    1940.000000   1.000000   3.000000   3.000000   3.000000"
      ]
     },
     "execution_count": 4,
     "metadata": {},
     "output_type": "execute_result"
    }
   ],
   "source": [
    "#examine value distributions\n",
    "guitarists_data.describe()"
   ]
  },
  {
   "cell_type": "code",
   "execution_count": 5,
   "id": "d36b795d",
   "metadata": {},
   "outputs": [
    {
     "data": {
      "text/plain": [
       "name        False\n",
       "state       False\n",
       "brthYr      False\n",
       "post1906    False\n",
       "region      False\n",
       "handPost    False\n",
       "thumbSty    False\n",
       "dtype: bool"
      ]
     },
     "execution_count": 5,
     "metadata": {},
     "output_type": "execute_result"
    }
   ],
   "source": [
    "#ensure no null values exist\n",
    "guitarists_data.isnull().any()"
   ]
  },
  {
   "cell_type": "code",
   "execution_count": 6,
   "id": "ec344da4",
   "metadata": {},
   "outputs": [
    {
     "data": {
      "text/plain": [
       "name        object\n",
       "state       object\n",
       "brthYr       int64\n",
       "post1906     int64\n",
       "region       int64\n",
       "handPost     int64\n",
       "thumbSty     int64\n",
       "dtype: object"
      ]
     },
     "execution_count": 6,
     "metadata": {},
     "output_type": "execute_result"
    }
   ],
   "source": [
    "guitarists_data.dtypes"
   ]
  },
  {
   "cell_type": "code",
   "execution_count": 7,
   "id": "28780c30",
   "metadata": {},
   "outputs": [],
   "source": [
    "#one-hot encode 'region', 'handPost', and 'thumbSty'\n",
    "\n",
    "key_encoder = OneHotEncoder()\n",
    "\n",
    "processed_columns = key_encoder.fit_transform(guitarists_data[['region', 'handPost', 'thumbSty']])\n",
    "\n",
    "features = key_encoder.get_feature_names_out(['region', 'handPost', 'thumbSty'])\n",
    "\n",
    "processed_df = pd.DataFrame(processed_columns.toarray(), columns = features)\n",
    "\n",
    "guitarists_df = pd.concat([guitarists_data, processed_df], axis = 1)"
   ]
  },
  {
   "cell_type": "code",
   "execution_count": 8,
   "id": "496fe880",
   "metadata": {
    "scrolled": true
   },
   "outputs": [
    {
     "data": {
      "text/html": [
       "<div>\n",
       "<style scoped>\n",
       "    .dataframe tbody tr th:only-of-type {\n",
       "        vertical-align: middle;\n",
       "    }\n",
       "\n",
       "    .dataframe tbody tr th {\n",
       "        vertical-align: top;\n",
       "    }\n",
       "\n",
       "    .dataframe thead th {\n",
       "        text-align: right;\n",
       "    }\n",
       "</style>\n",
       "<table border=\"1\" class=\"dataframe\">\n",
       "  <thead>\n",
       "    <tr style=\"text-align: right;\">\n",
       "      <th></th>\n",
       "      <th>name</th>\n",
       "      <th>state</th>\n",
       "      <th>brthYr</th>\n",
       "      <th>post1906</th>\n",
       "      <th>region_1</th>\n",
       "      <th>region_2</th>\n",
       "      <th>region_3</th>\n",
       "      <th>handPost_1</th>\n",
       "      <th>handPost_2</th>\n",
       "      <th>handPost_3</th>\n",
       "      <th>thumbSty_1</th>\n",
       "      <th>thumbSty_2</th>\n",
       "      <th>thumbSty_3</th>\n",
       "    </tr>\n",
       "  </thead>\n",
       "  <tbody>\n",
       "    <tr>\n",
       "      <th>0</th>\n",
       "      <td>Henry Thomas</td>\n",
       "      <td>TX</td>\n",
       "      <td>1874</td>\n",
       "      <td>0</td>\n",
       "      <td>0.0</td>\n",
       "      <td>0.0</td>\n",
       "      <td>1.0</td>\n",
       "      <td>1.0</td>\n",
       "      <td>0.0</td>\n",
       "      <td>0.0</td>\n",
       "      <td>0.0</td>\n",
       "      <td>0.0</td>\n",
       "      <td>1.0</td>\n",
       "    </tr>\n",
       "    <tr>\n",
       "      <th>1</th>\n",
       "      <td>Frank Stokes</td>\n",
       "      <td>TN</td>\n",
       "      <td>1887</td>\n",
       "      <td>0</td>\n",
       "      <td>0.0</td>\n",
       "      <td>1.0</td>\n",
       "      <td>0.0</td>\n",
       "      <td>1.0</td>\n",
       "      <td>0.0</td>\n",
       "      <td>0.0</td>\n",
       "      <td>0.0</td>\n",
       "      <td>0.0</td>\n",
       "      <td>1.0</td>\n",
       "    </tr>\n",
       "    <tr>\n",
       "      <th>2</th>\n",
       "      <td>Sam Collins</td>\n",
       "      <td>MS</td>\n",
       "      <td>1887</td>\n",
       "      <td>0</td>\n",
       "      <td>0.0</td>\n",
       "      <td>1.0</td>\n",
       "      <td>0.0</td>\n",
       "      <td>1.0</td>\n",
       "      <td>0.0</td>\n",
       "      <td>0.0</td>\n",
       "      <td>0.0</td>\n",
       "      <td>1.0</td>\n",
       "      <td>0.0</td>\n",
       "    </tr>\n",
       "    <tr>\n",
       "      <th>3</th>\n",
       "      <td>Peg Leg Howell</td>\n",
       "      <td>GA</td>\n",
       "      <td>1888</td>\n",
       "      <td>0</td>\n",
       "      <td>1.0</td>\n",
       "      <td>0.0</td>\n",
       "      <td>0.0</td>\n",
       "      <td>0.0</td>\n",
       "      <td>1.0</td>\n",
       "      <td>0.0</td>\n",
       "      <td>0.0</td>\n",
       "      <td>1.0</td>\n",
       "      <td>0.0</td>\n",
       "    </tr>\n",
       "    <tr>\n",
       "      <th>4</th>\n",
       "      <td>Huddie Ledbetter</td>\n",
       "      <td>TX</td>\n",
       "      <td>1888</td>\n",
       "      <td>0</td>\n",
       "      <td>0.0</td>\n",
       "      <td>0.0</td>\n",
       "      <td>1.0</td>\n",
       "      <td>0.0</td>\n",
       "      <td>1.0</td>\n",
       "      <td>0.0</td>\n",
       "      <td>0.0</td>\n",
       "      <td>0.0</td>\n",
       "      <td>1.0</td>\n",
       "    </tr>\n",
       "    <tr>\n",
       "      <th>...</th>\n",
       "      <td>...</td>\n",
       "      <td>...</td>\n",
       "      <td>...</td>\n",
       "      <td>...</td>\n",
       "      <td>...</td>\n",
       "      <td>...</td>\n",
       "      <td>...</td>\n",
       "      <td>...</td>\n",
       "      <td>...</td>\n",
       "      <td>...</td>\n",
       "      <td>...</td>\n",
       "      <td>...</td>\n",
       "      <td>...</td>\n",
       "    </tr>\n",
       "    <tr>\n",
       "      <th>88</th>\n",
       "      <td>Jimmie Lee Harris</td>\n",
       "      <td>AL</td>\n",
       "      <td>1935</td>\n",
       "      <td>1</td>\n",
       "      <td>0.0</td>\n",
       "      <td>1.0</td>\n",
       "      <td>0.0</td>\n",
       "      <td>0.0</td>\n",
       "      <td>1.0</td>\n",
       "      <td>0.0</td>\n",
       "      <td>0.0</td>\n",
       "      <td>0.0</td>\n",
       "      <td>1.0</td>\n",
       "    </tr>\n",
       "    <tr>\n",
       "      <th>89</th>\n",
       "      <td>Snooks Eaglin</td>\n",
       "      <td>LA</td>\n",
       "      <td>1936</td>\n",
       "      <td>1</td>\n",
       "      <td>0.0</td>\n",
       "      <td>1.0</td>\n",
       "      <td>0.0</td>\n",
       "      <td>1.0</td>\n",
       "      <td>0.0</td>\n",
       "      <td>0.0</td>\n",
       "      <td>0.0</td>\n",
       "      <td>1.0</td>\n",
       "      <td>0.0</td>\n",
       "    </tr>\n",
       "    <tr>\n",
       "      <th>90</th>\n",
       "      <td>Larry Johnson</td>\n",
       "      <td>GA</td>\n",
       "      <td>1938</td>\n",
       "      <td>1</td>\n",
       "      <td>1.0</td>\n",
       "      <td>0.0</td>\n",
       "      <td>0.0</td>\n",
       "      <td>1.0</td>\n",
       "      <td>0.0</td>\n",
       "      <td>0.0</td>\n",
       "      <td>1.0</td>\n",
       "      <td>0.0</td>\n",
       "      <td>0.0</td>\n",
       "    </tr>\n",
       "    <tr>\n",
       "      <th>91</th>\n",
       "      <td>Tom Winslow</td>\n",
       "      <td>NC</td>\n",
       "      <td>1938</td>\n",
       "      <td>1</td>\n",
       "      <td>1.0</td>\n",
       "      <td>0.0</td>\n",
       "      <td>0.0</td>\n",
       "      <td>1.0</td>\n",
       "      <td>0.0</td>\n",
       "      <td>0.0</td>\n",
       "      <td>1.0</td>\n",
       "      <td>0.0</td>\n",
       "      <td>0.0</td>\n",
       "    </tr>\n",
       "    <tr>\n",
       "      <th>92</th>\n",
       "      <td>Rober Belfour</td>\n",
       "      <td>MS</td>\n",
       "      <td>1940</td>\n",
       "      <td>1</td>\n",
       "      <td>0.0</td>\n",
       "      <td>1.0</td>\n",
       "      <td>0.0</td>\n",
       "      <td>0.0</td>\n",
       "      <td>1.0</td>\n",
       "      <td>0.0</td>\n",
       "      <td>0.0</td>\n",
       "      <td>1.0</td>\n",
       "      <td>0.0</td>\n",
       "    </tr>\n",
       "  </tbody>\n",
       "</table>\n",
       "<p>93 rows × 13 columns</p>\n",
       "</div>"
      ],
      "text/plain": [
       "                 name state  brthYr  post1906  region_1  region_2  region_3  \\\n",
       "0        Henry Thomas    TX    1874         0       0.0       0.0       1.0   \n",
       "1        Frank Stokes    TN    1887         0       0.0       1.0       0.0   \n",
       "2         Sam Collins    MS    1887         0       0.0       1.0       0.0   \n",
       "3      Peg Leg Howell    GA    1888         0       1.0       0.0       0.0   \n",
       "4    Huddie Ledbetter    TX    1888         0       0.0       0.0       1.0   \n",
       "..                ...   ...     ...       ...       ...       ...       ...   \n",
       "88  Jimmie Lee Harris    AL    1935         1       0.0       1.0       0.0   \n",
       "89      Snooks Eaglin    LA    1936         1       0.0       1.0       0.0   \n",
       "90      Larry Johnson    GA    1938         1       1.0       0.0       0.0   \n",
       "91        Tom Winslow    NC    1938         1       1.0       0.0       0.0   \n",
       "92      Rober Belfour    MS    1940         1       0.0       1.0       0.0   \n",
       "\n",
       "    handPost_1  handPost_2  handPost_3  thumbSty_1  thumbSty_2  thumbSty_3  \n",
       "0          1.0         0.0         0.0         0.0         0.0         1.0  \n",
       "1          1.0         0.0         0.0         0.0         0.0         1.0  \n",
       "2          1.0         0.0         0.0         0.0         1.0         0.0  \n",
       "3          0.0         1.0         0.0         0.0         1.0         0.0  \n",
       "4          0.0         1.0         0.0         0.0         0.0         1.0  \n",
       "..         ...         ...         ...         ...         ...         ...  \n",
       "88         0.0         1.0         0.0         0.0         0.0         1.0  \n",
       "89         1.0         0.0         0.0         0.0         1.0         0.0  \n",
       "90         1.0         0.0         0.0         1.0         0.0         0.0  \n",
       "91         1.0         0.0         0.0         1.0         0.0         0.0  \n",
       "92         0.0         1.0         0.0         0.0         1.0         0.0  \n",
       "\n",
       "[93 rows x 13 columns]"
      ]
     },
     "execution_count": 8,
     "metadata": {},
     "output_type": "execute_result"
    }
   ],
   "source": [
    "guitarists_df = guitarists_df.drop(columns = ['region', 'handPost', 'thumbSty'])\n",
    "guitarists_df"
   ]
  },
  {
   "cell_type": "markdown",
   "id": "4aca8351",
   "metadata": {},
   "source": [
    "# Model Training"
   ]
  },
  {
   "cell_type": "code",
   "execution_count": 9,
   "id": "34a547c9",
   "metadata": {},
   "outputs": [
    {
     "data": {
      "text/plain": [
       "0.03571428571428571"
      ]
     },
     "execution_count": 9,
     "metadata": {},
     "output_type": "execute_result"
    }
   ],
   "source": [
    "#feature selection for 1st tree: 'handPost' & 'thumbSty'\n",
    "X1 = guitarists_df[['handPost_1', 'handPost_2', 'handPost_3', \n",
    "                   'thumbSty_1', 'thumbSty_2', 'thumbSty_3']]\n",
    "\n",
    "y1 = guitarists_df['brthYr']\n",
    "\n",
    "\n",
    "#split data\n",
    "X1_train, X1_test, y1_train, y1_test = train_test_split(X1, y1, test_size = 0.3, random_state = 15)\n",
    "\n",
    "tree_classifier = DecisionTreeClassifier()\n",
    "\n",
    "#fit model\n",
    "tree_classifier.fit(X1_train, y1_train)\n",
    "\n",
    "tree_preds = tree_classifier.predict(X1_test)\n",
    "\n",
    "handpost_thumb_accuracy = accuracy_score(y1_test, tree_preds)\n",
    "handpost_thumb_accuracy"
   ]
  },
  {
   "cell_type": "markdown",
   "id": "e8e02ada",
   "metadata": {},
   "source": [
    "The model performed pretty poorly, so I decided to do kfold validation to get an average accuracy score of the trees. "
   ]
  },
  {
   "cell_type": "code",
   "execution_count": 32,
   "id": "230f421c",
   "metadata": {},
   "outputs": [
    {
     "data": {
      "text/plain": [
       "0.011"
      ]
     },
     "execution_count": 32,
     "metadata": {},
     "output_type": "execute_result"
    }
   ],
   "source": [
    "#kfold validation\n",
    "k_fold = KFold(n_splits = 9, shuffle = True, random_state = 7)\n",
    "\n",
    "#initialize list to store accuracy scores\n",
    "accuracies_tree1 = []\n",
    "\n",
    "\n",
    "for train_index, test_index in k_fold.split(X1):\n",
    "    X1_trainf, X1_testf = X1.iloc[train_index], X1.iloc[test_index]\n",
    "    y1_trainf, y1_testf = y1.iloc[train_index], y1.iloc[test_index]\n",
    "    \n",
    "    kftree_classifier = DecisionTreeClassifier()\n",
    "    \n",
    "    #train tree\n",
    "    kftree_classifier.fit(X1_trainf, y1_trainf)\n",
    "    \n",
    "    #test tree\n",
    "    kftree_preds = kftree_classifier.predict(X1_testf)\n",
    "    \n",
    "    kfold_accuracy = accuracy_score(y1_testf, kftree_preds)\n",
    "    \n",
    "    accuracies_tree1.append(kfold_accuracy)\n",
    "\n",
    "avg_accuracy = round(sum(accuracies_tree1)/len(accuracies_tree1),3)\n",
    "avg_accuracy"
   ]
  },
  {
   "cell_type": "code",
   "execution_count": 11,
   "id": "02e2fec0",
   "metadata": {},
   "outputs": [
    {
     "data": {
      "text/plain": [
       "0.0"
      ]
     },
     "execution_count": 11,
     "metadata": {},
     "output_type": "execute_result"
    }
   ],
   "source": [
    "min(accuracies_tree1)"
   ]
  },
  {
   "cell_type": "code",
   "execution_count": 12,
   "id": "4944eedb",
   "metadata": {},
   "outputs": [
    {
     "data": {
      "text/plain": [
       "0.1"
      ]
     },
     "execution_count": 12,
     "metadata": {},
     "output_type": "execute_result"
    }
   ],
   "source": [
    "max(accuracies_tree1)"
   ]
  },
  {
   "cell_type": "markdown",
   "id": "eaf927a2",
   "metadata": {},
   "source": [
    "The first tree performed pretty poorly with an accuracy score of 0.03, which improved when performing kfold cross validation to a score of 0.11. These accuracies are still pretty low, but there was significant improvement when implementing kfold cross validation. It was interesting to see that the score of the tree that performed the worst with the handPost and thumbSty variables actually scored 0, while the best performing tree had an accuracy score of 0.1. I will not add the 'region' variable and compare these results."
   ]
  },
  {
   "cell_type": "code",
   "execution_count": 13,
   "id": "11538b25",
   "metadata": {},
   "outputs": [
    {
     "data": {
      "text/plain": [
       "0.07142857142857142"
      ]
     },
     "execution_count": 13,
     "metadata": {},
     "output_type": "execute_result"
    }
   ],
   "source": [
    "#feature selection for 2nd tree: 'handPost', 'thumbSty' & 'region'\n",
    "X2 = guitarists_df[['region_1', 'region_2', 'region_3', 'handPost_1', 'handPost_2', 'handPost_3', \n",
    "                   'thumbSty_1', 'thumbSty_2', 'thumbSty_3']]\n",
    "\n",
    "y2 = guitarists_df['brthYr']\n",
    "\n",
    "\n",
    "#split data\n",
    "X2_train, X2_test, y2_train, y2_test = train_test_split(X2, y2, test_size = 0.3, random_state = 45)\n",
    "\n",
    "tree_classifier2 = DecisionTreeClassifier()\n",
    "\n",
    "#fit model\n",
    "tree_classifier2.fit(X2_train, y2_train)\n",
    "\n",
    "tree_preds2 = tree_classifier2.predict(X2_test)\n",
    "\n",
    "accuracy3_variables = accuracy_score(y2_test, tree_preds2)\n",
    "accuracy3_variables"
   ]
  },
  {
   "cell_type": "markdown",
   "id": "c72004e2",
   "metadata": {},
   "source": [
    "There was significant improvement on this tree with the region, hand posture, and thumb style variables, though the accuracy score is still pretty low. I will also perform kfld cv and evaluate the averages."
   ]
  },
  {
   "cell_type": "code",
   "execution_count": 31,
   "id": "4d2270c6",
   "metadata": {},
   "outputs": [
    {
     "data": {
      "text/plain": [
       "0.011"
      ]
     },
     "execution_count": 31,
     "metadata": {},
     "output_type": "execute_result"
    }
   ],
   "source": [
    "#kfold validation\n",
    "k_fold2 = KFold(n_splits = 9, shuffle = True, random_state = 3)\n",
    "\n",
    "#initialize list to store accuracy scores\n",
    "accuracies_tree2 = []\n",
    "\n",
    "\n",
    "for train_index, test_index in k_fold2.split(X2):\n",
    "    X2_trainf, X2_testf = X2.iloc[train_index], X2.iloc[test_index]\n",
    "    y2_trainf, y2_testf = y2.iloc[train_index], y2.iloc[test_index]\n",
    "    \n",
    "    kftree_classifier2 = DecisionTreeClassifier()\n",
    "    \n",
    "    #train tree\n",
    "    kftree_classifier2.fit(X2_trainf, y2_trainf)\n",
    "    \n",
    "    #test tree\n",
    "    kftree_preds2 = kftree_classifier2.predict(X2_testf)\n",
    "    \n",
    "    kfold_accuracy2 = accuracy_score(y2_testf, kftree_preds2)\n",
    "    \n",
    "    accuracies_tree2.append(kfold_accuracy2)\n",
    "\n",
    "avg_accuracy2 = round(sum(accuracies_tree1)/len(accuracies_tree1),3)\n",
    "avg_accuracy2"
   ]
  },
  {
   "cell_type": "code",
   "execution_count": 15,
   "id": "976a497f",
   "metadata": {},
   "outputs": [
    {
     "data": {
      "text/plain": [
       "0.0"
      ]
     },
     "execution_count": 15,
     "metadata": {},
     "output_type": "execute_result"
    }
   ],
   "source": [
    "min(accuracies_tree2)"
   ]
  },
  {
   "cell_type": "code",
   "execution_count": 16,
   "id": "73ce4ce7",
   "metadata": {},
   "outputs": [
    {
     "data": {
      "text/plain": [
       "0.2"
      ]
     },
     "execution_count": 16,
     "metadata": {},
     "output_type": "execute_result"
    }
   ],
   "source": [
    "max(accuracies_tree2)"
   ]
  },
  {
   "cell_type": "code",
   "execution_count": 17,
   "id": "bdf13726",
   "metadata": {},
   "outputs": [
    {
     "name": "stdout",
     "output_type": "stream",
     "text": [
      "[0.0, 0.0, 0.0, 0.0, 0.1, 0.0, 0.0, 0.0, 0.0] [0.0, 0.09090909090909091, 0.0, 0.1, 0.1, 0.0, 0.2, 0.0, 0.0]\n"
     ]
    }
   ],
   "source": [
    "print(accuracies_tree1, accuracies_tree2)"
   ]
  },
  {
   "cell_type": "markdown",
   "id": "d7ba7414",
   "metadata": {},
   "source": [
    "Interestingly enough, the averages for both the trees were the same (0.01). Their worst performing tree scored 0 in both instances, and their best performing trees scored 0.1 and 0.2 respectively. Neither tree is performing greatly so it seems the region variable is not adding a lot of information gain nor reducing entropy significantly."
   ]
  },
  {
   "cell_type": "markdown",
   "id": "c4c4ffec",
   "metadata": {},
   "source": [
    "# Part 2: Random Forest"
   ]
  },
  {
   "cell_type": "code",
   "execution_count": 18,
   "id": "2924aee4",
   "metadata": {},
   "outputs": [
    {
     "data": {
      "text/plain": [
       "0.03571428571428571"
      ]
     },
     "execution_count": 18,
     "metadata": {},
     "output_type": "execute_result"
    }
   ],
   "source": [
    "#random forest for first decision tree model with 'handPost' & 'thumbSty' variables\n",
    "\n",
    "rand_forest = RandomForestClassifier(n_estimators = 500)\n",
    "\n",
    "rand_forest.fit(X1_train, y1_train)\n",
    "\n",
    "rand_forest1_preds = rand_forest.predict(X1_test)\n",
    "\n",
    "rand_forest1_accuracy = accuracy_score(y1_test, rand_forest1_preds)\n",
    "\n",
    "rand_forest1_accuracy"
   ]
  },
  {
   "cell_type": "markdown",
   "id": "01e7240c",
   "metadata": {},
   "source": [
    "This first random forest with the handpost and thumbSty variables performed similarly as the singular decision tree from earlier: both scored 0.35. \n",
    "Since I performed kfold CV on the decison tree, I'll do the same for this random forest despite it already being an ensemble method, so as to gain a robust estimate of the model's performance and hopefully reduce variability in its performance."
   ]
  },
  {
   "cell_type": "code",
   "execution_count": 30,
   "id": "c368a097",
   "metadata": {},
   "outputs": [
    {
     "data": {
      "text/plain": [
       "0.01"
      ]
     },
     "execution_count": 30,
     "metadata": {},
     "output_type": "execute_result"
    }
   ],
   "source": [
    "#kfold validation\n",
    "k_fold = KFold(n_splits = 7, shuffle = True, random_state = 19)\n",
    "\n",
    "#initialize list to store accuracy scores\n",
    "accuracies_forest1 = []\n",
    "\n",
    "\n",
    "for train_index, test_index in k_fold.split(X1):\n",
    "    X1_trainrf, X1_testrf = X1.iloc[train_index], X1.iloc[test_index]\n",
    "    y1_trainrf, y1_testrf = y1.iloc[train_index], y1.iloc[test_index]\n",
    "    \n",
    "    rf_classifier = DecisionTreeClassifier()\n",
    "    \n",
    "    #train tree\n",
    "    rf_classifier.fit(X1_trainrf, y1_trainrf)\n",
    "    \n",
    "    #test tree\n",
    "    rf_preds = rf_classifier.predict(X1_testrf)\n",
    "    \n",
    "    rf_accuracy = accuracy_score(y1_testrf, rf_preds)\n",
    "    \n",
    "    accuracies_forest1.append(rf_accuracy)\n",
    "\n",
    "f_accuracy = round(sum(accuracies_forest1)/len(accuracies_forest1),3)\n",
    "f_accuracy"
   ]
  },
  {
   "cell_type": "code",
   "execution_count": 21,
   "id": "8c48fb13",
   "metadata": {},
   "outputs": [
    {
     "data": {
      "text/plain": [
       "0.0"
      ]
     },
     "execution_count": 21,
     "metadata": {},
     "output_type": "execute_result"
    }
   ],
   "source": [
    "min(accuracies_forest1)"
   ]
  },
  {
   "cell_type": "code",
   "execution_count": 22,
   "id": "7f0e93bf",
   "metadata": {},
   "outputs": [
    {
     "data": {
      "text/plain": [
       "0.07142857142857142"
      ]
     },
     "execution_count": 22,
     "metadata": {},
     "output_type": "execute_result"
    }
   ],
   "source": [
    "max(accuracies_forest1)"
   ]
  },
  {
   "cell_type": "markdown",
   "id": "dee049dd",
   "metadata": {},
   "source": [
    "The kfold CV of the random forest built for the handPost and thumbSty variables performed worse than the random forest above, with an average accuracy of 0.010. It is worth noting that the best performing iteration in the kfold cv process had an accuracy score of 0.07, which is much higher than the average and the singular random forest. "
   ]
  },
  {
   "cell_type": "code",
   "execution_count": 23,
   "id": "931f5029",
   "metadata": {},
   "outputs": [
    {
     "data": {
      "text/plain": [
       "0.03571428571428571"
      ]
     },
     "execution_count": 23,
     "metadata": {},
     "output_type": "execute_result"
    }
   ],
   "source": [
    "#random forest for second decision tree model with 'handPost', 'thumbSty' & 'region' variables\n",
    "\n",
    "rand_forest2 = RandomForestClassifier(n_estimators = 350)\n",
    "\n",
    "rand_forest2.fit(X2_train, y2_train)\n",
    "\n",
    "rand_forest2_preds = rand_forest2.predict(X2_test)\n",
    "\n",
    "rand_forest2_accuracy = accuracy_score(y2_test, rand_forest2_preds)\n",
    "\n",
    "rand_forest2_accuracy"
   ]
  },
  {
   "cell_type": "markdown",
   "id": "f19fdd35",
   "metadata": {},
   "source": [
    "The random forest including the region variable performed better than the forest without it, with an accuracy score of 0.07 indicating some potential information gain."
   ]
  },
  {
   "cell_type": "code",
   "execution_count": 27,
   "id": "d2cd1994",
   "metadata": {},
   "outputs": [
    {
     "data": {
      "text/plain": [
       "0.044"
      ]
     },
     "execution_count": 27,
     "metadata": {},
     "output_type": "execute_result"
    }
   ],
   "source": [
    "#kfold validation\n",
    "k_fold = KFold(n_splits = 7, shuffle = True, random_state = 20)\n",
    "\n",
    "#initialize list to store accuracy scores\n",
    "accuracies_forest2 = []\n",
    "\n",
    "\n",
    "for train_index, test_index in k_fold.split(X2):\n",
    "    X2_trainrf, X2_testrf = X2.iloc[train_index], X2.iloc[test_index]\n",
    "    y2_trainrf, y2_testrf = y2.iloc[train_index], y2.iloc[test_index]\n",
    "    \n",
    "    rf2_classifier = DecisionTreeClassifier()\n",
    "    \n",
    "    #train tree\n",
    "    rf2_classifier.fit(X2_trainrf, y2_trainrf)\n",
    "    \n",
    "    #test tree\n",
    "    rf2_preds = rf2_classifier.predict(X2_testrf)\n",
    "    \n",
    "    rf2_accuracy = accuracy_score(y2_testrf, rf2_preds)\n",
    "    \n",
    "    accuracies_forest2.append(rf2_accuracy)\n",
    "\n",
    "f2_accuracy = round(sum(accuracies_forest2)/len(accuracies_forest2),3)\n",
    "f2_accuracy"
   ]
  },
  {
   "cell_type": "code",
   "execution_count": 25,
   "id": "e5f49bff",
   "metadata": {},
   "outputs": [
    {
     "data": {
      "text/plain": [
       "0.0"
      ]
     },
     "execution_count": 25,
     "metadata": {},
     "output_type": "execute_result"
    }
   ],
   "source": [
    "min(accuracies_forest2)"
   ]
  },
  {
   "cell_type": "code",
   "execution_count": 26,
   "id": "8bdf0e19",
   "metadata": {},
   "outputs": [
    {
     "data": {
      "text/plain": [
       "0.15384615384615385"
      ]
     },
     "execution_count": 26,
     "metadata": {},
     "output_type": "execute_result"
    }
   ],
   "source": [
    "max(accuracies_forest2)"
   ]
  },
  {
   "cell_type": "markdown",
   "id": "06fe9ad4",
   "metadata": {},
   "source": [
    "The kfold CV results from the second random forest show significant improvement; for the first forest's kfold CV, the average accuracy score was 0.010, and for this second forest, the accuracy score is 0.044. This tracks with the slight information gain from the 'region' variable in the random forest, which indicates that perhaps a singular decision tree can fail in truly capturing its impact, whereas a random forest can highlight the improvement of including this variable a bit better. "
   ]
  }
 ],
 "metadata": {
  "kernelspec": {
   "display_name": "Python 3 (ipykernel)",
   "language": "python",
   "name": "python3"
  },
  "language_info": {
   "codemirror_mode": {
    "name": "ipython",
    "version": 3
   },
   "file_extension": ".py",
   "mimetype": "text/x-python",
   "name": "python",
   "nbconvert_exporter": "python",
   "pygments_lexer": "ipython3",
   "version": "3.11.4"
  }
 },
 "nbformat": 4,
 "nbformat_minor": 5
}
