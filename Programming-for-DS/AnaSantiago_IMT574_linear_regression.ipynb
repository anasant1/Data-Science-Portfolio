{
 "cells": [
  {
   "cell_type": "markdown",
   "id": "9f9507ba",
   "metadata": {},
   "source": [
    "# 2.10 Assignment 2: Linear Regression and Gradient Descent\n",
    "\n",
    "[Problem 1](#Problem-1)\n",
    "\n",
    "[Problem 2](#Problem-2) "
   ]
  },
  {
   "cell_type": "markdown",
   "id": "e9fd966b",
   "metadata": {},
   "source": [
    "### Libraries"
   ]
  },
  {
   "cell_type": "code",
   "execution_count": 28,
   "id": "562bedb7",
   "metadata": {},
   "outputs": [],
   "source": [
    "import pandas as pd\n",
    "import numpy as np\n",
    "import matplotlib.pyplot as plt\n",
    "import seaborn as sns\n",
    "import statsmodels.api as sm\n",
    "\n",
    "from sklearn.model_selection import train_test_split\n",
    "from sklearn.linear_model import LinearRegression\n",
    "from sklearn.metrics import mean_absolute_error, mean_squared_error"
   ]
  },
  {
   "cell_type": "code",
   "execution_count": 51,
   "id": "b7177289",
   "metadata": {},
   "outputs": [
    {
     "name": "stdout",
     "output_type": "stream",
     "text": [
      "Collecting xlrd\n",
      "  Obtaining dependency information for xlrd from https://files.pythonhosted.org/packages/a6/0c/c2a72d51fe56e08a08acc85d13013558a2d793028ae7385448a6ccdfae64/xlrd-2.0.1-py2.py3-none-any.whl.metadata\n",
      "  Downloading xlrd-2.0.1-py2.py3-none-any.whl.metadata (3.4 kB)\n",
      "Downloading xlrd-2.0.1-py2.py3-none-any.whl (96 kB)\n",
      "\u001b[2K   \u001b[90m━━━━━━━━━━━━━━━━━━━━━━━━━━━━━━━━━━━━━━━━\u001b[0m \u001b[32m96.5/96.5 kB\u001b[0m \u001b[31m2.9 MB/s\u001b[0m eta \u001b[36m0:00:00\u001b[0m\n",
      "\u001b[?25hInstalling collected packages: xlrd\n",
      "Successfully installed xlrd-2.0.1\n"
     ]
    }
   ],
   "source": [
    "!pip install xlrd"
   ]
  },
  {
   "cell_type": "markdown",
   "id": "66ecb841",
   "metadata": {},
   "source": [
    "# Problem 1\n",
    "\n",
    "## Part A \n",
    "Use a linear regression model to predict the number of customers each airline serves from its length of the flight and daily flight time per plane.\n",
    "\n",
    "Report your model (linear equation).\n",
    "\n",
    "What is your predicted value for the number of customers served for a flight that is 200 miles in length and has a daily flight time per plane of 7.2 hours? "
   ]
  },
  {
   "cell_type": "code",
   "execution_count": 7,
   "id": "ed603c6e",
   "metadata": {},
   "outputs": [
    {
     "data": {
      "text/html": [
       "<div>\n",
       "<style scoped>\n",
       "    .dataframe tbody tr th:only-of-type {\n",
       "        vertical-align: middle;\n",
       "    }\n",
       "\n",
       "    .dataframe tbody tr th {\n",
       "        vertical-align: top;\n",
       "    }\n",
       "\n",
       "    .dataframe thead th {\n",
       "        text-align: right;\n",
       "    }\n",
       "</style>\n",
       "<table border=\"1\" class=\"dataframe\">\n",
       "  <thead>\n",
       "    <tr style=\"text-align: right;\">\n",
       "      <th></th>\n",
       "      <th>airline</th>\n",
       "      <th>length_flight</th>\n",
       "      <th>plane_speed</th>\n",
       "      <th>daily_flight_time_pplane</th>\n",
       "      <th>pop_served</th>\n",
       "      <th>total_op_cost</th>\n",
       "      <th>revenue_tons_per_aircraft_mile</th>\n",
       "      <th>ton-mile_load_factor</th>\n",
       "      <th>capacity</th>\n",
       "      <th>total_assets</th>\n",
       "      <th>investments_special_funds</th>\n",
       "      <th>adjusted_assets</th>\n",
       "    </tr>\n",
       "  </thead>\n",
       "  <tbody>\n",
       "    <tr>\n",
       "      <th>0</th>\n",
       "      <td>All American</td>\n",
       "      <td>57</td>\n",
       "      <td>133</td>\n",
       "      <td>6.10</td>\n",
       "      <td>20200</td>\n",
       "      <td>116.3</td>\n",
       "      <td>0.96</td>\n",
       "      <td>0.400</td>\n",
       "      <td>2.400</td>\n",
       "      <td>21.13</td>\n",
       "      <td>3.21</td>\n",
       "      <td>17.92</td>\n",
       "    </tr>\n",
       "    <tr>\n",
       "      <th>1</th>\n",
       "      <td>American</td>\n",
       "      <td>270</td>\n",
       "      <td>216</td>\n",
       "      <td>6.93</td>\n",
       "      <td>56928</td>\n",
       "      <td>43.0</td>\n",
       "      <td>3.98</td>\n",
       "      <td>0.689</td>\n",
       "      <td>5.776</td>\n",
       "      <td>1436.53</td>\n",
       "      <td>165.22</td>\n",
       "      <td>1271.31</td>\n",
       "    </tr>\n",
       "    <tr>\n",
       "      <th>2</th>\n",
       "      <td>Bonanza</td>\n",
       "      <td>100</td>\n",
       "      <td>140</td>\n",
       "      <td>4.45</td>\n",
       "      <td>183</td>\n",
       "      <td>141.5</td>\n",
       "      <td>0.79</td>\n",
       "      <td>0.358</td>\n",
       "      <td>2.207</td>\n",
       "      <td>6.65</td>\n",
       "      <td>0.01</td>\n",
       "      <td>6.64</td>\n",
       "    </tr>\n",
       "    <tr>\n",
       "      <th>3</th>\n",
       "      <td>Braniff</td>\n",
       "      <td>176</td>\n",
       "      <td>182</td>\n",
       "      <td>6.60</td>\n",
       "      <td>11869</td>\n",
       "      <td>50.6</td>\n",
       "      <td>2.57</td>\n",
       "      <td>0.557</td>\n",
       "      <td>4.614</td>\n",
       "      <td>160.30</td>\n",
       "      <td>5.81</td>\n",
       "      <td>154.49</td>\n",
       "    </tr>\n",
       "    <tr>\n",
       "      <th>4</th>\n",
       "      <td>Capital</td>\n",
       "      <td>142</td>\n",
       "      <td>167</td>\n",
       "      <td>7.47</td>\n",
       "      <td>41097</td>\n",
       "      <td>51.0</td>\n",
       "      <td>2.68</td>\n",
       "      <td>0.510</td>\n",
       "      <td>5.255</td>\n",
       "      <td>195.02</td>\n",
       "      <td>6.06</td>\n",
       "      <td>188.96</td>\n",
       "    </tr>\n",
       "  </tbody>\n",
       "</table>\n",
       "</div>"
      ],
      "text/plain": [
       "        airline  length_flight  plane_speed  daily_flight_time_pplane  \\\n",
       "0  All American             57          133                      6.10   \n",
       "1      American            270          216                      6.93   \n",
       "2       Bonanza            100          140                      4.45   \n",
       "3       Braniff            176          182                      6.60   \n",
       "4       Capital            142          167                      7.47   \n",
       "\n",
       "   pop_served  total_op_cost  revenue_tons_per_aircraft_mile  \\\n",
       "0       20200          116.3                            0.96   \n",
       "1       56928           43.0                            3.98   \n",
       "2         183          141.5                            0.79   \n",
       "3       11869           50.6                            2.57   \n",
       "4       41097           51.0                            2.68   \n",
       "\n",
       "   ton-mile_load_factor  capacity  total_assets  investments_special_funds  \\\n",
       "0                 0.400     2.400         21.13                       3.21   \n",
       "1                 0.689     5.776       1436.53                     165.22   \n",
       "2                 0.358     2.207          6.65                       0.01   \n",
       "3                 0.557     4.614        160.30                       5.81   \n",
       "4                 0.510     5.255        195.02                       6.06   \n",
       "\n",
       "   adjusted_assets  \n",
       "0            17.92  \n",
       "1          1271.31  \n",
       "2             6.64  \n",
       "3           154.49  \n",
       "4           188.96  "
      ]
     },
     "execution_count": 7,
     "metadata": {},
     "output_type": "execute_result"
    }
   ],
   "source": [
    "#set column names\n",
    "column_names = ['airline', 'length_flight', 'plane_speed', 'daily_flight_time_pplane', 'pop_served', \n",
    "                'total_op_cost', 'revenue_tons_per_aircraft_mile', 'ton-mile_load_factor', 'capacity', \n",
    "                'total_assets', 'investments_special_funds', 'adjusted_assets']\n",
    "\n",
    "#load data\n",
    "airline_data = pd.read_csv('Assignment 2—Problem 1_ airline_costs.csv', header = None, names = column_names)\n",
    "airline_data.head()"
   ]
  },
  {
   "cell_type": "code",
   "execution_count": 8,
   "id": "db6d1b88",
   "metadata": {},
   "outputs": [
    {
     "data": {
      "text/plain": [
       "airline                           False\n",
       "length_flight                     False\n",
       "plane_speed                       False\n",
       "daily_flight_time_pplane          False\n",
       "pop_served                        False\n",
       "total_op_cost                     False\n",
       "revenue_tons_per_aircraft_mile    False\n",
       "ton-mile_load_factor              False\n",
       "capacity                          False\n",
       "total_assets                      False\n",
       "investments_special_funds         False\n",
       "adjusted_assets                   False\n",
       "dtype: bool"
      ]
     },
     "execution_count": 8,
     "metadata": {},
     "output_type": "execute_result"
    }
   ],
   "source": [
    "#check for missing values\n",
    "airline_data.isnull().any()"
   ]
  },
  {
   "cell_type": "code",
   "execution_count": 9,
   "id": "0f433fc9",
   "metadata": {},
   "outputs": [
    {
     "data": {
      "text/plain": [
       "airline                            object\n",
       "length_flight                       int64\n",
       "plane_speed                         int64\n",
       "daily_flight_time_pplane          float64\n",
       "pop_served                          int64\n",
       "total_op_cost                     float64\n",
       "revenue_tons_per_aircraft_mile    float64\n",
       "ton-mile_load_factor              float64\n",
       "capacity                          float64\n",
       "total_assets                      float64\n",
       "investments_special_funds         float64\n",
       "adjusted_assets                   float64\n",
       "dtype: object"
      ]
     },
     "execution_count": 9,
     "metadata": {},
     "output_type": "execute_result"
    }
   ],
   "source": [
    "#check data types\n",
    "airline_data.dtypes"
   ]
  },
  {
   "cell_type": "code",
   "execution_count": 10,
   "id": "3909b90e",
   "metadata": {},
   "outputs": [
    {
     "data": {
      "text/html": [
       "<div>\n",
       "<style scoped>\n",
       "    .dataframe tbody tr th:only-of-type {\n",
       "        vertical-align: middle;\n",
       "    }\n",
       "\n",
       "    .dataframe tbody tr th {\n",
       "        vertical-align: top;\n",
       "    }\n",
       "\n",
       "    .dataframe thead th {\n",
       "        text-align: right;\n",
       "    }\n",
       "</style>\n",
       "<table border=\"1\" class=\"dataframe\">\n",
       "  <thead>\n",
       "    <tr style=\"text-align: right;\">\n",
       "      <th></th>\n",
       "      <th>length_flight</th>\n",
       "      <th>plane_speed</th>\n",
       "      <th>daily_flight_time_pplane</th>\n",
       "      <th>pop_served</th>\n",
       "      <th>total_op_cost</th>\n",
       "      <th>revenue_tons_per_aircraft_mile</th>\n",
       "      <th>ton-mile_load_factor</th>\n",
       "      <th>capacity</th>\n",
       "      <th>total_assets</th>\n",
       "      <th>investments_special_funds</th>\n",
       "      <th>adjusted_assets</th>\n",
       "    </tr>\n",
       "  </thead>\n",
       "  <tbody>\n",
       "    <tr>\n",
       "      <th>count</th>\n",
       "      <td>31.000000</td>\n",
       "      <td>31.000000</td>\n",
       "      <td>31.000000</td>\n",
       "      <td>31.000000</td>\n",
       "      <td>31.000000</td>\n",
       "      <td>31.000000</td>\n",
       "      <td>31.000000</td>\n",
       "      <td>31.000000</td>\n",
       "      <td>31.000000</td>\n",
       "      <td>31.000000</td>\n",
       "      <td>31.000000</td>\n",
       "    </tr>\n",
       "    <tr>\n",
       "      <th>mean</th>\n",
       "      <td>129.096774</td>\n",
       "      <td>161.258065</td>\n",
       "      <td>6.463226</td>\n",
       "      <td>14491.967742</td>\n",
       "      <td>113.506452</td>\n",
       "      <td>1.732258</td>\n",
       "      <td>0.476290</td>\n",
       "      <td>3.306806</td>\n",
       "      <td>215.310968</td>\n",
       "      <td>20.312581</td>\n",
       "      <td>194.998387</td>\n",
       "    </tr>\n",
       "    <tr>\n",
       "      <th>std</th>\n",
       "      <td>73.212638</td>\n",
       "      <td>26.851403</td>\n",
       "      <td>1.549586</td>\n",
       "      <td>16824.247836</td>\n",
       "      <td>142.704637</td>\n",
       "      <td>1.191852</td>\n",
       "      <td>0.139171</td>\n",
       "      <td>1.689303</td>\n",
       "      <td>402.655569</td>\n",
       "      <td>48.770618</td>\n",
       "      <td>357.849189</td>\n",
       "    </tr>\n",
       "    <tr>\n",
       "      <th>min</th>\n",
       "      <td>45.000000</td>\n",
       "      <td>116.000000</td>\n",
       "      <td>2.350000</td>\n",
       "      <td>183.000000</td>\n",
       "      <td>42.300000</td>\n",
       "      <td>0.070000</td>\n",
       "      <td>0.166000</td>\n",
       "      <td>0.422000</td>\n",
       "      <td>2.030000</td>\n",
       "      <td>0.010000</td>\n",
       "      <td>1.410000</td>\n",
       "    </tr>\n",
       "    <tr>\n",
       "      <th>25%</th>\n",
       "      <td>71.000000</td>\n",
       "      <td>141.500000</td>\n",
       "      <td>5.865000</td>\n",
       "      <td>2500.000000</td>\n",
       "      <td>50.800000</td>\n",
       "      <td>0.800000</td>\n",
       "      <td>0.399000</td>\n",
       "      <td>2.119500</td>\n",
       "      <td>13.230000</td>\n",
       "      <td>0.025000</td>\n",
       "      <td>13.220000</td>\n",
       "    </tr>\n",
       "    <tr>\n",
       "      <th>50%</th>\n",
       "      <td>100.000000</td>\n",
       "      <td>150.000000</td>\n",
       "      <td>6.600000</td>\n",
       "      <td>6500.000000</td>\n",
       "      <td>75.400000</td>\n",
       "      <td>1.190000</td>\n",
       "      <td>0.505000</td>\n",
       "      <td>2.405000</td>\n",
       "      <td>21.600000</td>\n",
       "      <td>2.110000</td>\n",
       "      <td>19.100000</td>\n",
       "    </tr>\n",
       "    <tr>\n",
       "      <th>75%</th>\n",
       "      <td>174.500000</td>\n",
       "      <td>181.500000</td>\n",
       "      <td>7.260000</td>\n",
       "      <td>19100.000000</td>\n",
       "      <td>120.750000</td>\n",
       "      <td>2.680000</td>\n",
       "      <td>0.568500</td>\n",
       "      <td>4.598000</td>\n",
       "      <td>167.310000</td>\n",
       "      <td>5.935000</td>\n",
       "      <td>159.810000</td>\n",
       "    </tr>\n",
       "    <tr>\n",
       "      <th>max</th>\n",
       "      <td>293.000000</td>\n",
       "      <td>216.000000</td>\n",
       "      <td>9.500000</td>\n",
       "      <td>56928.000000</td>\n",
       "      <td>820.900000</td>\n",
       "      <td>4.300000</td>\n",
       "      <td>0.689000</td>\n",
       "      <td>7.544000</td>\n",
       "      <td>1436.530000</td>\n",
       "      <td>187.840000</td>\n",
       "      <td>1271.310000</td>\n",
       "    </tr>\n",
       "  </tbody>\n",
       "</table>\n",
       "</div>"
      ],
      "text/plain": [
       "       length_flight  plane_speed  daily_flight_time_pplane    pop_served  \\\n",
       "count      31.000000    31.000000                 31.000000     31.000000   \n",
       "mean      129.096774   161.258065                  6.463226  14491.967742   \n",
       "std        73.212638    26.851403                  1.549586  16824.247836   \n",
       "min        45.000000   116.000000                  2.350000    183.000000   \n",
       "25%        71.000000   141.500000                  5.865000   2500.000000   \n",
       "50%       100.000000   150.000000                  6.600000   6500.000000   \n",
       "75%       174.500000   181.500000                  7.260000  19100.000000   \n",
       "max       293.000000   216.000000                  9.500000  56928.000000   \n",
       "\n",
       "       total_op_cost  revenue_tons_per_aircraft_mile  ton-mile_load_factor  \\\n",
       "count      31.000000                       31.000000             31.000000   \n",
       "mean      113.506452                        1.732258              0.476290   \n",
       "std       142.704637                        1.191852              0.139171   \n",
       "min        42.300000                        0.070000              0.166000   \n",
       "25%        50.800000                        0.800000              0.399000   \n",
       "50%        75.400000                        1.190000              0.505000   \n",
       "75%       120.750000                        2.680000              0.568500   \n",
       "max       820.900000                        4.300000              0.689000   \n",
       "\n",
       "        capacity  total_assets  investments_special_funds  adjusted_assets  \n",
       "count  31.000000     31.000000                  31.000000        31.000000  \n",
       "mean    3.306806    215.310968                  20.312581       194.998387  \n",
       "std     1.689303    402.655569                  48.770618       357.849189  \n",
       "min     0.422000      2.030000                   0.010000         1.410000  \n",
       "25%     2.119500     13.230000                   0.025000        13.220000  \n",
       "50%     2.405000     21.600000                   2.110000        19.100000  \n",
       "75%     4.598000    167.310000                   5.935000       159.810000  \n",
       "max     7.544000   1436.530000                 187.840000      1271.310000  "
      ]
     },
     "execution_count": 10,
     "metadata": {},
     "output_type": "execute_result"
    }
   ],
   "source": [
    "#check for unusual values\n",
    "airline_data.describe()"
   ]
  },
  {
   "cell_type": "code",
   "execution_count": 17,
   "id": "2705eb26",
   "metadata": {},
   "outputs": [
    {
     "data": {
      "text/plain": [
       "<Axes: >"
      ]
     },
     "execution_count": 17,
     "metadata": {},
     "output_type": "execute_result"
    },
    {
     "data": {
      "image/png": "[encoded data removed]",
      "text/plain": [
       "<Figure size 2000x500 with 1 Axes>"
      ]
     },
     "metadata": {},
     "output_type": "display_data"
    }
   ],
   "source": [
    "#plot distribution to look for outliers\n",
    "plt.figure(figsize = (20,5))\n",
    "sns.boxplot(data = airline_data)"
   ]
  },
  {
   "cell_type": "code",
   "execution_count": 22,
   "id": "de4def89",
   "metadata": {},
   "outputs": [
    {
     "data": {
      "text/plain": [
       "<seaborn.axisgrid.FacetGrid at 0x16bcefb90>"
      ]
     },
     "execution_count": 22,
     "metadata": {},
     "output_type": "execute_result"
    },
    {
     "data": {
      "image/png": "[encoded data removed]",
      "text/plain": [
       "<Figure size 500x500 with 1 Axes>"
      ]
     },
     "metadata": {},
     "output_type": "display_data"
    }
   ],
   "source": [
    "#examine variable with significant outliers\n",
    "sns.displot(data = airline_data, x='pop_served')"
   ]
  },
  {
   "cell_type": "code",
   "execution_count": 21,
   "id": "2197a777",
   "metadata": {},
   "outputs": [
    {
     "data": {
      "text/plain": [
       "count       31.000000\n",
       "mean     14491.967742\n",
       "std      16824.247836\n",
       "min        183.000000\n",
       "25%       2500.000000\n",
       "50%       6500.000000\n",
       "75%      19100.000000\n",
       "max      56928.000000\n",
       "Name: pop_served, dtype: float64"
      ]
     },
     "execution_count": 21,
     "metadata": {},
     "output_type": "execute_result"
    }
   ],
   "source": [
    "airline_data['pop_served'].describe()"
   ]
  },
  {
   "cell_type": "code",
   "execution_count": 41,
   "id": "a9021569",
   "metadata": {},
   "outputs": [],
   "source": [
    "#ended up not using transformed data\n",
    "#transform pop_served values since data isn't normally distributed and outliers may affect model\n",
    "#airline_data['pop_served_sqrt'] = np.sqrt(airline_data['pop_served'])\n",
    "#airline_data.head()"
   ]
  },
  {
   "cell_type": "code",
   "execution_count": 40,
   "id": "8338fd31",
   "metadata": {},
   "outputs": [],
   "source": [
    "#examine variable with significant outliers\n",
    "#sns.displot(data = airline_data, x='pop_served_log')"
   ]
  },
  {
   "cell_type": "code",
   "execution_count": 32,
   "id": "1518bc17",
   "metadata": {},
   "outputs": [
    {
     "name": "stdout",
     "output_type": "stream",
     "text": [
      "mean absolute error: 6826.055317877811\n",
      "mean squared error: 71583858.70850961\n",
      "r squared: -1.449116272724876\n"
     ]
    }
   ],
   "source": [
    "#feature selection\n",
    "X = airline_data[['length_flight', 'daily_flight_time_pplane']]\n",
    "y = airline_data['pop_served']\n",
    "\n",
    "#split data\n",
    "X_train, X_test, y_train, y_test = train_test_split(X, y, test_size = 0.3, random_state = 11)\n",
    "\n",
    "#train model\n",
    "linreg_model = LinearRegression()\n",
    "linreg_model.fit(X_train, y_train)\n",
    "\n",
    "#evaluate model, make predictions\n",
    "y_pred = linreg_model.predict(X_test)\n",
    "#calculate mean abs error and mean sq error as the outliers may cause the mse to penalize more heavily than mae\n",
    "mean_abs_error = mean_absolute_error(y_test, y_pred)\n",
    "mean_sq_error = mean_squared_error(y_test, y_pred)\n",
    "r_sq = linreg_model.score(X_test, y_test)\n",
    "\n",
    "\n",
    "print('mean absolute error:', mean_abs_error)\n",
    "print('mean squared error:', mean_sq_error)\n",
    "print('r squared:', r_sq)"
   ]
  },
  {
   "cell_type": "code",
   "execution_count": 31,
   "id": "15470d13",
   "metadata": {},
   "outputs": [
    {
     "data": {
      "image/png": "[encoded data removed]",
      "text/plain": [
       "<Figure size 640x480 with 1 Axes>"
      ]
     },
     "metadata": {},
     "output_type": "display_data"
    }
   ],
   "source": [
    "#plot residuals\n",
    "linreg_residuals = y_test - y_pred\n",
    "sns.scatterplot(x = y_pred, y = linreg_residuals)\n",
    "plt.title('residuals plot')\n",
    "plt.xlabel('predictions')\n",
    "plt.ylabel('residuals')\n",
    "plt.show()"
   ]
  },
  {
   "cell_type": "code",
   "execution_count": 34,
   "id": "a5d22bd2",
   "metadata": {},
   "outputs": [
    {
     "name": "stdout",
     "output_type": "stream",
     "text": [
      "coefficients: [192.97263752 -53.50477332]\n",
      "intercept: -8283.430070633887\n"
     ]
    }
   ],
   "source": [
    "#print coefficients to write linear equation\n",
    "print('coefficients:', linreg_model.coef_)\n",
    "\n",
    "#print intercept too\n",
    "print('intercept:', linreg_model.intercept_)"
   ]
  },
  {
   "cell_type": "markdown",
   "id": "17d42d96",
   "metadata": {},
   "source": [
    "model linear equation to report model: \n",
    "\n",
    "pop_served = (192.97263752) * length_flight + (-53.50477332) * daily_flight_time_pplane"
   ]
  },
  {
   "cell_type": "code",
   "execution_count": 39,
   "id": "e7ff4013",
   "metadata": {},
   "outputs": [
    {
     "name": "stdout",
     "output_type": "stream",
     "text": [
      "predicted number of customers for a 200 mile flight with a 7.2 hour duration: 38209.0\n"
     ]
    }
   ],
   "source": [
    "#What is your predicted value for the number of customers served for a flight that is 200 miles in length \n",
    "#and has a daily flight time per plane of 7.2 hours?\n",
    "predicted_value = (192.97263752 * 200) + (-53.50477332 * 7.2)\n",
    "print('predicted number of customers for a 200 mile flight with a 7.2 hour duration:', round(predicted_value, 0))"
   ]
  },
  {
   "cell_type": "markdown",
   "id": "3280d0c9",
   "metadata": {},
   "source": [
    "## Part B\n",
    "Next, build another regression model to predict the total assets of an airline from the customer served by the airline.\n",
    "\n",
    "Once again, report your model.\n",
    "\n",
    "What is your prediction for total assets for an airline, given they serve 20,300,000 customers? "
   ]
  },
  {
   "cell_type": "code",
   "execution_count": 42,
   "id": "aa07bf44",
   "metadata": {},
   "outputs": [
    {
     "name": "stdout",
     "output_type": "stream",
     "text": [
      "mean absolute error: 65.91731508796808\n",
      "mean squared error: 6817.721686658331\n",
      "r squared: -0.8071945284741511\n"
     ]
    }
   ],
   "source": [
    "#new feature selection\n",
    "X2 = airline_data[['pop_served']]\n",
    "y2 = airline_data['total_assets']\n",
    "\n",
    "#split data\n",
    "X2_train, X2_test, y2_train, y2_test = train_test_split(X2, y2, test_size = 0.3, random_state = 11)\n",
    "\n",
    "#train model\n",
    "linreg_model2 = LinearRegression()\n",
    "linreg_model2.fit(X2_train, y2_train)\n",
    "\n",
    "#evaluate model, make predictions\n",
    "y2_pred = linreg_model2.predict(X2_test)\n",
    "#calculate mean abs error and mean sq error as the outliers may cause the mse to penalize more heavily than mae\n",
    "mean_abs_error2 = mean_absolute_error(y2_test, y2_pred)\n",
    "mean_sq_error2 = mean_squared_error(y2_test, y2_pred)\n",
    "r_sq2 = linreg_model2.score(X2_test, y2_test)\n",
    "\n",
    "\n",
    "print('mean absolute error:', mean_abs_error2)\n",
    "print('mean squared error:', mean_sq_error2)\n",
    "print('r squared:', r_sq2)"
   ]
  },
  {
   "cell_type": "code",
   "execution_count": 45,
   "id": "4fb9278c",
   "metadata": {},
   "outputs": [
    {
     "name": "stdout",
     "output_type": "stream",
     "text": [
      "coefficient: [0.0222308]\n",
      "intercept: -111.31642407744249\n"
     ]
    }
   ],
   "source": [
    "#print coefficients to write linear equation\n",
    "print('coefficient:', linreg_model2.coef_)\n",
    "\n",
    "#print intercept too\n",
    "print('intercept:', linreg_model2.intercept_)"
   ]
  },
  {
   "cell_type": "code",
   "execution_count": 47,
   "id": "38fe6265",
   "metadata": {},
   "outputs": [
    {
     "data": {
      "image/png": "[encoded data removed]",
      "text/plain": [
       "<Figure size 640x480 with 1 Axes>"
      ]
     },
     "metadata": {},
     "output_type": "display_data"
    }
   ],
   "source": [
    "#plot residuals\n",
    "linreg_residuals2 = y2_test - y2_pred\n",
    "sns.scatterplot(x = y2_pred, y = linreg_residuals2)\n",
    "plt.title('residuals plot')\n",
    "plt.xlabel('predictions')\n",
    "plt.ylabel('residuals')\n",
    "plt.show()"
   ]
  },
  {
   "cell_type": "markdown",
   "id": "ce15d2a4",
   "metadata": {},
   "source": [
    "Linear equation to report model:\n",
    "\n",
    "total_assets = (0.0222308) * pop_served"
   ]
  },
  {
   "cell_type": "code",
   "execution_count": 48,
   "id": "108a3bd9",
   "metadata": {},
   "outputs": [
    {
     "name": "stdout",
     "output_type": "stream",
     "text": [
      "total asset prediction based on 20,300,000 customers: 451.28524\n"
     ]
    }
   ],
   "source": [
    "#What is your prediction for total assets for an airline, given they serve 20,300,000 customers?\n",
    "\n",
    "#convert 20,300,000 to 20,300 since the number in pop_served is supposed to be converted to thousands \n",
    "total_asset_pred = (0.0222308) * 20300\n",
    "\n",
    "print('total asset prediction based on 20,300,000 customers:', total_asset_pred)"
   ]
  },
  {
   "cell_type": "markdown",
   "id": "d981f1f7",
   "metadata": {},
   "source": [
    "# Problem 2\n",
    "Use the gradient descent algorithm to predict the optimal intercept and gradient for this problem. Report your gradient values."
   ]
  },
  {
   "cell_type": "code",
   "execution_count": 53,
   "id": "e8b2105a",
   "metadata": {
    "scrolled": true
   },
   "outputs": [
    {
     "name": "stdout",
     "output_type": "stream",
     "text": [
      "*** No CODEPAGE record, no encoding_override: will use 'iso-8859-1'\n"
     ]
    },
    {
     "data": {
      "text/html": [
       "<div>\n",
       "<style scoped>\n",
       "    .dataframe tbody tr th:only-of-type {\n",
       "        vertical-align: middle;\n",
       "    }\n",
       "\n",
       "    .dataframe tbody tr th {\n",
       "        vertical-align: top;\n",
       "    }\n",
       "\n",
       "    .dataframe thead th {\n",
       "        text-align: right;\n",
       "    }\n",
       "</style>\n",
       "<table border=\"1\" class=\"dataframe\">\n",
       "  <thead>\n",
       "    <tr style=\"text-align: right;\">\n",
       "      <th></th>\n",
       "      <th>X</th>\n",
       "      <th>Y</th>\n",
       "    </tr>\n",
       "  </thead>\n",
       "  <tbody>\n",
       "    <tr>\n",
       "      <th>0</th>\n",
       "      <td>609</td>\n",
       "      <td>241</td>\n",
       "    </tr>\n",
       "    <tr>\n",
       "      <th>1</th>\n",
       "      <td>629</td>\n",
       "      <td>222</td>\n",
       "    </tr>\n",
       "    <tr>\n",
       "      <th>2</th>\n",
       "      <td>620</td>\n",
       "      <td>233</td>\n",
       "    </tr>\n",
       "    <tr>\n",
       "      <th>3</th>\n",
       "      <td>564</td>\n",
       "      <td>207</td>\n",
       "    </tr>\n",
       "    <tr>\n",
       "      <th>4</th>\n",
       "      <td>645</td>\n",
       "      <td>247</td>\n",
       "    </tr>\n",
       "  </tbody>\n",
       "</table>\n",
       "</div>"
      ],
      "text/plain": [
       "     X    Y\n",
       "0  609  241\n",
       "1  629  222\n",
       "2  620  233\n",
       "3  564  207\n",
       "4  645  247"
      ]
     },
     "execution_count": 53,
     "metadata": {},
     "output_type": "execute_result"
    }
   ],
   "source": [
    "kangaroo_data = pd.read_excel('Assignment 2—Problem 2_ kangaroo’s nasal dimension data.xls', engine = 'xlrd')\n",
    "kangaroo_data.head()"
   ]
  },
  {
   "cell_type": "code",
   "execution_count": 54,
   "id": "b1d4cc2a",
   "metadata": {},
   "outputs": [
    {
     "data": {
      "text/plain": [
       "45"
      ]
     },
     "execution_count": 54,
     "metadata": {},
     "output_type": "execute_result"
    }
   ],
   "source": [
    "len(kangaroo_data)"
   ]
  },
  {
   "cell_type": "code",
   "execution_count": 60,
   "id": "83879b1e",
   "metadata": {},
   "outputs": [
    {
     "name": "stdout",
     "output_type": "stream",
     "text": [
      "best intercept: -3.6269011709497196e+194\n",
      "best gradient: -2.537394764134362e+197\n"
     ]
    }
   ],
   "source": [
    "#defining data\n",
    "X = kangaroo_data[['X']]\n",
    "y = kangaroo_data['Y']\n",
    "\n",
    "#initializing parameters\n",
    "intercept = 0\n",
    "gradient = 0 \n",
    "learning_rate = 0.0001\n",
    "iterations = 100\n",
    "\n",
    "#determine cost function based on mean squared error formula\n",
    "def calculate_cost(X, y, intercept, gradient):\n",
    "    pred_values = intercept + gradient * X\n",
    "    return np.mean((y - pred_values) ** 2)\n",
    "\n",
    "\n",
    "#gradient descent operation\n",
    "for i in range(iterations):\n",
    "    grad_intercept = -2 * np.mean(y - (intercept + gradient * X.values.flatten()))\n",
    "    grad_gradient = -2 * np.mean((y - (intercept + gradient * X.values.flatten())) * X.values.flatten())\n",
    "    \n",
    "    #subtract and assign in one step\n",
    "    intercept -= learning_rate * grad_intercept\n",
    "    gradient -= learning_rate * grad_gradient\n",
    "    \n",
    "print('best intercept:', intercept)\n",
    "print('best gradient:', gradient)"
   ]
  },
  {
   "cell_type": "code",
   "execution_count": null,
   "id": "a9157d95",
   "metadata": {},
   "outputs": [],
   "source": []
  }
 ],
 "metadata": {
  "kernelspec": {
   "display_name": "Python 3 (ipykernel)",
   "language": "python",
   "name": "python3"
  },
  "language_info": {
   "codemirror_mode": {
    "name": "ipython",
    "version": 3
   },
   "file_extension": ".py",
   "mimetype": "text/x-python",
   "name": "python",
   "nbconvert_exporter": "python",
   "pygments_lexer": "ipython3",
   "version": "3.11.4"
  }
 },
 "nbformat": 4,
 "nbformat_minor": 5
}
