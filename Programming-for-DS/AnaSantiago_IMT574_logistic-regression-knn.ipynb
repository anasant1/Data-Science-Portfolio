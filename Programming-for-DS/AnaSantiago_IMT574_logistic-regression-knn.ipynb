{
 "cells": [
  {
   "cell_type": "markdown",
   "id": "e755e7c0",
   "metadata": {},
   "source": [
    "# 3.8 Assignment 3: Logistic Regression and K-Nearest Neighbor (KNN)\n",
    "\n",
    "[Problem 1](#Problem-1)\n",
    "\n",
    "[Problem 2](#Problem-2) "
   ]
  },
  {
   "cell_type": "markdown",
   "id": "971b580e",
   "metadata": {},
   "source": [
    "### Libraries"
   ]
  },
  {
   "cell_type": "code",
   "execution_count": 177,
   "id": "3ba9b25b",
   "metadata": {},
   "outputs": [],
   "source": [
    "import pandas as pd\n",
    "import numpy as np\n",
    "import matplotlib.pyplot as plt\n",
    "import seaborn as sns\n",
    "import statsmodels.api as sm\n",
    "from statistics import mean\n",
    "\n",
    "from scipy.stats import ttest_ind\n",
    "from scipy.stats import pearsonr\n",
    "from scipy.stats import chi2_contingency\n",
    "\n",
    "from sklearn.model_selection import train_test_split\n",
    "from sklearn.linear_model import LogisticRegression\n",
    "from sklearn.metrics import accuracy_score\n",
    "\n",
    "from sklearn.neighbors import KNeighborsClassifier"
   ]
  },
  {
   "cell_type": "markdown",
   "id": "7db93f05",
   "metadata": {},
   "source": [
    "# Problem 1\n",
    "\n",
    "An automated answer-rating site marks each post in a community forum website as “good” or “bad” based on the quality of the post. The following lists the type of qualities that the dataset contains:\n",
    "\n",
    "\n",
    "num_words:\tnumber of words in the post\n",
    "\n",
    "num_characters:\tnumber of characters in the post\n",
    "\n",
    "num_misspelled:\tnumber of misspelled words\n",
    "\n",
    "bin_end_qmark:\tif the post ends with a question mark\n",
    "\n",
    "num_interrogative:\tnumber of interrogative words in the post\n",
    "\n",
    "bin_start_small:\tif the answer starts with a lowercase letter (\"1\" means yes, otherwise no)\n",
    "\n",
    "num_sentences:\tnumber of sentences per post\n",
    "\n",
    "num_punctuations:\tnumber of punctuation symbols in the post\n",
    "\n",
    "label: the label of the post:\t(\"G\" for good and \"B\" for bad) as determined by the tool\n",
    "\n",
    "\n",
    "1. Create a logistic regression model to predict the class label from the first eight attributes of the question set.\n",
    "2. Try doing the same using two different subsets (your choice) of those eight attributes.\n",
    "\n",
    "3. Report the accuracies of each of these three models.\n",
    "4. For the two subsets that you use, provide some justification (why you chose those features in a given subset).\n",
    "\n",
    "As discussed, it is useful to report not just a single accuracy number for a given model, but either an average accuracy over many runs or a distribution of accuracies over those runs."
   ]
  },
  {
   "cell_type": "code",
   "execution_count": 4,
   "id": "c563d1fe",
   "metadata": {},
   "outputs": [
    {
     "data": {
      "text/html": [
       "<div>\n",
       "<style scoped>\n",
       "    .dataframe tbody tr th:only-of-type {\n",
       "        vertical-align: middle;\n",
       "    }\n",
       "\n",
       "    .dataframe tbody tr th {\n",
       "        vertical-align: top;\n",
       "    }\n",
       "\n",
       "    .dataframe thead th {\n",
       "        text-align: right;\n",
       "    }\n",
       "</style>\n",
       "<table border=\"1\" class=\"dataframe\">\n",
       "  <thead>\n",
       "    <tr style=\"text-align: right;\">\n",
       "      <th></th>\n",
       "      <th>S.No.</th>\n",
       "      <th>num_words</th>\n",
       "      <th>num_characters</th>\n",
       "      <th>num_misspelled</th>\n",
       "      <th>bin_end_qmark</th>\n",
       "      <th>num_interrogative</th>\n",
       "      <th>bin_start_small</th>\n",
       "      <th>num_sentences</th>\n",
       "      <th>num_punctuations</th>\n",
       "      <th>label</th>\n",
       "    </tr>\n",
       "  </thead>\n",
       "  <tbody>\n",
       "    <tr>\n",
       "      <th>0</th>\n",
       "      <td>1</td>\n",
       "      <td>10</td>\n",
       "      <td>48</td>\n",
       "      <td>2</td>\n",
       "      <td>0</td>\n",
       "      <td>0</td>\n",
       "      <td>0</td>\n",
       "      <td>2</td>\n",
       "      <td>4</td>\n",
       "      <td>B</td>\n",
       "    </tr>\n",
       "    <tr>\n",
       "      <th>1</th>\n",
       "      <td>2</td>\n",
       "      <td>8</td>\n",
       "      <td>25</td>\n",
       "      <td>0</td>\n",
       "      <td>0</td>\n",
       "      <td>0</td>\n",
       "      <td>1</td>\n",
       "      <td>1</td>\n",
       "      <td>0</td>\n",
       "      <td>B</td>\n",
       "    </tr>\n",
       "    <tr>\n",
       "      <th>2</th>\n",
       "      <td>3</td>\n",
       "      <td>20</td>\n",
       "      <td>81</td>\n",
       "      <td>0</td>\n",
       "      <td>1</td>\n",
       "      <td>19</td>\n",
       "      <td>0</td>\n",
       "      <td>1</td>\n",
       "      <td>1</td>\n",
       "      <td>B</td>\n",
       "    </tr>\n",
       "    <tr>\n",
       "      <th>3</th>\n",
       "      <td>4</td>\n",
       "      <td>9</td>\n",
       "      <td>34</td>\n",
       "      <td>1</td>\n",
       "      <td>0</td>\n",
       "      <td>1</td>\n",
       "      <td>0</td>\n",
       "      <td>1</td>\n",
       "      <td>2</td>\n",
       "      <td>B</td>\n",
       "    </tr>\n",
       "    <tr>\n",
       "      <th>4</th>\n",
       "      <td>5</td>\n",
       "      <td>18</td>\n",
       "      <td>69</td>\n",
       "      <td>3</td>\n",
       "      <td>0</td>\n",
       "      <td>1</td>\n",
       "      <td>0</td>\n",
       "      <td>1</td>\n",
       "      <td>0</td>\n",
       "      <td>B</td>\n",
       "    </tr>\n",
       "  </tbody>\n",
       "</table>\n",
       "</div>"
      ],
      "text/plain": [
       "   S.No.  num_words  num_characters  num_misspelled  bin_end_qmark  \\\n",
       "0      1         10              48               2              0   \n",
       "1      2          8              25               0              0   \n",
       "2      3         20              81               0              1   \n",
       "3      4          9              34               1              0   \n",
       "4      5         18              69               3              0   \n",
       "\n",
       "   num_interrogative  bin_start_small  num_sentences  num_punctuations label  \n",
       "0                  0                0              2                 4     B  \n",
       "1                  0                1              1                 0     B  \n",
       "2                 19                0              1                 1     B  \n",
       "3                  1                0              1                 2     B  \n",
       "4                  1                0              1                 0     B  "
      ]
     },
     "execution_count": 4,
     "metadata": {},
     "output_type": "execute_result"
    }
   ],
   "source": [
    "#load data\n",
    "post_data = pd.read_csv('Problem 1—quality.csv')\n",
    "post_data.head()"
   ]
  },
  {
   "cell_type": "code",
   "execution_count": 5,
   "id": "703cb0c5",
   "metadata": {},
   "outputs": [
    {
     "data": {
      "text/plain": [
       "S.No.                False\n",
       "num_words            False\n",
       "num_characters       False\n",
       "num_misspelled       False\n",
       "bin_end_qmark        False\n",
       "num_interrogative    False\n",
       "bin_start_small      False\n",
       "num_sentences        False\n",
       "num_punctuations     False\n",
       "label                False\n",
       "dtype: bool"
      ]
     },
     "execution_count": 5,
     "metadata": {},
     "output_type": "execute_result"
    }
   ],
   "source": [
    "#check for null values\n",
    "post_data.isnull().any()"
   ]
  },
  {
   "cell_type": "code",
   "execution_count": 7,
   "id": "2431b4fc",
   "metadata": {},
   "outputs": [
    {
     "data": {
      "text/html": [
       "<div>\n",
       "<style scoped>\n",
       "    .dataframe tbody tr th:only-of-type {\n",
       "        vertical-align: middle;\n",
       "    }\n",
       "\n",
       "    .dataframe tbody tr th {\n",
       "        vertical-align: top;\n",
       "    }\n",
       "\n",
       "    .dataframe thead th {\n",
       "        text-align: right;\n",
       "    }\n",
       "</style>\n",
       "<table border=\"1\" class=\"dataframe\">\n",
       "  <thead>\n",
       "    <tr style=\"text-align: right;\">\n",
       "      <th></th>\n",
       "      <th>S.No.</th>\n",
       "      <th>num_words</th>\n",
       "      <th>num_characters</th>\n",
       "      <th>num_misspelled</th>\n",
       "      <th>bin_end_qmark</th>\n",
       "      <th>num_interrogative</th>\n",
       "      <th>bin_start_small</th>\n",
       "      <th>num_sentences</th>\n",
       "      <th>num_punctuations</th>\n",
       "    </tr>\n",
       "  </thead>\n",
       "  <tbody>\n",
       "    <tr>\n",
       "      <th>count</th>\n",
       "      <td>28.000000</td>\n",
       "      <td>28.000000</td>\n",
       "      <td>28.000000</td>\n",
       "      <td>28.000000</td>\n",
       "      <td>28.000000</td>\n",
       "      <td>28.000000</td>\n",
       "      <td>28.000000</td>\n",
       "      <td>28.000000</td>\n",
       "      <td>28.000000</td>\n",
       "    </tr>\n",
       "    <tr>\n",
       "      <th>mean</th>\n",
       "      <td>257.500000</td>\n",
       "      <td>26.285714</td>\n",
       "      <td>120.500000</td>\n",
       "      <td>3.035714</td>\n",
       "      <td>0.142857</td>\n",
       "      <td>1.392857</td>\n",
       "      <td>0.142857</td>\n",
       "      <td>2.571429</td>\n",
       "      <td>5.392857</td>\n",
       "    </tr>\n",
       "    <tr>\n",
       "      <th>std</th>\n",
       "      <td>254.620633</td>\n",
       "      <td>34.332640</td>\n",
       "      <td>162.859744</td>\n",
       "      <td>5.620611</td>\n",
       "      <td>0.356348</td>\n",
       "      <td>3.520725</td>\n",
       "      <td>0.356348</td>\n",
       "      <td>2.936722</td>\n",
       "      <td>9.897023</td>\n",
       "    </tr>\n",
       "    <tr>\n",
       "      <th>min</th>\n",
       "      <td>1.000000</td>\n",
       "      <td>0.000000</td>\n",
       "      <td>17.000000</td>\n",
       "      <td>0.000000</td>\n",
       "      <td>0.000000</td>\n",
       "      <td>0.000000</td>\n",
       "      <td>0.000000</td>\n",
       "      <td>1.000000</td>\n",
       "      <td>0.000000</td>\n",
       "    </tr>\n",
       "    <tr>\n",
       "      <th>25%</th>\n",
       "      <td>7.750000</td>\n",
       "      <td>9.000000</td>\n",
       "      <td>43.250000</td>\n",
       "      <td>0.000000</td>\n",
       "      <td>0.000000</td>\n",
       "      <td>0.000000</td>\n",
       "      <td>0.000000</td>\n",
       "      <td>1.000000</td>\n",
       "      <td>0.000000</td>\n",
       "    </tr>\n",
       "    <tr>\n",
       "      <th>50%</th>\n",
       "      <td>257.500000</td>\n",
       "      <td>13.500000</td>\n",
       "      <td>62.500000</td>\n",
       "      <td>1.000000</td>\n",
       "      <td>0.000000</td>\n",
       "      <td>1.000000</td>\n",
       "      <td>0.000000</td>\n",
       "      <td>1.000000</td>\n",
       "      <td>2.000000</td>\n",
       "    </tr>\n",
       "    <tr>\n",
       "      <th>75%</th>\n",
       "      <td>507.250000</td>\n",
       "      <td>26.500000</td>\n",
       "      <td>119.500000</td>\n",
       "      <td>4.000000</td>\n",
       "      <td>0.000000</td>\n",
       "      <td>1.000000</td>\n",
       "      <td>0.000000</td>\n",
       "      <td>2.000000</td>\n",
       "      <td>6.250000</td>\n",
       "    </tr>\n",
       "    <tr>\n",
       "      <th>max</th>\n",
       "      <td>514.000000</td>\n",
       "      <td>169.000000</td>\n",
       "      <td>831.000000</td>\n",
       "      <td>26.000000</td>\n",
       "      <td>1.000000</td>\n",
       "      <td>19.000000</td>\n",
       "      <td>1.000000</td>\n",
       "      <td>13.000000</td>\n",
       "      <td>48.000000</td>\n",
       "    </tr>\n",
       "  </tbody>\n",
       "</table>\n",
       "</div>"
      ],
      "text/plain": [
       "            S.No.   num_words  num_characters  num_misspelled  bin_end_qmark  \\\n",
       "count   28.000000   28.000000       28.000000       28.000000      28.000000   \n",
       "mean   257.500000   26.285714      120.500000        3.035714       0.142857   \n",
       "std    254.620633   34.332640      162.859744        5.620611       0.356348   \n",
       "min      1.000000    0.000000       17.000000        0.000000       0.000000   \n",
       "25%      7.750000    9.000000       43.250000        0.000000       0.000000   \n",
       "50%    257.500000   13.500000       62.500000        1.000000       0.000000   \n",
       "75%    507.250000   26.500000      119.500000        4.000000       0.000000   \n",
       "max    514.000000  169.000000      831.000000       26.000000       1.000000   \n",
       "\n",
       "       num_interrogative  bin_start_small  num_sentences  num_punctuations  \n",
       "count          28.000000        28.000000      28.000000         28.000000  \n",
       "mean            1.392857         0.142857       2.571429          5.392857  \n",
       "std             3.520725         0.356348       2.936722          9.897023  \n",
       "min             0.000000         0.000000       1.000000          0.000000  \n",
       "25%             0.000000         0.000000       1.000000          0.000000  \n",
       "50%             1.000000         0.000000       1.000000          2.000000  \n",
       "75%             1.000000         0.000000       2.000000          6.250000  \n",
       "max            19.000000         1.000000      13.000000         48.000000  "
      ]
     },
     "execution_count": 7,
     "metadata": {},
     "output_type": "execute_result"
    }
   ],
   "source": [
    "#make quick examination\n",
    "post_data.describe()"
   ]
  },
  {
   "cell_type": "code",
   "execution_count": 11,
   "id": "97e97b0b",
   "metadata": {},
   "outputs": [
    {
     "data": {
      "text/plain": [
       "S.No.                 int64\n",
       "num_words             int64\n",
       "num_characters        int64\n",
       "num_misspelled        int64\n",
       "bin_end_qmark         int64\n",
       "num_interrogative     int64\n",
       "bin_start_small       int64\n",
       "num_sentences         int64\n",
       "num_punctuations      int64\n",
       "label                object\n",
       "dtype: object"
      ]
     },
     "execution_count": 11,
     "metadata": {},
     "output_type": "execute_result"
    }
   ],
   "source": [
    "post_data.dtypes"
   ]
  },
  {
   "cell_type": "code",
   "execution_count": 12,
   "id": "da44790c",
   "metadata": {},
   "outputs": [
    {
     "data": {
      "text/plain": [
       "(28, 10)"
      ]
     },
     "execution_count": 12,
     "metadata": {},
     "output_type": "execute_result"
    }
   ],
   "source": [
    "post_data.shape"
   ]
  },
  {
   "cell_type": "code",
   "execution_count": 13,
   "id": "76debf63",
   "metadata": {},
   "outputs": [
    {
     "data": {
      "text/plain": [
       "array(['B', 'G'], dtype=object)"
      ]
     },
     "execution_count": 13,
     "metadata": {},
     "output_type": "execute_result"
    }
   ],
   "source": [
    "post_data['label'].unique()"
   ]
  },
  {
   "cell_type": "code",
   "execution_count": 15,
   "id": "b43c30e0",
   "metadata": {},
   "outputs": [
    {
     "data": {
      "text/html": [
       "<div>\n",
       "<style scoped>\n",
       "    .dataframe tbody tr th:only-of-type {\n",
       "        vertical-align: middle;\n",
       "    }\n",
       "\n",
       "    .dataframe tbody tr th {\n",
       "        vertical-align: top;\n",
       "    }\n",
       "\n",
       "    .dataframe thead th {\n",
       "        text-align: right;\n",
       "    }\n",
       "</style>\n",
       "<table border=\"1\" class=\"dataframe\">\n",
       "  <thead>\n",
       "    <tr style=\"text-align: right;\">\n",
       "      <th></th>\n",
       "      <th>S.No.</th>\n",
       "      <th>num_words</th>\n",
       "      <th>num_characters</th>\n",
       "      <th>num_misspelled</th>\n",
       "      <th>bin_end_qmark</th>\n",
       "      <th>num_interrogative</th>\n",
       "      <th>bin_start_small</th>\n",
       "      <th>num_sentences</th>\n",
       "      <th>num_punctuations</th>\n",
       "      <th>label</th>\n",
       "      <th>binary_label</th>\n",
       "    </tr>\n",
       "  </thead>\n",
       "  <tbody>\n",
       "    <tr>\n",
       "      <th>0</th>\n",
       "      <td>1</td>\n",
       "      <td>10</td>\n",
       "      <td>48</td>\n",
       "      <td>2</td>\n",
       "      <td>0</td>\n",
       "      <td>0</td>\n",
       "      <td>0</td>\n",
       "      <td>2</td>\n",
       "      <td>4</td>\n",
       "      <td>B</td>\n",
       "      <td>0</td>\n",
       "    </tr>\n",
       "    <tr>\n",
       "      <th>1</th>\n",
       "      <td>2</td>\n",
       "      <td>8</td>\n",
       "      <td>25</td>\n",
       "      <td>0</td>\n",
       "      <td>0</td>\n",
       "      <td>0</td>\n",
       "      <td>1</td>\n",
       "      <td>1</td>\n",
       "      <td>0</td>\n",
       "      <td>B</td>\n",
       "      <td>0</td>\n",
       "    </tr>\n",
       "    <tr>\n",
       "      <th>2</th>\n",
       "      <td>3</td>\n",
       "      <td>20</td>\n",
       "      <td>81</td>\n",
       "      <td>0</td>\n",
       "      <td>1</td>\n",
       "      <td>19</td>\n",
       "      <td>0</td>\n",
       "      <td>1</td>\n",
       "      <td>1</td>\n",
       "      <td>B</td>\n",
       "      <td>0</td>\n",
       "    </tr>\n",
       "    <tr>\n",
       "      <th>3</th>\n",
       "      <td>4</td>\n",
       "      <td>9</td>\n",
       "      <td>34</td>\n",
       "      <td>1</td>\n",
       "      <td>0</td>\n",
       "      <td>1</td>\n",
       "      <td>0</td>\n",
       "      <td>1</td>\n",
       "      <td>2</td>\n",
       "      <td>B</td>\n",
       "      <td>0</td>\n",
       "    </tr>\n",
       "    <tr>\n",
       "      <th>4</th>\n",
       "      <td>5</td>\n",
       "      <td>18</td>\n",
       "      <td>69</td>\n",
       "      <td>3</td>\n",
       "      <td>0</td>\n",
       "      <td>1</td>\n",
       "      <td>0</td>\n",
       "      <td>1</td>\n",
       "      <td>0</td>\n",
       "      <td>B</td>\n",
       "      <td>0</td>\n",
       "    </tr>\n",
       "  </tbody>\n",
       "</table>\n",
       "</div>"
      ],
      "text/plain": [
       "   S.No.  num_words  num_characters  num_misspelled  bin_end_qmark  \\\n",
       "0      1         10              48               2              0   \n",
       "1      2          8              25               0              0   \n",
       "2      3         20              81               0              1   \n",
       "3      4          9              34               1              0   \n",
       "4      5         18              69               3              0   \n",
       "\n",
       "   num_interrogative  bin_start_small  num_sentences  num_punctuations label  \\\n",
       "0                  0                0              2                 4     B   \n",
       "1                  0                1              1                 0     B   \n",
       "2                 19                0              1                 1     B   \n",
       "3                  1                0              1                 2     B   \n",
       "4                  1                0              1                 0     B   \n",
       "\n",
       "   binary_label  \n",
       "0             0  \n",
       "1             0  \n",
       "2             0  \n",
       "3             0  \n",
       "4             0  "
      ]
     },
     "execution_count": 15,
     "metadata": {},
     "output_type": "execute_result"
    }
   ],
   "source": [
    "#convert 'g' to 1 and 'b' to 0 to indicate good posts as 1 and bad as 0\n",
    "post_data['binary_label'] = (post_data['label'] == 'G').astype(int)\n",
    "post_data.head()"
   ]
  },
  {
   "cell_type": "code",
   "execution_count": 16,
   "id": "19f5efba",
   "metadata": {},
   "outputs": [
    {
     "data": {
      "text/html": [
       "<div>\n",
       "<style scoped>\n",
       "    .dataframe tbody tr th:only-of-type {\n",
       "        vertical-align: middle;\n",
       "    }\n",
       "\n",
       "    .dataframe tbody tr th {\n",
       "        vertical-align: top;\n",
       "    }\n",
       "\n",
       "    .dataframe thead th {\n",
       "        text-align: right;\n",
       "    }\n",
       "</style>\n",
       "<table border=\"1\" class=\"dataframe\">\n",
       "  <thead>\n",
       "    <tr style=\"text-align: right;\">\n",
       "      <th></th>\n",
       "      <th>S.No.</th>\n",
       "      <th>num_words</th>\n",
       "      <th>num_characters</th>\n",
       "      <th>num_misspelled</th>\n",
       "      <th>bin_end_qmark</th>\n",
       "      <th>num_interrogative</th>\n",
       "      <th>bin_start_small</th>\n",
       "      <th>num_sentences</th>\n",
       "      <th>num_punctuations</th>\n",
       "      <th>label</th>\n",
       "      <th>binary_label</th>\n",
       "    </tr>\n",
       "  </thead>\n",
       "  <tbody>\n",
       "    <tr>\n",
       "      <th>23</th>\n",
       "      <td>510</td>\n",
       "      <td>17</td>\n",
       "      <td>93</td>\n",
       "      <td>1</td>\n",
       "      <td>0</td>\n",
       "      <td>1</td>\n",
       "      <td>0</td>\n",
       "      <td>1</td>\n",
       "      <td>0</td>\n",
       "      <td>G</td>\n",
       "      <td>1</td>\n",
       "    </tr>\n",
       "    <tr>\n",
       "      <th>24</th>\n",
       "      <td>511</td>\n",
       "      <td>76</td>\n",
       "      <td>329</td>\n",
       "      <td>3</td>\n",
       "      <td>0</td>\n",
       "      <td>3</td>\n",
       "      <td>0</td>\n",
       "      <td>8</td>\n",
       "      <td>9</td>\n",
       "      <td>G</td>\n",
       "      <td>1</td>\n",
       "    </tr>\n",
       "    <tr>\n",
       "      <th>25</th>\n",
       "      <td>512</td>\n",
       "      <td>13</td>\n",
       "      <td>44</td>\n",
       "      <td>0</td>\n",
       "      <td>0</td>\n",
       "      <td>1</td>\n",
       "      <td>0</td>\n",
       "      <td>1</td>\n",
       "      <td>0</td>\n",
       "      <td>G</td>\n",
       "      <td>1</td>\n",
       "    </tr>\n",
       "    <tr>\n",
       "      <th>26</th>\n",
       "      <td>513</td>\n",
       "      <td>10</td>\n",
       "      <td>35</td>\n",
       "      <td>0</td>\n",
       "      <td>0</td>\n",
       "      <td>1</td>\n",
       "      <td>0</td>\n",
       "      <td>1</td>\n",
       "      <td>0</td>\n",
       "      <td>G</td>\n",
       "      <td>1</td>\n",
       "    </tr>\n",
       "    <tr>\n",
       "      <th>27</th>\n",
       "      <td>514</td>\n",
       "      <td>52</td>\n",
       "      <td>201</td>\n",
       "      <td>1</td>\n",
       "      <td>0</td>\n",
       "      <td>1</td>\n",
       "      <td>0</td>\n",
       "      <td>1</td>\n",
       "      <td>0</td>\n",
       "      <td>G</td>\n",
       "      <td>1</td>\n",
       "    </tr>\n",
       "  </tbody>\n",
       "</table>\n",
       "</div>"
      ],
      "text/plain": [
       "    S.No.  num_words  num_characters  num_misspelled  bin_end_qmark  \\\n",
       "23    510         17              93               1              0   \n",
       "24    511         76             329               3              0   \n",
       "25    512         13              44               0              0   \n",
       "26    513         10              35               0              0   \n",
       "27    514         52             201               1              0   \n",
       "\n",
       "    num_interrogative  bin_start_small  num_sentences  num_punctuations label  \\\n",
       "23                  1                0              1                 0     G   \n",
       "24                  3                0              8                 9     G   \n",
       "25                  1                0              1                 0     G   \n",
       "26                  1                0              1                 0     G   \n",
       "27                  1                0              1                 0     G   \n",
       "\n",
       "    binary_label  \n",
       "23             1  \n",
       "24             1  \n",
       "25             1  \n",
       "26             1  \n",
       "27             1  "
      ]
     },
     "execution_count": 16,
     "metadata": {},
     "output_type": "execute_result"
    }
   ],
   "source": [
    "post_data.tail()"
   ]
  },
  {
   "cell_type": "code",
   "execution_count": 25,
   "id": "c44dc4f4",
   "metadata": {},
   "outputs": [
    {
     "data": {
      "text/plain": [
       "0    14\n",
       "1    14\n",
       "Name: binary_label, dtype: int64"
      ]
     },
     "execution_count": 25,
     "metadata": {},
     "output_type": "execute_result"
    }
   ],
   "source": [
    "post_data['binary_label'].value_counts()"
   ]
  },
  {
   "cell_type": "code",
   "execution_count": 26,
   "id": "f7c92b62",
   "metadata": {},
   "outputs": [
    {
     "data": {
      "text/plain": [
       "B    14\n",
       "G    14\n",
       "Name: label, dtype: int64"
      ]
     },
     "execution_count": 26,
     "metadata": {},
     "output_type": "execute_result"
    }
   ],
   "source": [
    "post_data['label'].value_counts()"
   ]
  },
  {
   "cell_type": "code",
   "execution_count": 192,
   "id": "91e0961c",
   "metadata": {},
   "outputs": [
    {
     "data": {
      "text/html": [
       "<div>\n",
       "<style scoped>\n",
       "    .dataframe tbody tr th:only-of-type {\n",
       "        vertical-align: middle;\n",
       "    }\n",
       "\n",
       "    .dataframe tbody tr th {\n",
       "        vertical-align: top;\n",
       "    }\n",
       "\n",
       "    .dataframe thead th {\n",
       "        text-align: right;\n",
       "    }\n",
       "</style>\n",
       "<table border=\"1\" class=\"dataframe\">\n",
       "  <thead>\n",
       "    <tr style=\"text-align: right;\">\n",
       "      <th></th>\n",
       "      <th>num_words</th>\n",
       "      <th>num_characters</th>\n",
       "      <th>num_misspelled</th>\n",
       "      <th>bin_end_qmark</th>\n",
       "      <th>num_interrogative</th>\n",
       "      <th>bin_start_small</th>\n",
       "      <th>num_sentences</th>\n",
       "      <th>num_punctuations</th>\n",
       "      <th>binary_label</th>\n",
       "    </tr>\n",
       "  </thead>\n",
       "  <tbody>\n",
       "    <tr>\n",
       "      <th>num_words</th>\n",
       "      <td>1.000000</td>\n",
       "      <td>0.991933</td>\n",
       "      <td>0.504916</td>\n",
       "      <td>-0.103360</td>\n",
       "      <td>0.034886</td>\n",
       "      <td>-0.157852</td>\n",
       "      <td>0.923278</td>\n",
       "      <td>0.885496</td>\n",
       "      <td>0.408902</td>\n",
       "    </tr>\n",
       "    <tr>\n",
       "      <th>num_characters</th>\n",
       "      <td>0.991933</td>\n",
       "      <td>1.000000</td>\n",
       "      <td>0.555957</td>\n",
       "      <td>-0.123808</td>\n",
       "      <td>0.013597</td>\n",
       "      <td>-0.141039</td>\n",
       "      <td>0.926325</td>\n",
       "      <td>0.908482</td>\n",
       "      <td>0.366690</td>\n",
       "    </tr>\n",
       "    <tr>\n",
       "      <th>num_misspelled</th>\n",
       "      <td>0.504916</td>\n",
       "      <td>0.555957</td>\n",
       "      <td>1.000000</td>\n",
       "      <td>-0.224543</td>\n",
       "      <td>-0.118648</td>\n",
       "      <td>0.367193</td>\n",
       "      <td>0.505823</td>\n",
       "      <td>0.562345</td>\n",
       "      <td>-0.071178</td>\n",
       "    </tr>\n",
       "    <tr>\n",
       "      <th>bin_end_qmark</th>\n",
       "      <td>-0.103360</td>\n",
       "      <td>-0.123808</td>\n",
       "      <td>-0.224543</td>\n",
       "      <td>1.000000</td>\n",
       "      <td>0.455465</td>\n",
       "      <td>-0.166667</td>\n",
       "      <td>-0.187069</td>\n",
       "      <td>-0.174027</td>\n",
       "      <td>-0.204124</td>\n",
       "    </tr>\n",
       "    <tr>\n",
       "      <th>num_interrogative</th>\n",
       "      <td>0.034886</td>\n",
       "      <td>0.013597</td>\n",
       "      <td>-0.118648</td>\n",
       "      <td>0.455465</td>\n",
       "      <td>1.000000</td>\n",
       "      <td>-0.075911</td>\n",
       "      <td>-0.029681</td>\n",
       "      <td>-0.061991</td>\n",
       "      <td>-0.113632</td>\n",
       "    </tr>\n",
       "    <tr>\n",
       "      <th>bin_start_small</th>\n",
       "      <td>-0.157852</td>\n",
       "      <td>-0.141039</td>\n",
       "      <td>0.367193</td>\n",
       "      <td>-0.166667</td>\n",
       "      <td>-0.075911</td>\n",
       "      <td>1.000000</td>\n",
       "      <td>-0.116286</td>\n",
       "      <td>-0.132021</td>\n",
       "      <td>-0.204124</td>\n",
       "    </tr>\n",
       "    <tr>\n",
       "      <th>num_sentences</th>\n",
       "      <td>0.923278</td>\n",
       "      <td>0.926325</td>\n",
       "      <td>0.505823</td>\n",
       "      <td>-0.187069</td>\n",
       "      <td>-0.029681</td>\n",
       "      <td>-0.116286</td>\n",
       "      <td>1.000000</td>\n",
       "      <td>0.894189</td>\n",
       "      <td>0.371533</td>\n",
       "    </tr>\n",
       "    <tr>\n",
       "      <th>num_punctuations</th>\n",
       "      <td>0.885496</td>\n",
       "      <td>0.908482</td>\n",
       "      <td>0.562345</td>\n",
       "      <td>-0.174027</td>\n",
       "      <td>-0.061991</td>\n",
       "      <td>-0.132021</td>\n",
       "      <td>0.894189</td>\n",
       "      <td>1.000000</td>\n",
       "      <td>0.216814</td>\n",
       "    </tr>\n",
       "    <tr>\n",
       "      <th>binary_label</th>\n",
       "      <td>0.408902</td>\n",
       "      <td>0.366690</td>\n",
       "      <td>-0.071178</td>\n",
       "      <td>-0.204124</td>\n",
       "      <td>-0.113632</td>\n",
       "      <td>-0.204124</td>\n",
       "      <td>0.371533</td>\n",
       "      <td>0.216814</td>\n",
       "      <td>1.000000</td>\n",
       "    </tr>\n",
       "  </tbody>\n",
       "</table>\n",
       "</div>"
      ],
      "text/plain": [
       "                   num_words  num_characters  num_misspelled  bin_end_qmark  \\\n",
       "num_words           1.000000        0.991933        0.504916      -0.103360   \n",
       "num_characters      0.991933        1.000000        0.555957      -0.123808   \n",
       "num_misspelled      0.504916        0.555957        1.000000      -0.224543   \n",
       "bin_end_qmark      -0.103360       -0.123808       -0.224543       1.000000   \n",
       "num_interrogative   0.034886        0.013597       -0.118648       0.455465   \n",
       "bin_start_small    -0.157852       -0.141039        0.367193      -0.166667   \n",
       "num_sentences       0.923278        0.926325        0.505823      -0.187069   \n",
       "num_punctuations    0.885496        0.908482        0.562345      -0.174027   \n",
       "binary_label        0.408902        0.366690       -0.071178      -0.204124   \n",
       "\n",
       "                   num_interrogative  bin_start_small  num_sentences  \\\n",
       "num_words                   0.034886        -0.157852       0.923278   \n",
       "num_characters              0.013597        -0.141039       0.926325   \n",
       "num_misspelled             -0.118648         0.367193       0.505823   \n",
       "bin_end_qmark               0.455465        -0.166667      -0.187069   \n",
       "num_interrogative           1.000000        -0.075911      -0.029681   \n",
       "bin_start_small            -0.075911         1.000000      -0.116286   \n",
       "num_sentences              -0.029681        -0.116286       1.000000   \n",
       "num_punctuations           -0.061991        -0.132021       0.894189   \n",
       "binary_label               -0.113632        -0.204124       0.371533   \n",
       "\n",
       "                   num_punctuations  binary_label  \n",
       "num_words                  0.885496      0.408902  \n",
       "num_characters             0.908482      0.366690  \n",
       "num_misspelled             0.562345     -0.071178  \n",
       "bin_end_qmark             -0.174027     -0.204124  \n",
       "num_interrogative         -0.061991     -0.113632  \n",
       "bin_start_small           -0.132021     -0.204124  \n",
       "num_sentences              0.894189      0.371533  \n",
       "num_punctuations           1.000000      0.216814  \n",
       "binary_label               0.216814      1.000000  "
      ]
     },
     "execution_count": 192,
     "metadata": {},
     "output_type": "execute_result"
    }
   ],
   "source": [
    "#inspect correlation values\n",
    "data_corr = post_data.copy()\n",
    "data_corr = data_corr.drop(columns=['S.No.', 'constant'])\n",
    "correlation = data_corr.corr(numeric_only = True)\n",
    "\n",
    "correlation"
   ]
  },
  {
   "cell_type": "code",
   "execution_count": 119,
   "id": "0def6525",
   "metadata": {},
   "outputs": [
    {
     "data": {
      "image/png": "[encoded data removed]",
      "text/plain": [
       "<Figure size 1000x1000 with 2 Axes>"
      ]
     },
     "metadata": {},
     "output_type": "display_data"
    }
   ],
   "source": [
    "#visualize correlation\n",
    "plt.figure(figsize = (10,10))\n",
    "sns.heatmap(correlation, cmap = 'BuPu', annot = True)\n",
    "plt.title('correlation visualization')\n",
    "plt.show()"
   ]
  },
  {
   "cell_type": "code",
   "execution_count": 142,
   "id": "4cc724f0",
   "metadata": {},
   "outputs": [
    {
     "name": "stdout",
     "output_type": "stream",
     "text": [
      "Results for continuous variables: \n",
      "             variable  correlation_coefficient   p_value\n",
      "0          num_words                 0.408902  0.030733\n",
      "1     num_characters                 0.366690  0.054942\n",
      "2     num_misspelled                -0.071178  0.718903\n",
      "3  num_interrogative                -0.113632  0.564792\n",
      "4      num_sentences                 0.371533  0.051576\n",
      "5   num_punctuations                 0.216814  0.267771\n",
      "Most significant variable(s): \n",
      "     variable  correlation_coefficient   p_value\n",
      "0  num_words                 0.408902  0.030733\n"
     ]
    }
   ],
   "source": [
    "#set continuous variables to loop through\n",
    "cont_var = ['num_words', 'num_characters', 'num_misspelled', 'num_interrogative', 'num_sentences', 'num_punctuations']\n",
    "\n",
    "#initialize list to store corr_coef and p-values\n",
    "corr_pvalue_results = []\n",
    "\n",
    "#loop through variables and perform corr test\n",
    "for variable in cont_var:\n",
    "    correlation_coefficient, p_value = pearsonr(post_data[variable], post_data['binary_label'])\n",
    "    \n",
    "    corr_pvalue_results.append({'variable': variable, 'correlation_coefficient': correlation_coefficient, 'p_value': p_value})\n",
    "\n",
    "#turn list to df\n",
    "results_df = pd.DataFrame(corr_pvalue_results)\n",
    "    \n",
    "print('Results for continuous variables: \\n', results_df)\n",
    "\n",
    "print('Most significant variable(s): \\n', results_df.loc[results_df['p_value'] <= .05])"
   ]
  },
  {
   "cell_type": "code",
   "execution_count": 141,
   "id": "0694e01d",
   "metadata": {},
   "outputs": [
    {
     "name": "stdout",
     "output_type": "stream",
     "text": [
      "Results for categorical variables: \n",
      "           variable      chi2   p_value  dof                    expected\n",
      "0    bin_end_qmark  0.291667  0.589154    1  [[12.0, 12.0], [2.0, 2.0]]\n",
      "1  bin_start_small  0.291667  0.589154    1  [[12.0, 12.0], [2.0, 2.0]]\n"
     ]
    }
   ],
   "source": [
    "#chi-test\n",
    "#set categorical values to loop through\n",
    "cat_var = ['bin_end_qmark', 'bin_start_small']\n",
    "\n",
    "#initialize list to store t-test and p-values\n",
    "chi_results = []\n",
    "\n",
    "#loop through variables and perform chi test\n",
    "for variable in cat_var:\n",
    "    chi2_stat, p_value, dof, expected = chi2_contingency(pd.crosstab(post_data[variable], post_data['binary_label']))\n",
    "    \n",
    "    chi_results.append({'variable': variable, 'chi2': chi2_stat, 'p_value': p_value, 'dof': dof, 'expected': expected})\n",
    "\n",
    "#turn list to df\n",
    "chi_results_df = pd.DataFrame(chi_results)\n",
    "    \n",
    "print('Results for categorical variables: \\n', chi_results_df)"
   ]
  },
  {
   "cell_type": "code",
   "execution_count": 115,
   "id": "82f95c31",
   "metadata": {},
   "outputs": [
    {
     "data": {
      "text/plain": [
       "Index(['S.No.', 'num_words', 'num_characters', 'num_misspelled',\n",
       "       'bin_end_qmark', 'num_interrogative', 'bin_start_small',\n",
       "       'num_sentences', 'num_punctuations', 'label', 'binary_label',\n",
       "       'constant'],\n",
       "      dtype='object')"
      ]
     },
     "execution_count": 115,
     "metadata": {},
     "output_type": "execute_result"
    }
   ],
   "source": [
    "#gather column names for feature selection\n",
    "post_data.columns"
   ]
  },
  {
   "cell_type": "markdown",
   "id": "93850eeb",
   "metadata": {},
   "source": [
    "### Logistic Regression Models with all 8 attributes (3 iterations)"
   ]
  },
  {
   "cell_type": "code",
   "execution_count": 197,
   "id": "d4f7fd5c",
   "metadata": {},
   "outputs": [
    {
     "name": "stderr",
     "output_type": "stream",
     "text": [
      "/Users/anasantiago/anaconda3/lib/python3.11/site-packages/sklearn/linear_model/_logistic.py:460: ConvergenceWarning: lbfgs failed to converge (status=1):\n",
      "STOP: TOTAL NO. of ITERATIONS REACHED LIMIT.\n",
      "\n",
      "Increase the number of iterations (max_iter) or scale the data as shown in:\n",
      "    https://scikit-learn.org/stable/modules/preprocessing.html\n",
      "Please also refer to the documentation for alternative solver options:\n",
      "    https://scikit-learn.org/stable/modules/linear_model.html#logistic-regression\n",
      "  n_iter_i = _check_optimize_result(\n",
      "/Users/anasantiago/anaconda3/lib/python3.11/site-packages/sklearn/linear_model/_logistic.py:460: ConvergenceWarning: lbfgs failed to converge (status=1):\n",
      "STOP: TOTAL NO. of ITERATIONS REACHED LIMIT.\n",
      "\n",
      "Increase the number of iterations (max_iter) or scale the data as shown in:\n",
      "    https://scikit-learn.org/stable/modules/preprocessing.html\n",
      "Please also refer to the documentation for alternative solver options:\n",
      "    https://scikit-learn.org/stable/modules/linear_model.html#logistic-regression\n",
      "  n_iter_i = _check_optimize_result(\n"
     ]
    },
    {
     "data": {
      "text/plain": [
       "0.62"
      ]
     },
     "execution_count": 197,
     "metadata": {},
     "output_type": "execute_result"
    }
   ],
   "source": [
    "#add a constant\n",
    "post_data['constant'] = 1\n",
    "\n",
    "#feature selection\n",
    "X = post_data[['constant', 'num_words', 'num_characters', 'num_misspelled', 'bin_end_qmark', \n",
    "               'num_interrogative', 'bin_start_small', 'num_sentences', 'num_punctuations']]\n",
    "\n",
    "y = post_data['binary_label']\n",
    "\n",
    "#set list of test_size and random_seed\n",
    "test_sizes = [0.2, 0.3, 0.5]\n",
    "random_states = [11, 27, 30]\n",
    "\n",
    "#create list for accuracy score\n",
    "accuracy_scores_all_attributes = []\n",
    "\n",
    "#loop through test_sizes, random_states\n",
    "for test_size, random_state in zip(test_sizes, random_states):\n",
    "    X_train, X_test, y_train, y_test = train_test_split(X, y, test_size = test_size, random_state = random_state)\n",
    "    logreg = LogisticRegression()\n",
    "    logreg.fit(X_train, y_train)\n",
    "    y_probabilities = logreg.predict(X_test)\n",
    "    accuracy_scores_all_attributes.append(accuracy_score(y_test, y_probabilities))\n",
    "\n",
    "#calculate avg accuracy score\n",
    "avg_accuracy_all_attributes = round(sum(accuracy_scores_all_attributes) / len(accuracy_scores_all_attributes),2)\n",
    "avg_accuracy_all_attributes"
   ]
  },
  {
   "cell_type": "markdown",
   "id": "6a774985",
   "metadata": {},
   "source": [
    "## Models w/2 variables of my choosing"
   ]
  },
  {
   "cell_type": "markdown",
   "id": "281da573",
   "metadata": {},
   "source": [
    "Based on the previous t-test and chi-squared tests I calculated, I concluded the following:\n",
    "\n",
    "It seems the only variable that has statistical significance from the set of attributes is num_words, so my first model with 2 variables will include this column as well as num_sentences, since that is the second variable that has a p-value around 0.05.\n",
    "\n",
    "My second model will feature num_interrogative and num_charatcers since num_characters has a slightly bigger p-value but is still very close to .05, as is num_interrogative. \n",
    "\n",
    "I decided to not use either of the categorical variables because their chi2 statistic is relatively small, and their p-values are bigger than .05, so I can't reject the null hypothesis of these variables not having statistical significance/association with the label. "
   ]
  },
  {
   "cell_type": "markdown",
   "id": "4b077511",
   "metadata": {},
   "source": [
    "### Logreg subset 1 with variables: 'num_sentences', 'num_words'"
   ]
  },
  {
   "cell_type": "code",
   "execution_count": 139,
   "id": "b1cae2ac",
   "metadata": {},
   "outputs": [
    {
     "data": {
      "text/plain": [
       "0.62"
      ]
     },
     "execution_count": 139,
     "metadata": {},
     "output_type": "execute_result"
    }
   ],
   "source": [
    "#feature selection\n",
    "X1 = post_data[['constant','num_sentences', 'num_words']]\n",
    "\n",
    "y1 = post_data['binary_label']\n",
    "\n",
    "#setting list of test_size and random_seed\n",
    "test_sizes = [0.2, 0.3, 0.5]\n",
    "random_states = [11, 27, 30]\n",
    "\n",
    "#create list for accuracy score\n",
    "accuracy_scores_sent_punct = []\n",
    "\n",
    "#loop through test_sizes, random_states\n",
    "for test_size, random_state in zip(test_sizes, random_states):\n",
    "    X_train, X_test, y_train, y_test = train_test_split(X1, y1, test_size = test_size, random_state = random_state)\n",
    "    logreg = LogisticRegression()\n",
    "    logreg.fit(X_train, y_train)\n",
    "    y_probabilities = logreg.predict(X_test)\n",
    "    accuracy_scores_sent_punct.append(accuracy_score(y_test, y_probabilities))\n",
    "\n",
    "#calculate avg accuracy score\n",
    "avg_accuracy_sent_punct = round(sum(accuracy_scores_sent_punct) / len(accuracy_scores_sent_punct),2)\n",
    "avg_accuracy_sent_punct"
   ]
  },
  {
   "cell_type": "markdown",
   "id": "4a0ef85d",
   "metadata": {},
   "source": [
    "### Logreg subset 2 with variables: 'num_interrogative', 'num_characters'"
   ]
  },
  {
   "cell_type": "code",
   "execution_count": 140,
   "id": "aa8351d0",
   "metadata": {},
   "outputs": [
    {
     "data": {
      "text/plain": [
       "0.54"
      ]
     },
     "execution_count": 140,
     "metadata": {},
     "output_type": "execute_result"
    }
   ],
   "source": [
    "#feature selection\n",
    "X2 = post_data[['constant','num_interrogative', 'num_characters']]\n",
    "\n",
    "y2 = post_data['binary_label']\n",
    "\n",
    "#setting list of test_size and random_seed\n",
    "test_sizes = [0.2, 0.3, 0.5]\n",
    "random_states = [11, 27, 30]\n",
    "\n",
    "#create list for accuracy score\n",
    "accuracy_scores_words_char = []\n",
    "\n",
    "#loop through test_sizes, random_states\n",
    "for test_size, random_state in zip(test_sizes, random_states):\n",
    "    X_train, X_test, y_train, y_test = train_test_split(X2, y2, test_size = test_size, random_state = random_state)\n",
    "    logreg = LogisticRegression()\n",
    "    logreg.fit(X_train, y_train)\n",
    "    y_probabilities = logreg.predict(X_test)\n",
    "    accuracy_scores_words_char.append(accuracy_score(y_test, y_probabilities))\n",
    "\n",
    "#calculate avg accuracy score\n",
    "avg_accuracy_words_char = round(sum(accuracy_scores_words_char) / len(accuracy_scores_words_char),2)\n",
    "avg_accuracy_words_char"
   ]
  },
  {
   "cell_type": "markdown",
   "id": "0267e142",
   "metadata": {},
   "source": [
    "### Average model accuracy scores:"
   ]
  },
  {
   "cell_type": "code",
   "execution_count": 147,
   "id": "a56b8bcc",
   "metadata": {},
   "outputs": [
    {
     "name": "stdout",
     "output_type": "stream",
     "text": [
      "Average accuracy for models with all 8 attributes: 0.62\n",
      "Model with num_sentences, and num_words: 0.62\n",
      "Model with num_interrogative, and num_characters: 0.54\n"
     ]
    }
   ],
   "source": [
    "#print all 3 models' accuracy scores:\n",
    "print('Average accuracy for models with all 8 attributes:', avg_accuracy_all_attributes)\n",
    "print('Model with num_sentences, and num_words:', avg_accuracy_sent_punct)\n",
    "print('Model with num_interrogative, and num_characters:', avg_accuracy_words_char)"
   ]
  },
  {
   "cell_type": "markdown",
   "id": "eda630c6",
   "metadata": {},
   "source": [
    "# Problem 2\n",
    "First, do some experiments (trial-and-error) to figure out a good subset of features to use for learning wine quality (last column). Report these features.\n",
    "\n",
    "Then, use 70% data for training to build a kNN classifier with different values of k ranging from 2–10.\n",
    "\n",
    "Plot your accuracies with each of these. In other words, your final result will be a line chart with k on the x-axis and accuracy on the y-axis"
   ]
  },
  {
   "cell_type": "code",
   "execution_count": 148,
   "id": "d3667e6a",
   "metadata": {},
   "outputs": [],
   "source": [
    "wine_data = pd.read_csv('Problem 2—wine dataset.csv')"
   ]
  },
  {
   "cell_type": "code",
   "execution_count": 149,
   "id": "cbbd3dc1",
   "metadata": {},
   "outputs": [
    {
     "data": {
      "text/html": [
       "<div>\n",
       "<style scoped>\n",
       "    .dataframe tbody tr th:only-of-type {\n",
       "        vertical-align: middle;\n",
       "    }\n",
       "\n",
       "    .dataframe tbody tr th {\n",
       "        vertical-align: top;\n",
       "    }\n",
       "\n",
       "    .dataframe thead th {\n",
       "        text-align: right;\n",
       "    }\n",
       "</style>\n",
       "<table border=\"1\" class=\"dataframe\">\n",
       "  <thead>\n",
       "    <tr style=\"text-align: right;\">\n",
       "      <th></th>\n",
       "      <th>fixed_acidity</th>\n",
       "      <th>volatile_acidity</th>\n",
       "      <th>citric_acid</th>\n",
       "      <th>residual_sugar</th>\n",
       "      <th>chlorides</th>\n",
       "      <th>free_sulfur_dioxide</th>\n",
       "      <th>total_sulfur_dioxide</th>\n",
       "      <th>density</th>\n",
       "      <th>pH</th>\n",
       "      <th>sulphates</th>\n",
       "      <th>alcohol</th>\n",
       "      <th>quality</th>\n",
       "      <th>color</th>\n",
       "      <th>is_red</th>\n",
       "      <th>high_quality</th>\n",
       "    </tr>\n",
       "  </thead>\n",
       "  <tbody>\n",
       "    <tr>\n",
       "      <th>0</th>\n",
       "      <td>7.4</td>\n",
       "      <td>0.70</td>\n",
       "      <td>0.00</td>\n",
       "      <td>1.9</td>\n",
       "      <td>0.076</td>\n",
       "      <td>11.0</td>\n",
       "      <td>34.0</td>\n",
       "      <td>0.9978</td>\n",
       "      <td>3.51</td>\n",
       "      <td>0.56</td>\n",
       "      <td>9.4</td>\n",
       "      <td>5</td>\n",
       "      <td>red</td>\n",
       "      <td>1.0</td>\n",
       "      <td>0.0</td>\n",
       "    </tr>\n",
       "    <tr>\n",
       "      <th>1</th>\n",
       "      <td>7.8</td>\n",
       "      <td>0.88</td>\n",
       "      <td>0.00</td>\n",
       "      <td>2.6</td>\n",
       "      <td>0.098</td>\n",
       "      <td>25.0</td>\n",
       "      <td>67.0</td>\n",
       "      <td>0.9968</td>\n",
       "      <td>3.20</td>\n",
       "      <td>0.68</td>\n",
       "      <td>9.8</td>\n",
       "      <td>5</td>\n",
       "      <td>red</td>\n",
       "      <td>1.0</td>\n",
       "      <td>0.0</td>\n",
       "    </tr>\n",
       "    <tr>\n",
       "      <th>2</th>\n",
       "      <td>7.8</td>\n",
       "      <td>0.76</td>\n",
       "      <td>0.04</td>\n",
       "      <td>2.3</td>\n",
       "      <td>0.092</td>\n",
       "      <td>15.0</td>\n",
       "      <td>54.0</td>\n",
       "      <td>0.9970</td>\n",
       "      <td>3.26</td>\n",
       "      <td>0.65</td>\n",
       "      <td>9.8</td>\n",
       "      <td>5</td>\n",
       "      <td>red</td>\n",
       "      <td>1.0</td>\n",
       "      <td>0.0</td>\n",
       "    </tr>\n",
       "    <tr>\n",
       "      <th>3</th>\n",
       "      <td>11.2</td>\n",
       "      <td>0.28</td>\n",
       "      <td>0.56</td>\n",
       "      <td>1.9</td>\n",
       "      <td>0.075</td>\n",
       "      <td>17.0</td>\n",
       "      <td>60.0</td>\n",
       "      <td>0.9980</td>\n",
       "      <td>3.16</td>\n",
       "      <td>0.58</td>\n",
       "      <td>9.8</td>\n",
       "      <td>6</td>\n",
       "      <td>red</td>\n",
       "      <td>1.0</td>\n",
       "      <td>0.0</td>\n",
       "    </tr>\n",
       "    <tr>\n",
       "      <th>4</th>\n",
       "      <td>7.4</td>\n",
       "      <td>0.70</td>\n",
       "      <td>0.00</td>\n",
       "      <td>1.9</td>\n",
       "      <td>0.076</td>\n",
       "      <td>11.0</td>\n",
       "      <td>34.0</td>\n",
       "      <td>0.9978</td>\n",
       "      <td>3.51</td>\n",
       "      <td>0.56</td>\n",
       "      <td>9.4</td>\n",
       "      <td>5</td>\n",
       "      <td>red</td>\n",
       "      <td>1.0</td>\n",
       "      <td>0.0</td>\n",
       "    </tr>\n",
       "  </tbody>\n",
       "</table>\n",
       "</div>"
      ],
      "text/plain": [
       "   fixed_acidity  volatile_acidity  citric_acid  residual_sugar  chlorides  \\\n",
       "0            7.4              0.70         0.00             1.9      0.076   \n",
       "1            7.8              0.88         0.00             2.6      0.098   \n",
       "2            7.8              0.76         0.04             2.3      0.092   \n",
       "3           11.2              0.28         0.56             1.9      0.075   \n",
       "4            7.4              0.70         0.00             1.9      0.076   \n",
       "\n",
       "   free_sulfur_dioxide  total_sulfur_dioxide  density    pH  sulphates  \\\n",
       "0                 11.0                  34.0   0.9978  3.51       0.56   \n",
       "1                 25.0                  67.0   0.9968  3.20       0.68   \n",
       "2                 15.0                  54.0   0.9970  3.26       0.65   \n",
       "3                 17.0                  60.0   0.9980  3.16       0.58   \n",
       "4                 11.0                  34.0   0.9978  3.51       0.56   \n",
       "\n",
       "   alcohol  quality color  is_red  high_quality  \n",
       "0      9.4        5   red     1.0           0.0  \n",
       "1      9.8        5   red     1.0           0.0  \n",
       "2      9.8        5   red     1.0           0.0  \n",
       "3      9.8        6   red     1.0           0.0  \n",
       "4      9.4        5   red     1.0           0.0  "
      ]
     },
     "execution_count": 149,
     "metadata": {},
     "output_type": "execute_result"
    }
   ],
   "source": [
    "wine_data.head()"
   ]
  },
  {
   "cell_type": "code",
   "execution_count": 159,
   "id": "ee533654",
   "metadata": {},
   "outputs": [],
   "source": [
    "#check for missing data -none missing\n",
    "#wine_data.isnull().any()"
   ]
  },
  {
   "cell_type": "code",
   "execution_count": 158,
   "id": "d416cf84",
   "metadata": {},
   "outputs": [],
   "source": [
    "#check data types -everything is float/int type\n",
    "#wine_data.dtypes"
   ]
  },
  {
   "cell_type": "code",
   "execution_count": 152,
   "id": "879e533a",
   "metadata": {},
   "outputs": [
    {
     "data": {
      "text/plain": [
       "array(['red', 'white'], dtype=object)"
      ]
     },
     "execution_count": 152,
     "metadata": {},
     "output_type": "execute_result"
    }
   ],
   "source": [
    "wine_data['color'].unique()"
   ]
  },
  {
   "cell_type": "code",
   "execution_count": 153,
   "id": "2f5cd8b3",
   "metadata": {},
   "outputs": [
    {
     "data": {
      "text/plain": [
       "array([1., 0.])"
      ]
     },
     "execution_count": 153,
     "metadata": {},
     "output_type": "execute_result"
    }
   ],
   "source": [
    "#ensure column is binary to indicate color\n",
    "wine_data['is_red'].unique()"
   ]
  },
  {
   "cell_type": "code",
   "execution_count": 155,
   "id": "35f5a091",
   "metadata": {},
   "outputs": [
    {
     "data": {
      "text/plain": [
       "array([0., 1.])"
      ]
     },
     "execution_count": 155,
     "metadata": {},
     "output_type": "execute_result"
    }
   ],
   "source": [
    "#ensure high_quality values are binary\n",
    "wine_data['high_quality'].unique()"
   ]
  },
  {
   "cell_type": "code",
   "execution_count": 156,
   "id": "6e15930f",
   "metadata": {},
   "outputs": [
    {
     "data": {
      "text/plain": [
       "Index(['fixed_acidity', 'volatile_acidity', 'citric_acid', 'residual_sugar',\n",
       "       'chlorides', 'free_sulfur_dioxide', 'total_sulfur_dioxide', 'density',\n",
       "       'pH', 'sulphates', 'alcohol', 'quality', 'color', 'is_red',\n",
       "       'high_quality'],\n",
       "      dtype='object')"
      ]
     },
     "execution_count": 156,
     "metadata": {},
     "output_type": "execute_result"
    }
   ],
   "source": [
    "wine_data.columns"
   ]
  },
  {
   "cell_type": "code",
   "execution_count": 157,
   "id": "0f225d0f",
   "metadata": {},
   "outputs": [
    {
     "data": {
      "text/plain": [
       "Index(['fixed_acidity', 'volatile_acidity', 'citric_acid', 'residual_sugar',\n",
       "       'chlorides', 'free_sulfur_dioxide', 'total_sulfur_dioxide', 'density',\n",
       "       'pH', 'sulphates', 'alcohol', 'quality', 'is_red', 'high_quality'],\n",
       "      dtype='object')"
      ]
     },
     "execution_count": 157,
     "metadata": {},
     "output_type": "execute_result"
    }
   ],
   "source": [
    "#drop 'color' column since values are captured by 'is_red'\n",
    "wine_quality_df = wine_data.copy()\n",
    "wine_quality_df = wine_quality_df.drop(columns = ['color'])\n",
    "wine_quality_df.columns"
   ]
  },
  {
   "cell_type": "code",
   "execution_count": 161,
   "id": "c022d4ff",
   "metadata": {},
   "outputs": [
    {
     "data": {
      "text/html": [
       "<div>\n",
       "<style scoped>\n",
       "    .dataframe tbody tr th:only-of-type {\n",
       "        vertical-align: middle;\n",
       "    }\n",
       "\n",
       "    .dataframe tbody tr th {\n",
       "        vertical-align: top;\n",
       "    }\n",
       "\n",
       "    .dataframe thead th {\n",
       "        text-align: right;\n",
       "    }\n",
       "</style>\n",
       "<table border=\"1\" class=\"dataframe\">\n",
       "  <thead>\n",
       "    <tr style=\"text-align: right;\">\n",
       "      <th></th>\n",
       "      <th>fixed_acidity</th>\n",
       "      <th>volatile_acidity</th>\n",
       "      <th>citric_acid</th>\n",
       "      <th>residual_sugar</th>\n",
       "      <th>chlorides</th>\n",
       "      <th>free_sulfur_dioxide</th>\n",
       "      <th>total_sulfur_dioxide</th>\n",
       "      <th>density</th>\n",
       "      <th>pH</th>\n",
       "      <th>sulphates</th>\n",
       "      <th>alcohol</th>\n",
       "      <th>quality</th>\n",
       "      <th>is_red</th>\n",
       "      <th>high_quality</th>\n",
       "    </tr>\n",
       "  </thead>\n",
       "  <tbody>\n",
       "    <tr>\n",
       "      <th>count</th>\n",
       "      <td>6497.000000</td>\n",
       "      <td>6497.000000</td>\n",
       "      <td>6497.000000</td>\n",
       "      <td>6497.000000</td>\n",
       "      <td>6497.000000</td>\n",
       "      <td>6497.000000</td>\n",
       "      <td>6497.000000</td>\n",
       "      <td>6497.000000</td>\n",
       "      <td>6497.000000</td>\n",
       "      <td>6497.000000</td>\n",
       "      <td>6497.000000</td>\n",
       "      <td>6497.000000</td>\n",
       "      <td>6497.000000</td>\n",
       "      <td>6497.000000</td>\n",
       "    </tr>\n",
       "    <tr>\n",
       "      <th>mean</th>\n",
       "      <td>7.215307</td>\n",
       "      <td>0.339666</td>\n",
       "      <td>0.318633</td>\n",
       "      <td>5.443235</td>\n",
       "      <td>0.056034</td>\n",
       "      <td>30.525319</td>\n",
       "      <td>115.744574</td>\n",
       "      <td>0.994697</td>\n",
       "      <td>3.218501</td>\n",
       "      <td>0.531268</td>\n",
       "      <td>10.491801</td>\n",
       "      <td>5.818378</td>\n",
       "      <td>0.246114</td>\n",
       "      <td>0.196552</td>\n",
       "    </tr>\n",
       "    <tr>\n",
       "      <th>std</th>\n",
       "      <td>1.296434</td>\n",
       "      <td>0.164636</td>\n",
       "      <td>0.145318</td>\n",
       "      <td>4.757804</td>\n",
       "      <td>0.035034</td>\n",
       "      <td>17.749400</td>\n",
       "      <td>56.521855</td>\n",
       "      <td>0.002999</td>\n",
       "      <td>0.160787</td>\n",
       "      <td>0.148806</td>\n",
       "      <td>1.192712</td>\n",
       "      <td>0.873255</td>\n",
       "      <td>0.430779</td>\n",
       "      <td>0.397421</td>\n",
       "    </tr>\n",
       "    <tr>\n",
       "      <th>min</th>\n",
       "      <td>3.800000</td>\n",
       "      <td>0.080000</td>\n",
       "      <td>0.000000</td>\n",
       "      <td>0.600000</td>\n",
       "      <td>0.009000</td>\n",
       "      <td>1.000000</td>\n",
       "      <td>6.000000</td>\n",
       "      <td>0.987110</td>\n",
       "      <td>2.720000</td>\n",
       "      <td>0.220000</td>\n",
       "      <td>8.000000</td>\n",
       "      <td>3.000000</td>\n",
       "      <td>0.000000</td>\n",
       "      <td>0.000000</td>\n",
       "    </tr>\n",
       "    <tr>\n",
       "      <th>25%</th>\n",
       "      <td>6.400000</td>\n",
       "      <td>0.230000</td>\n",
       "      <td>0.250000</td>\n",
       "      <td>1.800000</td>\n",
       "      <td>0.038000</td>\n",
       "      <td>17.000000</td>\n",
       "      <td>77.000000</td>\n",
       "      <td>0.992340</td>\n",
       "      <td>3.110000</td>\n",
       "      <td>0.430000</td>\n",
       "      <td>9.500000</td>\n",
       "      <td>5.000000</td>\n",
       "      <td>0.000000</td>\n",
       "      <td>0.000000</td>\n",
       "    </tr>\n",
       "    <tr>\n",
       "      <th>50%</th>\n",
       "      <td>7.000000</td>\n",
       "      <td>0.290000</td>\n",
       "      <td>0.310000</td>\n",
       "      <td>3.000000</td>\n",
       "      <td>0.047000</td>\n",
       "      <td>29.000000</td>\n",
       "      <td>118.000000</td>\n",
       "      <td>0.994890</td>\n",
       "      <td>3.210000</td>\n",
       "      <td>0.510000</td>\n",
       "      <td>10.300000</td>\n",
       "      <td>6.000000</td>\n",
       "      <td>0.000000</td>\n",
       "      <td>0.000000</td>\n",
       "    </tr>\n",
       "    <tr>\n",
       "      <th>75%</th>\n",
       "      <td>7.700000</td>\n",
       "      <td>0.400000</td>\n",
       "      <td>0.390000</td>\n",
       "      <td>8.100000</td>\n",
       "      <td>0.065000</td>\n",
       "      <td>41.000000</td>\n",
       "      <td>156.000000</td>\n",
       "      <td>0.996990</td>\n",
       "      <td>3.320000</td>\n",
       "      <td>0.600000</td>\n",
       "      <td>11.300000</td>\n",
       "      <td>6.000000</td>\n",
       "      <td>0.000000</td>\n",
       "      <td>0.000000</td>\n",
       "    </tr>\n",
       "    <tr>\n",
       "      <th>max</th>\n",
       "      <td>15.900000</td>\n",
       "      <td>1.580000</td>\n",
       "      <td>1.660000</td>\n",
       "      <td>65.800000</td>\n",
       "      <td>0.611000</td>\n",
       "      <td>289.000000</td>\n",
       "      <td>440.000000</td>\n",
       "      <td>1.038980</td>\n",
       "      <td>4.010000</td>\n",
       "      <td>2.000000</td>\n",
       "      <td>14.900000</td>\n",
       "      <td>9.000000</td>\n",
       "      <td>1.000000</td>\n",
       "      <td>1.000000</td>\n",
       "    </tr>\n",
       "  </tbody>\n",
       "</table>\n",
       "</div>"
      ],
      "text/plain": [
       "       fixed_acidity  volatile_acidity  citric_acid  residual_sugar  \\\n",
       "count    6497.000000       6497.000000  6497.000000     6497.000000   \n",
       "mean        7.215307          0.339666     0.318633        5.443235   \n",
       "std         1.296434          0.164636     0.145318        4.757804   \n",
       "min         3.800000          0.080000     0.000000        0.600000   \n",
       "25%         6.400000          0.230000     0.250000        1.800000   \n",
       "50%         7.000000          0.290000     0.310000        3.000000   \n",
       "75%         7.700000          0.400000     0.390000        8.100000   \n",
       "max        15.900000          1.580000     1.660000       65.800000   \n",
       "\n",
       "         chlorides  free_sulfur_dioxide  total_sulfur_dioxide      density  \\\n",
       "count  6497.000000          6497.000000           6497.000000  6497.000000   \n",
       "mean      0.056034            30.525319            115.744574     0.994697   \n",
       "std       0.035034            17.749400             56.521855     0.002999   \n",
       "min       0.009000             1.000000              6.000000     0.987110   \n",
       "25%       0.038000            17.000000             77.000000     0.992340   \n",
       "50%       0.047000            29.000000            118.000000     0.994890   \n",
       "75%       0.065000            41.000000            156.000000     0.996990   \n",
       "max       0.611000           289.000000            440.000000     1.038980   \n",
       "\n",
       "                pH    sulphates      alcohol      quality       is_red  \\\n",
       "count  6497.000000  6497.000000  6497.000000  6497.000000  6497.000000   \n",
       "mean      3.218501     0.531268    10.491801     5.818378     0.246114   \n",
       "std       0.160787     0.148806     1.192712     0.873255     0.430779   \n",
       "min       2.720000     0.220000     8.000000     3.000000     0.000000   \n",
       "25%       3.110000     0.430000     9.500000     5.000000     0.000000   \n",
       "50%       3.210000     0.510000    10.300000     6.000000     0.000000   \n",
       "75%       3.320000     0.600000    11.300000     6.000000     0.000000   \n",
       "max       4.010000     2.000000    14.900000     9.000000     1.000000   \n",
       "\n",
       "       high_quality  \n",
       "count   6497.000000  \n",
       "mean       0.196552  \n",
       "std        0.397421  \n",
       "min        0.000000  \n",
       "25%        0.000000  \n",
       "50%        0.000000  \n",
       "75%        0.000000  \n",
       "max        1.000000  "
      ]
     },
     "execution_count": 161,
     "metadata": {},
     "output_type": "execute_result"
    }
   ],
   "source": [
    "wine_quality_df.describe()"
   ]
  },
  {
   "cell_type": "code",
   "execution_count": 174,
   "id": "2b64125a",
   "metadata": {},
   "outputs": [
    {
     "data": {
      "text/plain": [
       "array([5, 6, 7, 4, 8, 3, 9])"
      ]
     },
     "execution_count": 174,
     "metadata": {},
     "output_type": "execute_result"
    }
   ],
   "source": [
    "#inspect quality column\n",
    "wine_quality_df['quality'].unique()\n",
    "\n",
    "#decided to remove this column from my analysis -although values are different, including this column\n",
    "#would likely cause issues with the model"
   ]
  },
  {
   "cell_type": "code",
   "execution_count": 175,
   "id": "b77599b9",
   "metadata": {},
   "outputs": [],
   "source": [
    "#set continuous and categorical variables for testing\n",
    "wine_cont_var = ['fixed_acidity', 'volatile_acidity', 'citric_acid', 'residual_sugar',\n",
    "       'chlorides', 'free_sulfur_dioxide', 'total_sulfur_dioxide', 'density',\n",
    "       'pH', 'sulphates', 'alcohol']\n",
    "\n",
    "wine_cat_var = ['is_red']"
   ]
  },
  {
   "cell_type": "code",
   "execution_count": 176,
   "id": "354aa31a",
   "metadata": {},
   "outputs": [
    {
     "name": "stdout",
     "output_type": "stream",
     "text": [
      "Most significant continuous variable(s): \n",
      " 0            fixed_acidity\n",
      "1         volatile_acidity\n",
      "2              citric_acid\n",
      "3           residual_sugar\n",
      "4                chlorides\n",
      "6     total_sulfur_dioxide\n",
      "7                  density\n",
      "8                       pH\n",
      "9                sulphates\n",
      "10                 alcohol\n",
      "Name: variable, dtype: object\n",
      "Results for categorical variables: \n",
      "   variable       chi2       p_value  dof  \\\n",
      "0   is_red  49.208997  2.300930e-12    1   \n",
      "\n",
      "                                            expected  \n",
      "0  [[3935.2870555641066, 962.7129444358935], [128...  \n"
     ]
    }
   ],
   "source": [
    "#initialize list to store corr_coef and p-values on cont variables\n",
    "wine_corr_pvalue_results = []\n",
    "\n",
    "#loop through variables and perform corr test\n",
    "for variable in wine_cont_var:\n",
    "    correlation_coefficient, p_value = pearsonr(wine_quality_df[variable], wine_quality_df['high_quality'])\n",
    "    \n",
    "    wine_corr_pvalue_results.append({'variable': variable, 'correlation_coefficient': correlation_coefficient, 'p_value': p_value})\n",
    "\n",
    "#turn list to df\n",
    "wine_results_df = pd.DataFrame(wine_corr_pvalue_results)\n",
    "\n",
    "\n",
    "\n",
    "#perform chi test for categorical variable\n",
    "\n",
    "#initialize list to store t-test and p-values\n",
    "wine_chi_results = []\n",
    "\n",
    "#loop through variables and perform chi test\n",
    "for variable in wine_cat_var:\n",
    "    chi2_stat, p_value, dof, expected = chi2_contingency(pd.crosstab(wine_quality_df[variable], wine_quality_df['high_quality']))\n",
    "    \n",
    "    wine_chi_results.append({'variable': variable, 'chi2': chi2_stat, 'p_value': p_value, 'dof': dof, 'expected': expected})\n",
    "\n",
    "#turn list to df\n",
    "wine_chi_results_df = pd.DataFrame(wine_chi_results)\n",
    "\n",
    "    \n",
    "#print('Results for continuous variables: \\n', wine_results_df)\n",
    "#print('Most significant continuous variable(s): \\n', wine_results_df.loc[wine_results_df['p_value'] <= .05])\n",
    "print('Most significant continuous variable(s): \\n', wine_results_df['variable'].loc[wine_results_df['p_value'] <= .05])\n",
    "\n",
    "print('Results for categorical variables: \\n', wine_chi_results_df)"
   ]
  },
  {
   "cell_type": "code",
   "execution_count": 173,
   "id": "993319df",
   "metadata": {},
   "outputs": [
    {
     "data": {
      "text/plain": [
       "(6497, 14)"
      ]
     },
     "execution_count": 173,
     "metadata": {},
     "output_type": "execute_result"
    }
   ],
   "source": [
    "wine_quality_df.shape"
   ]
  },
  {
   "cell_type": "markdown",
   "id": "972f73f6",
   "metadata": {},
   "source": [
    "A good subset of features based on their p-values from the testing above to use for learning about wine quality would be: fixed_acidity, volatile_acidity, citric_acid, residual_sugar, chlorides, total_sulfur_dioxide, density, pH, sulphates, alcohol, and is_red. "
   ]
  },
  {
   "cell_type": "code",
   "execution_count": 189,
   "id": "b30d8adb",
   "metadata": {},
   "outputs": [
    {
     "name": "stdout",
     "output_type": "stream",
     "text": [
      "    k  model_accuracy\n",
      "0   2            0.82\n",
      "1   3            0.80\n",
      "2   4            0.82\n",
      "3   5            0.81\n",
      "4   6            0.81\n",
      "5   7            0.80\n",
      "6   8            0.81\n",
      "7   9            0.81\n",
      "8  10            0.81\n"
     ]
    }
   ],
   "source": [
    "from sklearn.neighbors import KNeighborsClassifier\n",
    "\n",
    "#feature selection\n",
    "X = wine_quality_df[['fixed_acidity', 'volatile_acidity', 'citric_acid', 'residual_sugar', 'chlorides', \n",
    "               'total_sulfur_dioxide', 'density', 'pH', 'sulphates', 'alcohol', 'is_red']]\n",
    "\n",
    "y = wine_quality_df['high_quality']\n",
    "\n",
    "#setting list of different k-values\n",
    "#test_sizes = [0.2, 0.3, 0.5]\n",
    "k_values = list(range(2,11))\n",
    "\n",
    "#create list for accuracy score\n",
    "knn_accuracy = []\n",
    "\n",
    "#loop through test_sizes, random_states\n",
    "for k in k_values:\n",
    "    X_train, X_test, y_train, y_test = train_test_split(X, y, test_size = 0.3, random_state = 53)\n",
    "    knn = KNeighborsClassifier(n_neighbors = k)\n",
    "    knn.fit(X_train, y_train)\n",
    "    \n",
    "    y_preds = knn.predict(X_test)\n",
    "    \n",
    "    accuracy = round((y_preds == y_test).mean(),2)\n",
    "    \n",
    "    knn_accuracy.append((k, accuracy))\n",
    "    \n",
    "#store accuracies in df\n",
    "knn_accuracy_df = pd.DataFrame(knn_accuracy, columns = ['k', 'model_accuracy'])\n",
    "print(knn_accuracy_df)"
   ]
  },
  {
   "cell_type": "code",
   "execution_count": 191,
   "id": "81309ca3",
   "metadata": {},
   "outputs": [
    {
     "data": {
      "image/png": "[encoded data removed]",
      "text/plain": [
       "<Figure size 640x480 with 1 Axes>"
      ]
     },
     "metadata": {},
     "output_type": "display_data"
    }
   ],
   "source": [
    "sns.lineplot(data = knn_accuracy_df, x = 'k', y = 'model_accuracy')\n",
    "plt.show()"
   ]
  },
  {
   "cell_type": "markdown",
   "id": "49055588",
   "metadata": {},
   "source": [
    "Overall, the accuracy scores seem to have remained within close range across the different k values used. It seems the sweet spot for this dataset is to use 2 or 4 as the number of neighbors to obtain maximum accuracy. "
   ]
  }
 ],
 "metadata": {
  "kernelspec": {
   "display_name": "Python 3 (ipykernel)",
   "language": "python",
   "name": "python3"
  },
  "language_info": {
   "codemirror_mode": {
    "name": "ipython",
    "version": 3
   },
   "file_extension": ".py",
   "mimetype": "text/x-python",
   "name": "python",
   "nbconvert_exporter": "python",
   "pygments_lexer": "ipython3",
   "version": "3.11.4"
  }
 },
 "nbformat": 4,
 "nbformat_minor": 5
}
