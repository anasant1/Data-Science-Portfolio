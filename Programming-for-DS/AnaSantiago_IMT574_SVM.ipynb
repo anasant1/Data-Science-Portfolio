{
 "cells": [
  {
   "cell_type": "markdown",
   "id": "403fb244",
   "metadata": {},
   "source": [
    "# 8.9 Assignment: Support Vector Machine SVM\n",
    "\n",
    "This assignment utilizes the data found here: https://users.stat.ufl.edu/~winner/data/armada.dat that contains outcomes of naval battels between Portuguese and Dutch/British ships between 1583 and 1663.\n",
    "\n",
    "## TABLE OF CONTENTS:\n",
    "[Data processing & exploration](#Data-processing-&-exploration)\n",
    "\n",
    "[SVM application](#SVM-application)\n",
    "\n",
    "[Random Forest application](#Random-forest-application)\n",
    "\n",
    "[KNN application](#KNN-application)\n",
    "\n",
    "[Results](#Results)\n",
    "\n",
    "### Objectives:\n",
    "1. Apply SVM-based model to predict the Portuguese outcome in battle by the number of ships involved on all sides as well as Spanish involvement\n",
    "2. Apply 2 other classifiers to the dataset for the same predictive goal."
   ]
  },
  {
   "cell_type": "markdown",
   "id": "9c6e4e8f",
   "metadata": {},
   "source": [
    "# Data processing & exploration\n",
    "\n",
    "### Features in the data:\n",
    "- battle_location: Name of the battle place\n",
    "\n",
    "- year: Year of the battle\n",
    "\n",
    "- portuguese_ships: Number of Portuguese ships\n",
    "\n",
    "- dutch_ships: ships\tNumber of Dutch ships\n",
    "\n",
    "- english_ships: Number of ships from English side\n",
    "\n",
    "- portuguese_to_dutchbrit: The ratio of Portuguese to Dutch/British ships:\t\n",
    "\n",
    "- spain_involved: Spanish Involvement 1=Yes, 0=No\n",
    "\n",
    "- portuguese_outcome: Portuguese outcome -1=Defeat, 0=Draw, 1=Victory"
   ]
  },
  {
   "cell_type": "code",
   "execution_count": 26,
   "id": "5124d86f",
   "metadata": {},
   "outputs": [],
   "source": [
    "#Libraries\n",
    "import pandas as pd\n",
    "import numpy as np\n",
    "import matplotlib.pyplot as plt\n",
    "import seaborn as sns\n",
    "\n",
    "from sklearn.svm import SVC\n",
    "from sklearn.model_selection import GridSearchCV, KFold, cross_val_score, train_test_split\n",
    "from sklearn.metrics import accuracy_score\n",
    "from sklearn.preprocessing import StandardScaler\n",
    "\n",
    "from sklearn.neighbors import KNeighborsClassifier\n",
    "from sklearn.ensemble import RandomForestClassifier"
   ]
  },
  {
   "cell_type": "code",
   "execution_count": 2,
   "id": "5ca76f18",
   "metadata": {},
   "outputs": [
    {
     "data": {
      "text/html": [
       "<div>\n",
       "<style scoped>\n",
       "    .dataframe tbody tr th:only-of-type {\n",
       "        vertical-align: middle;\n",
       "    }\n",
       "\n",
       "    .dataframe tbody tr th {\n",
       "        vertical-align: top;\n",
       "    }\n",
       "\n",
       "    .dataframe thead th {\n",
       "        text-align: right;\n",
       "    }\n",
       "</style>\n",
       "<table border=\"1\" class=\"dataframe\">\n",
       "  <thead>\n",
       "    <tr style=\"text-align: right;\">\n",
       "      <th></th>\n",
       "      <th>battle_location</th>\n",
       "      <th>year</th>\n",
       "      <th>portuguese_ships</th>\n",
       "      <th>dutch_ships</th>\n",
       "      <th>english_ships</th>\n",
       "      <th>portuguese_to_dutchbrit</th>\n",
       "      <th>spain_involved</th>\n",
       "      <th>portuguese_outcome</th>\n",
       "    </tr>\n",
       "  </thead>\n",
       "  <tbody>\n",
       "    <tr>\n",
       "      <th>0</th>\n",
       "      <td>Bantam</td>\n",
       "      <td>1601</td>\n",
       "      <td>6</td>\n",
       "      <td>3</td>\n",
       "      <td>0</td>\n",
       "      <td>2.000</td>\n",
       "      <td>0</td>\n",
       "      <td>0</td>\n",
       "    </tr>\n",
       "    <tr>\n",
       "      <th>1</th>\n",
       "      <td>Malacca Strait</td>\n",
       "      <td>1606</td>\n",
       "      <td>14</td>\n",
       "      <td>11</td>\n",
       "      <td>0</td>\n",
       "      <td>1.273</td>\n",
       "      <td>0</td>\n",
       "      <td>0</td>\n",
       "    </tr>\n",
       "    <tr>\n",
       "      <th>2</th>\n",
       "      <td>Ilha das Naus</td>\n",
       "      <td>1606</td>\n",
       "      <td>6</td>\n",
       "      <td>9</td>\n",
       "      <td>0</td>\n",
       "      <td>0.667</td>\n",
       "      <td>0</td>\n",
       "      <td>-1</td>\n",
       "    </tr>\n",
       "    <tr>\n",
       "      <th>3</th>\n",
       "      <td>Pulo Butum</td>\n",
       "      <td>1606</td>\n",
       "      <td>7</td>\n",
       "      <td>9</td>\n",
       "      <td>0</td>\n",
       "      <td>0.778</td>\n",
       "      <td>0</td>\n",
       "      <td>1</td>\n",
       "    </tr>\n",
       "    <tr>\n",
       "      <th>4</th>\n",
       "      <td>Surrat</td>\n",
       "      <td>1615</td>\n",
       "      <td>6</td>\n",
       "      <td>0</td>\n",
       "      <td>4</td>\n",
       "      <td>1.500</td>\n",
       "      <td>0</td>\n",
       "      <td>0</td>\n",
       "    </tr>\n",
       "  </tbody>\n",
       "</table>\n",
       "</div>"
      ],
      "text/plain": [
       "  battle_location  year  portuguese_ships  dutch_ships  english_ships  \\\n",
       "0          Bantam  1601                 6            3              0   \n",
       "1  Malacca Strait  1606                14           11              0   \n",
       "2   Ilha das Naus  1606                 6            9              0   \n",
       "3      Pulo Butum  1606                 7            9              0   \n",
       "4          Surrat  1615                 6            0              4   \n",
       "\n",
       "   portuguese_to_dutchbrit  spain_involved  portuguese_outcome  \n",
       "0                    2.000               0                   0  \n",
       "1                    1.273               0                   0  \n",
       "2                    0.667               0                  -1  \n",
       "3                    0.778               0                   1  \n",
       "4                    1.500               0                   0  "
      ]
     },
     "execution_count": 2,
     "metadata": {},
     "output_type": "execute_result"
    }
   ],
   "source": [
    "#set column names\n",
    "col_names = ['battle_location', 'year', 'portuguese_ships', 'dutch_ships', 'english_ships', \n",
    "              'portuguese_to_dutchbrit', 'spain_involved', 'portuguese_outcome']\n",
    "\n",
    "#set column widths per txt file\n",
    "col_widths = [30, 4, 8, 8, 8, 8, 8, 8]\n",
    "\n",
    "#load data\n",
    "data = pd.read_fwf('armada.dat.txt', header = None, names = col_names, widths = col_widths)\n",
    "data.head()"
   ]
  },
  {
   "cell_type": "code",
   "execution_count": 3,
   "id": "4f16593b",
   "metadata": {},
   "outputs": [
    {
     "data": {
      "text/plain": [
       "(28, 8)"
      ]
     },
     "execution_count": 3,
     "metadata": {},
     "output_type": "execute_result"
    }
   ],
   "source": [
    "#examine amount of data\n",
    "data.shape"
   ]
  },
  {
   "cell_type": "code",
   "execution_count": 4,
   "id": "81f48da9",
   "metadata": {},
   "outputs": [
    {
     "data": {
      "text/plain": [
       "0"
      ]
     },
     "execution_count": 4,
     "metadata": {},
     "output_type": "execute_result"
    }
   ],
   "source": [
    "#check for NA's\n",
    "data.isna().sum().sum()"
   ]
  },
  {
   "cell_type": "code",
   "execution_count": 5,
   "id": "c940fb30",
   "metadata": {
    "scrolled": true
   },
   "outputs": [
    {
     "data": {
      "text/plain": [
       "battle_location             object\n",
       "year                         int64\n",
       "portuguese_ships             int64\n",
       "dutch_ships                  int64\n",
       "english_ships                int64\n",
       "portuguese_to_dutchbrit    float64\n",
       "spain_involved               int64\n",
       "portuguese_outcome           int64\n",
       "dtype: object"
      ]
     },
     "execution_count": 5,
     "metadata": {},
     "output_type": "execute_result"
    }
   ],
   "source": [
    "#check data types\n",
    "data.dtypes"
   ]
  },
  {
   "cell_type": "code",
   "execution_count": 6,
   "id": "edfeb2ba",
   "metadata": {},
   "outputs": [
    {
     "data": {
      "text/html": [
       "<div>\n",
       "<style scoped>\n",
       "    .dataframe tbody tr th:only-of-type {\n",
       "        vertical-align: middle;\n",
       "    }\n",
       "\n",
       "    .dataframe tbody tr th {\n",
       "        vertical-align: top;\n",
       "    }\n",
       "\n",
       "    .dataframe thead th {\n",
       "        text-align: right;\n",
       "    }\n",
       "</style>\n",
       "<table border=\"1\" class=\"dataframe\">\n",
       "  <thead>\n",
       "    <tr style=\"text-align: right;\">\n",
       "      <th></th>\n",
       "      <th>year</th>\n",
       "      <th>portuguese_ships</th>\n",
       "      <th>dutch_ships</th>\n",
       "      <th>english_ships</th>\n",
       "      <th>portuguese_to_dutchbrit</th>\n",
       "      <th>spain_involved</th>\n",
       "      <th>portuguese_outcome</th>\n",
       "    </tr>\n",
       "  </thead>\n",
       "  <tbody>\n",
       "    <tr>\n",
       "      <th>count</th>\n",
       "      <td>28.000000</td>\n",
       "      <td>28.000000</td>\n",
       "      <td>28.000000</td>\n",
       "      <td>28.000000</td>\n",
       "      <td>28.000000</td>\n",
       "      <td>28.000000</td>\n",
       "      <td>28.000000</td>\n",
       "    </tr>\n",
       "    <tr>\n",
       "      <th>mean</th>\n",
       "      <td>1628.392857</td>\n",
       "      <td>13.142857</td>\n",
       "      <td>13.428571</td>\n",
       "      <td>1.785714</td>\n",
       "      <td>1.159893</td>\n",
       "      <td>0.464286</td>\n",
       "      <td>-0.178571</td>\n",
       "    </tr>\n",
       "    <tr>\n",
       "      <th>std</th>\n",
       "      <td>17.559084</td>\n",
       "      <td>15.922763</td>\n",
       "      <td>22.280083</td>\n",
       "      <td>5.927695</td>\n",
       "      <td>0.928341</td>\n",
       "      <td>0.507875</td>\n",
       "      <td>0.722832</td>\n",
       "    </tr>\n",
       "    <tr>\n",
       "      <th>min</th>\n",
       "      <td>1588.000000</td>\n",
       "      <td>2.000000</td>\n",
       "      <td>0.000000</td>\n",
       "      <td>0.000000</td>\n",
       "      <td>0.150000</td>\n",
       "      <td>0.000000</td>\n",
       "      <td>-1.000000</td>\n",
       "    </tr>\n",
       "    <tr>\n",
       "      <th>25%</th>\n",
       "      <td>1618.750000</td>\n",
       "      <td>5.750000</td>\n",
       "      <td>4.000000</td>\n",
       "      <td>0.000000</td>\n",
       "      <td>0.650250</td>\n",
       "      <td>0.000000</td>\n",
       "      <td>-1.000000</td>\n",
       "    </tr>\n",
       "    <tr>\n",
       "      <th>50%</th>\n",
       "      <td>1628.500000</td>\n",
       "      <td>6.000000</td>\n",
       "      <td>8.000000</td>\n",
       "      <td>0.000000</td>\n",
       "      <td>0.928500</td>\n",
       "      <td>0.000000</td>\n",
       "      <td>0.000000</td>\n",
       "    </tr>\n",
       "    <tr>\n",
       "      <th>75%</th>\n",
       "      <td>1639.000000</td>\n",
       "      <td>14.000000</td>\n",
       "      <td>11.000000</td>\n",
       "      <td>0.000000</td>\n",
       "      <td>1.500000</td>\n",
       "      <td>1.000000</td>\n",
       "      <td>0.000000</td>\n",
       "    </tr>\n",
       "    <tr>\n",
       "      <th>max</th>\n",
       "      <td>1658.000000</td>\n",
       "      <td>69.000000</td>\n",
       "      <td>110.000000</td>\n",
       "      <td>31.000000</td>\n",
       "      <td>4.636000</td>\n",
       "      <td>1.000000</td>\n",
       "      <td>1.000000</td>\n",
       "    </tr>\n",
       "  </tbody>\n",
       "</table>\n",
       "</div>"
      ],
      "text/plain": [
       "              year  portuguese_ships  dutch_ships  english_ships  \\\n",
       "count    28.000000         28.000000    28.000000      28.000000   \n",
       "mean   1628.392857         13.142857    13.428571       1.785714   \n",
       "std      17.559084         15.922763    22.280083       5.927695   \n",
       "min    1588.000000          2.000000     0.000000       0.000000   \n",
       "25%    1618.750000          5.750000     4.000000       0.000000   \n",
       "50%    1628.500000          6.000000     8.000000       0.000000   \n",
       "75%    1639.000000         14.000000    11.000000       0.000000   \n",
       "max    1658.000000         69.000000   110.000000      31.000000   \n",
       "\n",
       "       portuguese_to_dutchbrit  spain_involved  portuguese_outcome  \n",
       "count                28.000000       28.000000           28.000000  \n",
       "mean                  1.159893        0.464286           -0.178571  \n",
       "std                   0.928341        0.507875            0.722832  \n",
       "min                   0.150000        0.000000           -1.000000  \n",
       "25%                   0.650250        0.000000           -1.000000  \n",
       "50%                   0.928500        0.000000            0.000000  \n",
       "75%                   1.500000        1.000000            0.000000  \n",
       "max                   4.636000        1.000000            1.000000  "
      ]
     },
     "execution_count": 6,
     "metadata": {},
     "output_type": "execute_result"
    }
   ],
   "source": [
    "#inspect distributions\n",
    "data.describe()"
   ]
  },
  {
   "cell_type": "code",
   "execution_count": 7,
   "id": "52e4a0ca",
   "metadata": {
    "scrolled": true
   },
   "outputs": [
    {
     "data": {
      "image/png": "[encoded data removed]",
      "text/plain": [
       "<Figure size 500x500 with 1 Axes>"
      ]
     },
     "metadata": {},
     "output_type": "display_data"
    }
   ],
   "source": [
    "sns.displot(data, x = 'portuguese_to_dutchbrit')\n",
    "plt.title('Ratio Portuguese to Dutch and British ships')\n",
    "plt.show()"
   ]
  },
  {
   "cell_type": "code",
   "execution_count": 8,
   "id": "47d80e74",
   "metadata": {},
   "outputs": [
    {
     "data": {
      "text/html": [
       "<div>\n",
       "<style scoped>\n",
       "    .dataframe tbody tr th:only-of-type {\n",
       "        vertical-align: middle;\n",
       "    }\n",
       "\n",
       "    .dataframe tbody tr th {\n",
       "        vertical-align: top;\n",
       "    }\n",
       "\n",
       "    .dataframe thead th {\n",
       "        text-align: right;\n",
       "    }\n",
       "</style>\n",
       "<table border=\"1\" class=\"dataframe\">\n",
       "  <thead>\n",
       "    <tr style=\"text-align: right;\">\n",
       "      <th></th>\n",
       "      <th>battle_location</th>\n",
       "      <th>year</th>\n",
       "      <th>portuguese_ships</th>\n",
       "      <th>dutch_ships</th>\n",
       "      <th>english_ships</th>\n",
       "      <th>portuguese_to_dutchbrit</th>\n",
       "      <th>spain_involved</th>\n",
       "      <th>portuguese_outcome</th>\n",
       "    </tr>\n",
       "  </thead>\n",
       "  <tbody>\n",
       "    <tr>\n",
       "      <th>4</th>\n",
       "      <td>Surrat</td>\n",
       "      <td>1615</td>\n",
       "      <td>6</td>\n",
       "      <td>0</td>\n",
       "      <td>4</td>\n",
       "      <td>1.500</td>\n",
       "      <td>0</td>\n",
       "      <td>0</td>\n",
       "    </tr>\n",
       "    <tr>\n",
       "      <th>6</th>\n",
       "      <td>Jask</td>\n",
       "      <td>1620</td>\n",
       "      <td>4</td>\n",
       "      <td>0</td>\n",
       "      <td>4</td>\n",
       "      <td>1.000</td>\n",
       "      <td>0</td>\n",
       "      <td>0</td>\n",
       "    </tr>\n",
       "    <tr>\n",
       "      <th>7</th>\n",
       "      <td>Hormuz</td>\n",
       "      <td>1622</td>\n",
       "      <td>6</td>\n",
       "      <td>0</td>\n",
       "      <td>5</td>\n",
       "      <td>1.200</td>\n",
       "      <td>0</td>\n",
       "      <td>-1</td>\n",
       "    </tr>\n",
       "    <tr>\n",
       "      <th>15</th>\n",
       "      <td>Invincible Armada</td>\n",
       "      <td>1588</td>\n",
       "      <td>69</td>\n",
       "      <td>0</td>\n",
       "      <td>31</td>\n",
       "      <td>2.226</td>\n",
       "      <td>1</td>\n",
       "      <td>-1</td>\n",
       "    </tr>\n",
       "  </tbody>\n",
       "</table>\n",
       "</div>"
      ],
      "text/plain": [
       "      battle_location  year  portuguese_ships  dutch_ships  english_ships  \\\n",
       "4              Surrat  1615                 6            0              4   \n",
       "6                Jask  1620                 4            0              4   \n",
       "7              Hormuz  1622                 6            0              5   \n",
       "15  Invincible Armada  1588                69            0             31   \n",
       "\n",
       "    portuguese_to_dutchbrit  spain_involved  portuguese_outcome  \n",
       "4                     1.500               0                   0  \n",
       "6                     1.000               0                   0  \n",
       "7                     1.200               0                  -1  \n",
       "15                    2.226               1                  -1  "
      ]
     },
     "execution_count": 8,
     "metadata": {},
     "output_type": "execute_result"
    }
   ],
   "source": [
    "#examine instances where there were no dutch ships\n",
    "data.loc[data['dutch_ships'] == 0]"
   ]
  },
  {
   "cell_type": "code",
   "execution_count": 9,
   "id": "b6dafcc7",
   "metadata": {},
   "outputs": [
    {
     "data": {
      "text/plain": [
       " 0    13\n",
       "-1    10\n",
       " 1     5\n",
       "Name: portuguese_outcome, dtype: int64"
      ]
     },
     "execution_count": 9,
     "metadata": {},
     "output_type": "execute_result"
    }
   ],
   "source": [
    "#group outcomes by win/loss/neutral\n",
    "data['portuguese_outcome'].value_counts()"
   ]
  },
  {
   "cell_type": "code",
   "execution_count": 10,
   "id": "b089e37d",
   "metadata": {},
   "outputs": [
    {
     "data": {
      "text/plain": [
       "0    15\n",
       "1    13\n",
       "Name: spain_involved, dtype: int64"
      ]
     },
     "execution_count": 10,
     "metadata": {},
     "output_type": "execute_result"
    }
   ],
   "source": [
    "#group outcomes by spanish involvement\n",
    "data['spain_involved'].value_counts()"
   ]
  },
  {
   "cell_type": "code",
   "execution_count": 1,
   "id": "f876e430",
   "metadata": {
    "scrolled": true
   },
   "outputs": [],
   "source": [
    "#sns.displot(data, x = 'english_ships')"
   ]
  },
  {
   "cell_type": "code",
   "execution_count": 2,
   "id": "d4b882f7",
   "metadata": {
    "scrolled": true
   },
   "outputs": [],
   "source": [
    "#sns.displot(data, x = 'portuguese_ships')"
   ]
  },
  {
   "cell_type": "code",
   "execution_count": 3,
   "id": "e8ae4e07",
   "metadata": {
    "scrolled": true
   },
   "outputs": [],
   "source": [
    "#sns.displot(data, x = 'dutch_ships')"
   ]
  },
  {
   "cell_type": "code",
   "execution_count": 14,
   "id": "cd5e7a48",
   "metadata": {
    "scrolled": true
   },
   "outputs": [
    {
     "data": {
      "image/png": "[encoded data removed]",
      "text/plain": [
       "<Figure size 671.875x500 with 1 Axes>"
      ]
     },
     "metadata": {},
     "output_type": "display_data"
    }
   ],
   "source": [
    "#visualize outcome and ships involved\n",
    "\n",
    "#set x columns\n",
    "x_cols = ['dutch_ships', 'portuguese_ships', 'english_ships']\n",
    "\n",
    "#melt data into one column\n",
    "melt_data = data.melt(value_vars = x_cols, var_name = 'ships_involved', value_name = 'number_ships')\n",
    "\n",
    "#set y column\n",
    "y_col = data['portuguese_outcome']\n",
    "\n",
    "sns.relplot(data = melt_data, x='number_ships', y=y_col, hue='ships_involved', palette='viridis')\n",
    "plt.show()"
   ]
  },
  {
   "cell_type": "markdown",
   "id": "29d68e38",
   "metadata": {},
   "source": [
    "# SVM application\n",
    "\n",
    "Goal: predict the Portuguese outcome in battle by the number of ships involved on all sides as well as Spanish involvement"
   ]
  },
  {
   "cell_type": "code",
   "execution_count": 15,
   "id": "a936c8fe",
   "metadata": {},
   "outputs": [],
   "source": [
    "#set features\n",
    "X = data[['dutch_ships', 'portuguese_ships', 'english_ships', 'spain_involved']]\n",
    "y = data['portuguese_outcome']\n",
    "\n",
    "#split data\n",
    "X_train, X_test, y_train, y_test = train_test_split(X, y, test_size = .2, random_state = 11)\n",
    "\n",
    "#initialize model\n",
    "svm = SVC()\n",
    "\n",
    "#set parameter values to optimize over\n",
    "parameter_grid = {'C': [1, 5, 10, 20], 'kernel': ['linear', 'rbf', 'poly']}\n",
    "\n",
    "#perform cross-validation with gridsearch\n",
    "crossval = KFold(n_splits = 4, shuffle = True, random_state = 22)\n",
    "param_optimization = GridSearchCV(estimator=svm, param_grid=parameter_grid, cv=crossval, scoring = 'accuracy')\n",
    "param_optimization.fit(X_train, y_train)\n",
    "\n",
    "#store best parameters\n",
    "best_params = param_optimization.best_params_\n",
    "\n",
    "#select model with best parameters, unpack the dictionary of best params\n",
    "optimized_model = SVC(**best_params)\n",
    "optimized_model.fit(X_train, y_train)\n",
    "#make predictions\n",
    "y_pred = optimized_model.predict(X_test)\n",
    "\n",
    "#evaluate performance\n",
    "svm_1_accuracy_score = accuracy_score(y_test, y_pred)"
   ]
  },
  {
   "cell_type": "code",
   "execution_count": 17,
   "id": "d2a3e4aa",
   "metadata": {},
   "outputs": [
    {
     "data": {
      "text/plain": [
       "0.16666666666666666"
      ]
     },
     "execution_count": 17,
     "metadata": {},
     "output_type": "execute_result"
    }
   ],
   "source": [
    "svm_1_accuracy_score"
   ]
  },
  {
   "cell_type": "markdown",
   "id": "da0e7c5a",
   "metadata": {},
   "source": [
    "## Scaling features"
   ]
  },
  {
   "cell_type": "code",
   "execution_count": 18,
   "id": "69c3bcde",
   "metadata": {},
   "outputs": [],
   "source": [
    "#standardize values\n",
    "standard_scaler = StandardScaler()\n",
    "\n",
    "#transform values\n",
    "X_scaled = standard_scaler.fit_transform(X)"
   ]
  },
  {
   "cell_type": "code",
   "execution_count": 19,
   "id": "7ddaff16",
   "metadata": {},
   "outputs": [],
   "source": [
    "#redo model\n",
    "X = X_scaled\n",
    "y = y\n",
    "\n",
    "#split data\n",
    "X_train, X_test, y_train, y_test = train_test_split(X, y, test_size = .2, random_state = 11)\n",
    "\n",
    "#initialize model\n",
    "svm = SVC()\n",
    "\n",
    "#set parameter values to optimize over\n",
    "parameter_grid = {'C': [1, 5, 10, 20], 'kernel': ['linear', 'rbf', 'poly']}\n",
    "\n",
    "#perform cross-validation with gridsearch\n",
    "crossval = KFold(n_splits = 4, shuffle = True, random_state = 22)\n",
    "param_optimization = GridSearchCV(estimator=svm, param_grid=parameter_grid, cv=crossval, scoring = 'accuracy')\n",
    "param_optimization.fit(X_train, y_train)\n",
    "\n",
    "#store best parameters\n",
    "best_params = param_optimization.best_params_\n",
    "\n",
    "#select model with best parameters, unpack the dictionary of best params\n",
    "optimized_model = SVC(**best_params)\n",
    "optimized_model.fit(X_train, y_train)\n",
    "#make predictions\n",
    "y_pred = optimized_model.predict(X_test)\n",
    "\n",
    "#evaluate performance\n",
    "svm2_accuracy_score = accuracy_score(y_test, y_pred)"
   ]
  },
  {
   "cell_type": "code",
   "execution_count": 20,
   "id": "6a0a04eb",
   "metadata": {},
   "outputs": [
    {
     "data": {
      "text/plain": [
       "0.6666666666666666"
      ]
     },
     "execution_count": 20,
     "metadata": {},
     "output_type": "execute_result"
    }
   ],
   "source": [
    "svm2_accuracy_score"
   ]
  },
  {
   "cell_type": "markdown",
   "id": "8264a564",
   "metadata": {},
   "source": [
    "# Random forest application\n",
    "\n"
   ]
  },
  {
   "cell_type": "code",
   "execution_count": 23,
   "id": "214ef767",
   "metadata": {},
   "outputs": [
    {
     "data": {
      "text/plain": [
       "0.5"
      ]
     },
     "execution_count": 23,
     "metadata": {},
     "output_type": "execute_result"
    }
   ],
   "source": [
    "#initialize random forest\n",
    "rand_forest = RandomForestClassifier()\n",
    "\n",
    "#set features from model above\n",
    "X = X\n",
    "y = y\n",
    "\n",
    "#split data\n",
    "X_train, X_test, y_train, y_test = train_test_split(X, y, test_size = .2, random_state = 11)\n",
    "\n",
    "#set parameter values to optimize over\n",
    "parameter_grid = {'n_estimators': [10, 50, 100, 200], 'min_samples_split': [2, 4, 6]}\n",
    "\n",
    "#perform cross-validation with gridsearch\n",
    "crossval = KFold(n_splits = 4, shuffle = True, random_state = 22)\n",
    "param_optimization = GridSearchCV(estimator=rand_forest, param_grid=parameter_grid, cv=crossval, scoring = 'accuracy')\n",
    "param_optimization.fit(X_train, y_train)\n",
    "\n",
    "#store best parameters\n",
    "best_params = param_optimization.best_params_\n",
    "\n",
    "#select model with best parameters, unpack the dictionary of best params\n",
    "optimized_model = RandomForestClassifier(**best_params)\n",
    "optimized_model.fit(X_train, y_train)\n",
    "#make predictions\n",
    "y_pred = optimized_model.predict(X_test)\n",
    "\n",
    "#evaluate performance\n",
    "rand_forest_accuracy_score = accuracy_score(y_test, y_pred)\n",
    "rand_forest_accuracy_score"
   ]
  },
  {
   "cell_type": "markdown",
   "id": "c68b9909",
   "metadata": {},
   "source": [
    "# KNN application"
   ]
  },
  {
   "cell_type": "code",
   "execution_count": 28,
   "id": "c2ceeb35",
   "metadata": {},
   "outputs": [
    {
     "data": {
      "text/plain": [
       "0.3333333333333333"
      ]
     },
     "execution_count": 28,
     "metadata": {},
     "output_type": "execute_result"
    }
   ],
   "source": [
    "#initialize NB\n",
    "knn = KNeighborsClassifier()\n",
    "\n",
    "#set features from model above\n",
    "X = X\n",
    "y = y\n",
    "\n",
    "#split data\n",
    "X_train, X_test, y_train, y_test = train_test_split(X, y, test_size = .2, random_state = 11)\n",
    "\n",
    "#set parameter values to optimize over\n",
    "parameter_grid = {'n_neighbors': [3, 5, 7, 9]}\n",
    "\n",
    "#perform cross-validation with gridsearch\n",
    "crossval = KFold(n_splits = 4, shuffle = True, random_state = 22)\n",
    "param_optimization = GridSearchCV(estimator=knn, param_grid=parameter_grid, cv=crossval, scoring = 'accuracy')\n",
    "param_optimization.fit(X_train, y_train)\n",
    "\n",
    "#store best parameters\n",
    "best_params = param_optimization.best_params_\n",
    "\n",
    "#select model with best parameters, unpack the dictionary of best params\n",
    "optimized_model = KNeighborsClassifier(**best_params)\n",
    "optimized_model.fit(X_train, y_train)\n",
    "#make predictions\n",
    "y_pred = optimized_model.predict(X_test)\n",
    "\n",
    "#evaluate performance\n",
    "knn_accuracy_score = accuracy_score(y_test, y_pred)\n",
    "knn_accuracy_score"
   ]
  },
  {
   "cell_type": "markdown",
   "id": "5e858bee",
   "metadata": {},
   "source": [
    "# Results"
   ]
  },
  {
   "cell_type": "markdown",
   "id": "92e37fe6",
   "metadata": {},
   "source": [
    "My first SVM model performed poorly, only about 16.7% of its predictions on the test data were accurate. Since SVM is a rather complex algorithm, and the dataset only had 28 rows of vectors to work with, my intial thoughts were the model was not suitable for this type of data. At first I thought the ordinal relationship of the target variable might have skewed the model's performance, but found that SVM inherently handles multiclass, and ordinal categories well and doesn't necessarily require one-hot encoding. \n",
    "Therefore, considering my findings from the EDA stage, since there were instances in which there were no Spanish, British and even Portuguese ships involved in some of these battles, there were outlier values that could affect the model's performance due to its inherent sensitivity to the support vector's distances. So, I decided to redo my model a second time and standardize my values to measure the improvement. \n",
    "After standardizing the values to reduce the support vectors' influence on the hyperplane, and avoid overfitting, the model improved significantly. 67% of its predictions were accurate. While the accuracy was not as high as I would've liked, this demonstrates just how sensitive the SVM algorithm is to the distance between the data points and the hyperplane.\n",
    "\n",
    "The second model I built to compare the SVM model performance to was Random Forest. I chose this method because it's an ensemble method and also works great for classification as a supervised learning algorithm. Since I had searched for the best parameters for the SVM model, I applied the same approach to the random forest model, and used the best parameters for the final testing of its performance. 50% of the random forest predictions were correct (this is 16% lower to the number of correct predictions SVM had), which was not quite reassuring in its capabilities within the context of this dataset. This could be due to the recursive binary splitting that happens in the decision trees that make up the random forest. Another factor could stem from the fact that the trees make the best local decisions, rather than set a specific boundary for new data points, unlike the SVM algorithm.\n",
    "\n",
    "Lastly, I applied a K-Nearest Neighbors model to compare the results and this was by far the worst performing model for the dataset. KNN had an accuracy of 33%, which was about half of the SVM's model accuracy. Athough KNN is robust in terms of handling multiclass target variables like the win/loss/neutral outcomes in this dataset. The way KNN works is by looking at the nearest neighbors of a new data point per Euclidean distance, and tkaing a vote as to which group the data point belongs to. This may have been the \"faux pas\" that led to the model's poor performance, because the SVM model sets a boundary and looks at whether a data point falls within or outside of the boundary to assign its class, with some flexibility for error, however, perhaps due to the distribution of the feature attributes, SVM had an advantage over kNN. "
   ]
  }
 ],
 "metadata": {
  "kernelspec": {
   "display_name": "Python 3 (ipykernel)",
   "language": "python",
   "name": "python3"
  },
  "language_info": {
   "codemirror_mode": {
    "name": "ipython",
    "version": 3
   },
   "file_extension": ".py",
   "mimetype": "text/x-python",
   "name": "python",
   "nbconvert_exporter": "python",
   "pygments_lexer": "ipython3",
   "version": "3.11.4"
  }
 },
 "nbformat": 4,
 "nbformat_minor": 5
}
