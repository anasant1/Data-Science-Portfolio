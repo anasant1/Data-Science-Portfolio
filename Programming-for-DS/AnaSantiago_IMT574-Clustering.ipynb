{
 "cells": [
  {
   "cell_type": "markdown",
   "id": "9887a9f1",
   "metadata": {},
   "source": [
    "# Assignment 5: Clustering\n",
    "\n",
    "## Table of Contents:\n",
    "[Part 1: Data Processing](#Part-1:-Data-Preprocessing)\n",
    "\n",
    "[Part 2: Agglomerative Clustering](#Part-2:-Agglomerative-Clustering) \n",
    "\n",
    "[Part 3: Divisive Clustering](#Part-3:-Divisive-Clustering) \n",
    "\n",
    "This assignment works with the FiveThirtyEight Airline Safety Dataset: https://www.kaggle.com/datasets/fivethirtyeight/fivethirtyeight-airline-safety-dataset?resource=download\n",
    "\n",
    "#### Features included\n",
    "\n",
    "- airline: Airline (asterisk indicates that regional subsidiaries are included)\n",
    "\n",
    "- avail_seat_km_per_week: Available seat kilometers flew every week\n",
    "\n",
    "- incidents_85_99: Total number of incidents, 1985–1999\n",
    "\n",
    "- fatal_accidents_85_99: Total number of fatal accidents, 1985–1999\n",
    "\n",
    "- fatalities_85_99: Total number of fatalities, 1985–1999\n",
    "\n",
    "- incidents_00_14: Total number of incidents, 2000–2014\n",
    "\n",
    "- fatal_accidents_00_14: Total number of fatal accidents, 2000–2014\n",
    "\n",
    "- fatalities_00_14: Total number of fatalities, 2000–2014"
   ]
  },
  {
   "cell_type": "markdown",
   "id": "b233e28e",
   "metadata": {},
   "source": [
    "### Libraries"
   ]
  },
  {
   "cell_type": "code",
   "execution_count": 91,
   "id": "077f5af1",
   "metadata": {},
   "outputs": [],
   "source": [
    "import pandas as pd\n",
    "import numpy as np\n",
    "import matplotlib.pyplot as plt\n",
    "import seaborn as sns\n",
    "from scipy.cluster.hierarchy import dendrogram\n",
    "from scipy.cluster.hierarchy import linkage\n",
    "\n",
    "from sklearn.cluster import AgglomerativeClustering\n",
    "from sklearn.cluster import KMeans\n",
    "\n",
    "from sklearn.cluster import FeatureAgglomeration\n",
    "from sklearn import cluster\n",
    "\n",
    "from sklearn.metrics import silhouette_score\n",
    "from sklearn.metrics import adjusted_rand_score\n",
    "from sklearn.metrics import davies_bouldin_score"
   ]
  },
  {
   "cell_type": "markdown",
   "id": "575c80d5",
   "metadata": {},
   "source": [
    "# Part 1: Data Processing"
   ]
  },
  {
   "cell_type": "code",
   "execution_count": 4,
   "id": "c070234f",
   "metadata": {},
   "outputs": [
    {
     "data": {
      "text/html": [
       "<div>\n",
       "<style scoped>\n",
       "    .dataframe tbody tr th:only-of-type {\n",
       "        vertical-align: middle;\n",
       "    }\n",
       "\n",
       "    .dataframe tbody tr th {\n",
       "        vertical-align: top;\n",
       "    }\n",
       "\n",
       "    .dataframe thead th {\n",
       "        text-align: right;\n",
       "    }\n",
       "</style>\n",
       "<table border=\"1\" class=\"dataframe\">\n",
       "  <thead>\n",
       "    <tr style=\"text-align: right;\">\n",
       "      <th></th>\n",
       "      <th>airline</th>\n",
       "      <th>avail_seat_km_per_week</th>\n",
       "      <th>incidents_85_99</th>\n",
       "      <th>fatal_accidents_85_99</th>\n",
       "      <th>fatalities_85_99</th>\n",
       "      <th>incidents_00_14</th>\n",
       "      <th>fatal_accidents_00_14</th>\n",
       "      <th>fatalities_00_14</th>\n",
       "    </tr>\n",
       "  </thead>\n",
       "  <tbody>\n",
       "    <tr>\n",
       "      <th>0</th>\n",
       "      <td>Aer Lingus</td>\n",
       "      <td>320906734</td>\n",
       "      <td>2</td>\n",
       "      <td>0</td>\n",
       "      <td>0</td>\n",
       "      <td>0</td>\n",
       "      <td>0</td>\n",
       "      <td>0</td>\n",
       "    </tr>\n",
       "    <tr>\n",
       "      <th>1</th>\n",
       "      <td>Aeroflot*</td>\n",
       "      <td>1197672318</td>\n",
       "      <td>76</td>\n",
       "      <td>14</td>\n",
       "      <td>128</td>\n",
       "      <td>6</td>\n",
       "      <td>1</td>\n",
       "      <td>88</td>\n",
       "    </tr>\n",
       "    <tr>\n",
       "      <th>2</th>\n",
       "      <td>Aerolineas Argentinas</td>\n",
       "      <td>385803648</td>\n",
       "      <td>6</td>\n",
       "      <td>0</td>\n",
       "      <td>0</td>\n",
       "      <td>1</td>\n",
       "      <td>0</td>\n",
       "      <td>0</td>\n",
       "    </tr>\n",
       "    <tr>\n",
       "      <th>3</th>\n",
       "      <td>Aeromexico*</td>\n",
       "      <td>596871813</td>\n",
       "      <td>3</td>\n",
       "      <td>1</td>\n",
       "      <td>64</td>\n",
       "      <td>5</td>\n",
       "      <td>0</td>\n",
       "      <td>0</td>\n",
       "    </tr>\n",
       "    <tr>\n",
       "      <th>4</th>\n",
       "      <td>Air Canada</td>\n",
       "      <td>1865253802</td>\n",
       "      <td>2</td>\n",
       "      <td>0</td>\n",
       "      <td>0</td>\n",
       "      <td>2</td>\n",
       "      <td>0</td>\n",
       "      <td>0</td>\n",
       "    </tr>\n",
       "  </tbody>\n",
       "</table>\n",
       "</div>"
      ],
      "text/plain": [
       "                 airline  avail_seat_km_per_week  incidents_85_99  \\\n",
       "0             Aer Lingus               320906734                2   \n",
       "1              Aeroflot*              1197672318               76   \n",
       "2  Aerolineas Argentinas               385803648                6   \n",
       "3            Aeromexico*               596871813                3   \n",
       "4             Air Canada              1865253802                2   \n",
       "\n",
       "   fatal_accidents_85_99  fatalities_85_99  incidents_00_14  \\\n",
       "0                      0                 0                0   \n",
       "1                     14               128                6   \n",
       "2                      0                 0                1   \n",
       "3                      1                64                5   \n",
       "4                      0                 0                2   \n",
       "\n",
       "   fatal_accidents_00_14  fatalities_00_14  \n",
       "0                      0                 0  \n",
       "1                      1                88  \n",
       "2                      0                 0  \n",
       "3                      0                 0  \n",
       "4                      0                 0  "
      ]
     },
     "execution_count": 4,
     "metadata": {},
     "output_type": "execute_result"
    }
   ],
   "source": [
    "safety_df = pd.read_csv('airline-safety.csv')\n",
    "safety_df.head()"
   ]
  },
  {
   "cell_type": "code",
   "execution_count": 5,
   "id": "36d03eb0",
   "metadata": {},
   "outputs": [
    {
     "data": {
      "text/plain": [
       "(56, 8)"
      ]
     },
     "execution_count": 5,
     "metadata": {},
     "output_type": "execute_result"
    }
   ],
   "source": [
    "safety_df.shape"
   ]
  },
  {
   "cell_type": "code",
   "execution_count": 6,
   "id": "e8b6bce5",
   "metadata": {},
   "outputs": [
    {
     "data": {
      "text/plain": [
       "airline                   False\n",
       "avail_seat_km_per_week    False\n",
       "incidents_85_99           False\n",
       "fatal_accidents_85_99     False\n",
       "fatalities_85_99          False\n",
       "incidents_00_14           False\n",
       "fatal_accidents_00_14     False\n",
       "fatalities_00_14          False\n",
       "dtype: bool"
      ]
     },
     "execution_count": 6,
     "metadata": {},
     "output_type": "execute_result"
    }
   ],
   "source": [
    "safety_df.isnull().any()"
   ]
  },
  {
   "cell_type": "code",
   "execution_count": 8,
   "id": "53ed893b",
   "metadata": {},
   "outputs": [
    {
     "data": {
      "text/html": [
       "<div>\n",
       "<style scoped>\n",
       "    .dataframe tbody tr th:only-of-type {\n",
       "        vertical-align: middle;\n",
       "    }\n",
       "\n",
       "    .dataframe tbody tr th {\n",
       "        vertical-align: top;\n",
       "    }\n",
       "\n",
       "    .dataframe thead th {\n",
       "        text-align: right;\n",
       "    }\n",
       "</style>\n",
       "<table border=\"1\" class=\"dataframe\">\n",
       "  <thead>\n",
       "    <tr style=\"text-align: right;\">\n",
       "      <th></th>\n",
       "      <th>avail_seat_km_per_week</th>\n",
       "      <th>incidents_85_99</th>\n",
       "      <th>fatal_accidents_85_99</th>\n",
       "      <th>fatalities_85_99</th>\n",
       "      <th>incidents_00_14</th>\n",
       "      <th>fatal_accidents_00_14</th>\n",
       "      <th>fatalities_00_14</th>\n",
       "    </tr>\n",
       "  </thead>\n",
       "  <tbody>\n",
       "    <tr>\n",
       "      <th>count</th>\n",
       "      <td>5.600000e+01</td>\n",
       "      <td>56.000000</td>\n",
       "      <td>56.000000</td>\n",
       "      <td>56.000000</td>\n",
       "      <td>56.000000</td>\n",
       "      <td>56.000000</td>\n",
       "      <td>56.000000</td>\n",
       "    </tr>\n",
       "    <tr>\n",
       "      <th>mean</th>\n",
       "      <td>1.384621e+09</td>\n",
       "      <td>7.178571</td>\n",
       "      <td>2.178571</td>\n",
       "      <td>112.410714</td>\n",
       "      <td>4.125000</td>\n",
       "      <td>0.660714</td>\n",
       "      <td>55.517857</td>\n",
       "    </tr>\n",
       "    <tr>\n",
       "      <th>std</th>\n",
       "      <td>1.465317e+09</td>\n",
       "      <td>11.035656</td>\n",
       "      <td>2.861069</td>\n",
       "      <td>146.691114</td>\n",
       "      <td>4.544977</td>\n",
       "      <td>0.858684</td>\n",
       "      <td>111.332751</td>\n",
       "    </tr>\n",
       "    <tr>\n",
       "      <th>min</th>\n",
       "      <td>2.593733e+08</td>\n",
       "      <td>0.000000</td>\n",
       "      <td>0.000000</td>\n",
       "      <td>0.000000</td>\n",
       "      <td>0.000000</td>\n",
       "      <td>0.000000</td>\n",
       "      <td>0.000000</td>\n",
       "    </tr>\n",
       "    <tr>\n",
       "      <th>25%</th>\n",
       "      <td>4.740362e+08</td>\n",
       "      <td>2.000000</td>\n",
       "      <td>0.000000</td>\n",
       "      <td>0.000000</td>\n",
       "      <td>1.000000</td>\n",
       "      <td>0.000000</td>\n",
       "      <td>0.000000</td>\n",
       "    </tr>\n",
       "    <tr>\n",
       "      <th>50%</th>\n",
       "      <td>8.029089e+08</td>\n",
       "      <td>4.000000</td>\n",
       "      <td>1.000000</td>\n",
       "      <td>48.500000</td>\n",
       "      <td>3.000000</td>\n",
       "      <td>0.000000</td>\n",
       "      <td>0.000000</td>\n",
       "    </tr>\n",
       "    <tr>\n",
       "      <th>75%</th>\n",
       "      <td>1.847239e+09</td>\n",
       "      <td>8.000000</td>\n",
       "      <td>3.000000</td>\n",
       "      <td>184.250000</td>\n",
       "      <td>5.250000</td>\n",
       "      <td>1.000000</td>\n",
       "      <td>83.250000</td>\n",
       "    </tr>\n",
       "    <tr>\n",
       "      <th>max</th>\n",
       "      <td>7.139291e+09</td>\n",
       "      <td>76.000000</td>\n",
       "      <td>14.000000</td>\n",
       "      <td>535.000000</td>\n",
       "      <td>24.000000</td>\n",
       "      <td>3.000000</td>\n",
       "      <td>537.000000</td>\n",
       "    </tr>\n",
       "  </tbody>\n",
       "</table>\n",
       "</div>"
      ],
      "text/plain": [
       "       avail_seat_km_per_week  incidents_85_99  fatal_accidents_85_99  \\\n",
       "count            5.600000e+01        56.000000              56.000000   \n",
       "mean             1.384621e+09         7.178571               2.178571   \n",
       "std              1.465317e+09        11.035656               2.861069   \n",
       "min              2.593733e+08         0.000000               0.000000   \n",
       "25%              4.740362e+08         2.000000               0.000000   \n",
       "50%              8.029089e+08         4.000000               1.000000   \n",
       "75%              1.847239e+09         8.000000               3.000000   \n",
       "max              7.139291e+09        76.000000              14.000000   \n",
       "\n",
       "       fatalities_85_99  incidents_00_14  fatal_accidents_00_14  \\\n",
       "count         56.000000        56.000000              56.000000   \n",
       "mean         112.410714         4.125000               0.660714   \n",
       "std          146.691114         4.544977               0.858684   \n",
       "min            0.000000         0.000000               0.000000   \n",
       "25%            0.000000         1.000000               0.000000   \n",
       "50%           48.500000         3.000000               0.000000   \n",
       "75%          184.250000         5.250000               1.000000   \n",
       "max          535.000000        24.000000               3.000000   \n",
       "\n",
       "       fatalities_00_14  \n",
       "count         56.000000  \n",
       "mean          55.517857  \n",
       "std          111.332751  \n",
       "min            0.000000  \n",
       "25%            0.000000  \n",
       "50%            0.000000  \n",
       "75%           83.250000  \n",
       "max          537.000000  "
      ]
     },
     "execution_count": 8,
     "metadata": {},
     "output_type": "execute_result"
    }
   ],
   "source": [
    "safety_df.describe()"
   ]
  },
  {
   "cell_type": "code",
   "execution_count": 12,
   "id": "842c5cc7",
   "metadata": {},
   "outputs": [
    {
     "data": {
      "text/plain": [
       "airline                   Malaysia Airlines\n",
       "avail_seat_km_per_week           1039171244\n",
       "incidents_85_99                           3\n",
       "fatal_accidents_85_99                     1\n",
       "fatalities_85_99                         34\n",
       "incidents_00_14                           3\n",
       "fatal_accidents_00_14                     2\n",
       "fatalities_00_14                        537\n",
       "Name: 34, dtype: object"
      ]
     },
     "execution_count": 12,
     "metadata": {},
     "output_type": "execute_result"
    }
   ],
   "source": [
    "#examine outlier in 00-14 fatalities col\n",
    "safety_df.iloc[safety_df['fatalities_00_14'].idxmax()]"
   ]
  },
  {
   "cell_type": "code",
   "execution_count": 13,
   "id": "21b85c0b",
   "metadata": {},
   "outputs": [
    {
     "data": {
      "text/plain": [
       "airline                   China Airlines\n",
       "avail_seat_km_per_week         813216487\n",
       "incidents_85_99                       12\n",
       "fatal_accidents_85_99                  6\n",
       "fatalities_85_99                     535\n",
       "incidents_00_14                        2\n",
       "fatal_accidents_00_14                  1\n",
       "fatalities_00_14                     225\n",
       "Name: 16, dtype: object"
      ]
     },
     "execution_count": 13,
     "metadata": {},
     "output_type": "execute_result"
    }
   ],
   "source": [
    "#examine outlier in 85-99 fatalities col\n",
    "safety_df.iloc[safety_df['fatalities_85_99'].idxmax()]"
   ]
  },
  {
   "cell_type": "code",
   "execution_count": 17,
   "id": "dbab93a2",
   "metadata": {},
   "outputs": [
    {
     "data": {
      "text/plain": [
       "Index(['airline', 'avail_seat_km_per_week', 'incidents_85_99',\n",
       "       'fatal_accidents_85_99', 'fatalities_85_99', 'incidents_00_14',\n",
       "       'fatal_accidents_00_14', 'fatalities_00_14'],\n",
       "      dtype='object')"
      ]
     },
     "execution_count": 17,
     "metadata": {},
     "output_type": "execute_result"
    }
   ],
   "source": [
    "safety_df.columns"
   ]
  },
  {
   "cell_type": "markdown",
   "id": "4a9c2282",
   "metadata": {},
   "source": [
    "# Part 2: Agglomerative Clustering"
   ]
  },
  {
   "cell_type": "code",
   "execution_count": 93,
   "id": "99d5c075",
   "metadata": {},
   "outputs": [
    {
     "name": "stdout",
     "output_type": "stream",
     "text": [
      "[0 0 0 0 0 0 0 0 0 0 0 1 0 0 0 0 0 0 0 1 0 0 0 0 0 0 0 0 0 0 0 0 0 0 0 0 0\n",
      " 0 0 0 0 0 0 0 0 0 0 0 0 0 0 1 0 0 0 0]\n",
      "56\n"
     ]
    }
   ],
   "source": [
    "#initializing clustering\n",
    "ag_clustering = AgglomerativeClustering()\n",
    "\n",
    "#set X w/all features\n",
    "X = safety_df[['avail_seat_km_per_week', 'incidents_85_99',\n",
    "       'fatal_accidents_85_99', 'fatalities_85_99', 'incidents_00_14',\n",
    "       'fatal_accidents_00_14', 'fatalities_00_14']]\n",
    "\n",
    "#fit model\n",
    "safety_agclustered = ag_clustering.fit_predict(X)\n",
    "\n",
    "#check 1d array where elements represent the cluster label assigned to data points\n",
    "print(safety_agclustered)\n",
    "print(len(safety_agclustered))"
   ]
  },
  {
   "cell_type": "code",
   "execution_count": 102,
   "id": "452fe0f0",
   "metadata": {
    "scrolled": false
   },
   "outputs": [
    {
     "data": {
      "image/png": "[encoded data removed]",
      "text/plain": [
       "<Figure size 1200x700 with 1 Axes>"
      ]
     },
     "metadata": {},
     "output_type": "display_data"
    }
   ],
   "source": [
    "#create linkage matrix for plot\n",
    "linkage_matrix = linkage(X, method = 'ward')\n",
    "\n",
    "#settings\n",
    "plt.figure(figsize=(12,7))\n",
    "\n",
    "#plot dendrogram\n",
    "dendrogram(linkage_matrix)\n",
    "plt.show()"
   ]
  },
  {
   "cell_type": "code",
   "execution_count": 101,
   "id": "0a4df25e",
   "metadata": {},
   "outputs": [
    {
     "data": {
      "image/png": "[encoded data removed]",
      "text/plain": [
       "<Figure size 640x480 with 1 Axes>"
      ]
     },
     "metadata": {},
     "output_type": "display_data"
    }
   ],
   "source": [
    "plt.scatter(X.iloc[:,1], X.iloc[:,4], c=safety_agclustered)\n",
    "plt.xlabel('incidents 85-99')\n",
    "plt.ylabel('incidents 00-14')\n",
    "plt.title('Scatterplot of Clusters')\n",
    "plt.show()"
   ]
  },
  {
   "cell_type": "code",
   "execution_count": 64,
   "id": "b3eb0e9e",
   "metadata": {},
   "outputs": [
    {
     "data": {
      "text/plain": [
       "(56, 4)"
      ]
     },
     "execution_count": 64,
     "metadata": {},
     "output_type": "execute_result"
    }
   ],
   "source": [
    "#decided to apply feature agglomeration because the fatalities are correlation to fatal accidents, \n",
    "#meaning there is some correlation that could affect the clustering\n",
    "\n",
    "agglomerated_features = FeatureAgglomeration(n_clusters = 4)\n",
    "\n",
    "reduced_X = agglomerated_features.fit_transform(X)\n",
    "\n",
    "#check rows remain same, but columns are reduced\n",
    "reduced_X.shape"
   ]
  },
  {
   "cell_type": "code",
   "execution_count": 69,
   "id": "48543ba8",
   "metadata": {},
   "outputs": [
    {
     "data": {
      "text/plain": [
       "array([0, 0, 0, 0, 0, 0, 0, 0, 0, 0, 0, 1, 0, 0, 0, 0, 0, 0, 0, 1, 0, 0,\n",
       "       0, 0, 0, 0, 0, 0, 0, 0, 0, 0, 0, 0, 0, 0, 0, 0, 0, 0, 0, 0, 0, 0,\n",
       "       0, 0, 0, 0, 0, 0, 0, 1, 0, 0, 0, 0])"
      ]
     },
     "execution_count": 69,
     "metadata": {},
     "output_type": "execute_result"
    }
   ],
   "source": [
    "#fit model\n",
    "ag_clustering.fit_predict(reduced_X)\n",
    "\n",
    "cluster_labels = ag_clustering.labels_\n",
    "cluster_labels"
   ]
  },
  {
   "cell_type": "code",
   "execution_count": 122,
   "id": "3c4f532e",
   "metadata": {},
   "outputs": [
    {
     "name": "stdout",
     "output_type": "stream",
     "text": [
      "2\n"
     ]
    }
   ],
   "source": [
    "#check final number of clusters\n",
    "print(len(np.unique(cluster_labels)))"
   ]
  },
  {
   "cell_type": "code",
   "execution_count": 81,
   "id": "23a38561",
   "metadata": {},
   "outputs": [
    {
     "data": {
      "text/plain": [
       "1.0"
      ]
     },
     "execution_count": 81,
     "metadata": {},
     "output_type": "execute_result"
    }
   ],
   "source": [
    "adjusted_rand_score(safety_agclustered, cluster_labels)"
   ]
  },
  {
   "cell_type": "code",
   "execution_count": 77,
   "id": "56fd0244",
   "metadata": {},
   "outputs": [],
   "source": [
    "og_score = silhouette_score(X, safety_agclustered)\n",
    "agfeature_score = silhouette_score(reduced_X, cluster_labels)"
   ]
  },
  {
   "cell_type": "code",
   "execution_count": 78,
   "id": "6c643640",
   "metadata": {},
   "outputs": [
    {
     "data": {
      "text/plain": [
       "True"
      ]
     },
     "execution_count": 78,
     "metadata": {},
     "output_type": "execute_result"
    }
   ],
   "source": [
    "og_score == agfeature_score"
   ]
  },
  {
   "cell_type": "code",
   "execution_count": 79,
   "id": "9a6706cb",
   "metadata": {},
   "outputs": [
    {
     "name": "stdout",
     "output_type": "stream",
     "text": [
      "0.7945414228917096\n"
     ]
    }
   ],
   "source": [
    "print(og_score)"
   ]
  },
  {
   "cell_type": "markdown",
   "id": "4aea9efa",
   "metadata": {},
   "source": [
    "I calculated the adjusted rand score for to evaluate how the agglomerated feature clustering did compared to the first clustering with all expanded features and sice this yielded a score of 1, I decided to calculate their silhouette scores and see if they were the same.\n",
    "\n",
    "Unsurprisingly, the reduced feature space had the exact same silhouette score as the first clustering model, which indicates that it captured the underlying structure of this data in the same way the original did. I first examined the silhouette score as the coefficient is calculated by using the mean intracluster distance and the mean nearest-cluster distance for each sample, and it summarizes the average of the silhouette scores of all the data points. \n",
    "\n",
    "Since the score itself is rather close to 1, it seems the clusters created are fairly distinct and don't have much overlap. "
   ]
  },
  {
   "cell_type": "code",
   "execution_count": 165,
   "id": "b75e364f",
   "metadata": {},
   "outputs": [
    {
     "data": {
      "text/plain": [
       "0.27341811842594077"
      ]
     },
     "execution_count": 165,
     "metadata": {},
     "output_type": "execute_result"
    }
   ],
   "source": [
    "#davies bouldin score for agglomerative clustering\n",
    "agglomerative_db = davies_bouldin_score(X, safety_agclustered)\n",
    "agglomerative_db"
   ]
  },
  {
   "cell_type": "markdown",
   "id": "939c0d76",
   "metadata": {},
   "source": [
    "I decided to calculate the Davies Bouldin score to measure the similarity of each cluster with their most similar clusters. The low score of 0.27 indicates that there is good clustering."
   ]
  },
  {
   "cell_type": "markdown",
   "id": "4949ed71",
   "metadata": {},
   "source": [
    "# Part 3: Divisive Clustering"
   ]
  },
  {
   "cell_type": "code",
   "execution_count": 155,
   "id": "e469fc4f",
   "metadata": {},
   "outputs": [
    {
     "name": "stdout",
     "output_type": "stream",
     "text": [
      "[0 1 2 3 4 5 6 7]\n"
     ]
    }
   ],
   "source": [
    "#initialize kmeans\n",
    "kmeans = KMeans(n_init='auto')\n",
    "\n",
    "#fit model with fit_predict to immediately assign labels to data points\n",
    "kmeans_clustering = kmeans.fit_predict(X)\n",
    "clustering_labels =kmeans.labels_\n",
    "\n",
    "#check final number of clusters\n",
    "unique_clusters = np.unique(clustering_labels)\n",
    "\n",
    "print(unique_clusters)"
   ]
  },
  {
   "cell_type": "code",
   "execution_count": 156,
   "id": "78733794",
   "metadata": {},
   "outputs": [
    {
     "data": {
      "image/png": "[encoded data removed]",
      "text/plain": [
       "<Figure size 700x800 with 1 Axes>"
      ]
     },
     "metadata": {},
     "output_type": "display_data"
    }
   ],
   "source": [
    "#plot clusters\n",
    "\n",
    "plt.figure(figsize=(7,8))\n",
    "\n",
    "#feature at index 1: incidents 85-99, index 4: incidents 00-14\n",
    "plt.scatter(X.iloc[:,1], X.iloc[:,4])\n",
    "plt.xlabel('incidents 85-99')\n",
    "plt.ylabel('incidents 00-14')\n",
    "\n",
    "#add cluster centers\n",
    "plt.scatter(kmeans.cluster_centers_[:,1], kmeans.cluster_centers_[:,4], s=300, c = unique_clusters, \n",
    "            cmap = 'inferno')\n",
    "plt.show()"
   ]
  },
  {
   "cell_type": "code",
   "execution_count": 181,
   "id": "7bea30a0",
   "metadata": {},
   "outputs": [
    {
     "data": {
      "text/plain": [
       "0.6155761513356978"
      ]
     },
     "execution_count": 181,
     "metadata": {},
     "output_type": "execute_result"
    }
   ],
   "source": [
    "kmeans_silhouette = silhouette_score(X, kmeans_clustering)\n",
    "kmeans_silhouette"
   ]
  },
  {
   "cell_type": "markdown",
   "id": "f328ab06",
   "metadata": {},
   "source": [
    "There are significant differences between the resulting clusters in the agglomerative and divisive kmeans clustering approaches. The former has a default value of 2 resulting clusters while the latter's default is 8, therefore the resulting 6 clusters in the second kmeans approach aren't surprising. To make the comparisons fair between the approaches as far as number of clusters, I decided to refit my kmeans with a default of 2 below to also see how it compard to its initial result. "
   ]
  },
  {
   "cell_type": "code",
   "execution_count": 172,
   "id": "aa339da9",
   "metadata": {},
   "outputs": [
    {
     "name": "stdout",
     "output_type": "stream",
     "text": [
      "[0 1]\n"
     ]
    },
    {
     "data": {
      "text/plain": [
       "0.7945414228917096"
      ]
     },
     "execution_count": 172,
     "metadata": {},
     "output_type": "execute_result"
    }
   ],
   "source": [
    "#initialize kmeans\n",
    "kmeans2 = KMeans(n_clusters = 2, n_init = 'auto')\n",
    "\n",
    "#fit model with fit_predict to immediately assign labels to data points\n",
    "kmeans_clustering2 = kmeans2.fit_predict(X)\n",
    "clustering_labels2 =kmeans2.labels_\n",
    "\n",
    "#check final number of clusters\n",
    "unique_clusters2 = np.unique(clustering_labels2)\n",
    "\n",
    "print(unique_clusters2)\n",
    "\n",
    "kmeans2_silhouette = silhouette_score(X, kmeans_clustering2)\n",
    "kmeans2_silhouette"
   ]
  },
  {
   "cell_type": "code",
   "execution_count": 174,
   "id": "cc01cb74",
   "metadata": {},
   "outputs": [
    {
     "data": {
      "text/plain": [
       "0.17896527155601183"
      ]
     },
     "execution_count": 174,
     "metadata": {},
     "output_type": "execute_result"
    }
   ],
   "source": [
    "#compare second try with max 2 clusters\n",
    "kmeans2_silhouette - kmeans_silhouette"
   ]
  },
  {
   "cell_type": "code",
   "execution_count": 176,
   "id": "80f0c671",
   "metadata": {},
   "outputs": [
    {
     "data": {
      "text/plain": [
       "0.0"
      ]
     },
     "execution_count": 176,
     "metadata": {},
     "output_type": "execute_result"
    }
   ],
   "source": [
    "#compare agglomerative silhouette score to second kmeans score\n",
    "og_score - kmeans2_silhouette"
   ]
  },
  {
   "cell_type": "code",
   "execution_count": 182,
   "id": "8db39db3",
   "metadata": {},
   "outputs": [
    {
     "data": {
      "text/plain": [
       "0.17896527155601183"
      ]
     },
     "execution_count": 182,
     "metadata": {},
     "output_type": "execute_result"
    }
   ],
   "source": [
    "#compare agglomerative silhouette score to first kmeans score\n",
    "og_score - kmeans_silhouette"
   ]
  },
  {
   "cell_type": "code",
   "execution_count": 184,
   "id": "2b78dccf",
   "metadata": {},
   "outputs": [
    {
     "data": {
      "text/plain": [
       "0.27341811842594077"
      ]
     },
     "execution_count": 184,
     "metadata": {},
     "output_type": "execute_result"
    }
   ],
   "source": [
    "#calculate davies_bouldin score for second kmeans clustering\n",
    "kmeans2_db = davies_bouldin_score(X, kmeans_clustering2)\n",
    "\n",
    "kmeans2_db"
   ]
  },
  {
   "cell_type": "code",
   "execution_count": 186,
   "id": "13df02aa",
   "metadata": {},
   "outputs": [
    {
     "data": {
      "text/plain": [
       "0.33084056673104223"
      ]
     },
     "execution_count": 186,
     "metadata": {},
     "output_type": "execute_result"
    }
   ],
   "source": [
    "#calculate davies_bouldin score for first kmeans clustering\n",
    "kmeans_db = davies_bouldin_score(X, kmeans_clustering)\n",
    "\n",
    "kmeans_db"
   ]
  },
  {
   "cell_type": "code",
   "execution_count": 185,
   "id": "49eb855b",
   "metadata": {},
   "outputs": [
    {
     "data": {
      "text/plain": [
       "0.0"
      ]
     },
     "execution_count": 185,
     "metadata": {},
     "output_type": "execute_result"
    }
   ],
   "source": [
    "#compare davies bouldin scores w second kmeans\n",
    "kmeans2_db - agglomerative_db"
   ]
  },
  {
   "cell_type": "code",
   "execution_count": 187,
   "id": "bbfe4664",
   "metadata": {},
   "outputs": [
    {
     "data": {
      "text/plain": [
       "0.05742244830510146"
      ]
     },
     "execution_count": 187,
     "metadata": {},
     "output_type": "execute_result"
    }
   ],
   "source": [
    "#compare davies bouldin scores w first kmeans\n",
    "kmeans_db - agglomerative_db"
   ]
  },
  {
   "cell_type": "markdown",
   "id": "4712927a",
   "metadata": {},
   "source": [
    "The second run of KMeans with 2 cluster groups performed better than the first when comparing their silhouette scores by about 17%. This second run of KMeans clustering performed the same as the first agglomerative clustering fit in terms of both their silhouette and davies bouldin scores. This means that the first KMeans cluster results performed 17% worse than the agglomerative clustering, meaning that more clusters don't necessarily mean better grouping. Additionally, the more heavily clustered results performed about 5% worse compared to both the 2-cluster kmeans model and the agglomerative model. "
   ]
  },
  {
   "cell_type": "code",
   "execution_count": 188,
   "id": "50ddce8a",
   "metadata": {},
   "outputs": [
    {
     "data": {
      "text/plain": [
       "1.0"
      ]
     },
     "execution_count": 188,
     "metadata": {},
     "output_type": "execute_result"
    }
   ],
   "source": [
    "#calculate adjusted rand score to compare cluster assignments\n",
    "adjusted_rand_score(safety_agclustered, clustering_labels2)"
   ]
  },
  {
   "cell_type": "code",
   "execution_count": 189,
   "id": "2563316c",
   "metadata": {},
   "outputs": [
    {
     "data": {
      "text/plain": [
       "0.051602317777061577"
      ]
     },
     "execution_count": 189,
     "metadata": {},
     "output_type": "execute_result"
    }
   ],
   "source": [
    "#calculate adjusted rand score to compare cluster assignments with the first kmeans \n",
    "adjusted_rand_score(safety_agclustered, clustering_labels)"
   ]
  },
  {
   "cell_type": "markdown",
   "id": "c3fdb416",
   "metadata": {},
   "source": [
    "Naturally, the adjusted rand score for the 2-cluster kmeans model was 1.0 when comparing it to the agglomerative model. Considering the first kmeans model was more heavily segmented with 6 different clusters, the adjusted rand score of .05 is unsurprising as it indicates a significant difference between its clustering compared to the agglomerative model. This also means there is a significant difference between the first kmeans model and the second (because the second kmeans model performed the same as the first agglomerative model), which is again natural due to the lesser amount of resulting clusters. "
   ]
  }
 ],
 "metadata": {
  "kernelspec": {
   "display_name": "Python 3 (ipykernel)",
   "language": "python",
   "name": "python3"
  },
  "language_info": {
   "codemirror_mode": {
    "name": "ipython",
    "version": 3
   },
   "file_extension": ".py",
   "mimetype": "text/x-python",
   "name": "python",
   "nbconvert_exporter": "python",
   "pygments_lexer": "ipython3",
   "version": "3.11.4"
  }
 },
 "nbformat": 4,
 "nbformat_minor": 5
}
