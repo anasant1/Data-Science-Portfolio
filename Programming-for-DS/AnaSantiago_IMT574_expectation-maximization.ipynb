{
 "cells": [
  {
   "cell_type": "markdown",
   "id": "59bcafc7",
   "metadata": {},
   "source": [
    "# 7.7 Assignment: Expectation Maximization\n",
    "\n",
    "\n",
    "### TABLE OF CONTENTS\n",
    "[Part 1: EM v K-Means](#Part-1:-EM-v-K-Means)\n",
    "\n",
    "[Part 2: EM application](#Part-2:-EM-application)"
   ]
  },
  {
   "cell_type": "markdown",
   "id": "e54fee95",
   "metadata": {},
   "source": [
    "# Part 1: EM v K-Means\n",
    "\n",
    "EM falls under unsupervised learning. But what specific kind of unsupervised learning setting would you use it for? Put differently, you could use both k-means and EM for clustering, but when will you pick EM over k-means?\n",
    "\n",
    "K-means is a special variant of the expectation maximization algorithm, but the main difference is it assumes that the clusters in the data are well-defined, and spherical. Because of this assumption, when we work with data that likely has well-defined spherical clusters, we should choose K-means. On the other hand, if we have data with more complex distributions, or need less rigid clusters, we’d choose EM because we’re not limited to spherical groupings. EM will also allow us to detect sub-populations within the data, though it’s important to note that EM is more sensitive to outliers in the data, but if we preprocess the data effectively, using this method over k-means would give us more control over the characteristics of the cluster. When we have more computational power, EM will be a better choice than k-means. "
   ]
  },
  {
   "cell_type": "markdown",
   "id": "c818b137",
   "metadata": {},
   "source": [
    "# Part 2: EM application\n",
    "\n",
    "The following dataset was obtained from Belsley, Kuh, and Welsch (1980), which they obtained from Sterling (1977). The dataset involves the life-cycle savings hypothesis developed by Franco Modigliani and includes data averaged over the 1960-1970 decase to remove the business cycle and other short-term fluctuations.\n",
    "\n",
    "Per Modigliani's hypothesis,  the savings ratio (aggregate personal savings divided by disposable income) is explained by per-capita disposable income, the percentage rate of change in per-capita disposable income, and two demographic variables: The percentage of population less than 15 years old and the percentage of the population over 75 years old.\n",
    "\n",
    "### Attributes in the data:\n",
    "- Country\n",
    "\n",
    "- Sr: numeric, aggregate personal savings\n",
    "\n",
    "- pop15: numeric, % of the population under 15\n",
    "\n",
    "- pop75: numeric, % of the population over 75\n",
    "\n",
    "- dpi: numeric, real per-capita disposable income\n",
    "\n",
    "- ddpi: numeric, % growth rate of dpi\n",
    "\n",
    "### TABLE OF CONTENTS:\n",
    "[Data processing](#Data-processing)\n",
    "\n",
    "[EM](#EM)\n",
    "\n",
    "[Conclusions](#Conclusions)\n",
    "\n",
    "#### Objectives:\n",
    "1. Use EM for clustering “similar” countries.\n",
    "\n",
    "2. Report groups with the help of AIC and BIC. "
   ]
  },
  {
   "cell_type": "markdown",
   "id": "46db931f",
   "metadata": {},
   "source": [
    "# Libraries"
   ]
  },
  {
   "cell_type": "code",
   "execution_count": 52,
   "id": "12b79e08",
   "metadata": {},
   "outputs": [],
   "source": [
    "import pandas as pd\n",
    "import seaborn as sns\n",
    "import matplotlib.pyplot as plt\n",
    "\n",
    "from sklearn.mixture import GaussianMixture\n",
    "from sklearn.preprocessing import StandardScaler\n",
    "\n",
    "from sklearn.model_selection import KFold"
   ]
  },
  {
   "cell_type": "markdown",
   "id": "218d977e",
   "metadata": {},
   "source": [
    "# Data processing"
   ]
  },
  {
   "cell_type": "code",
   "execution_count": 2,
   "id": "9a6bf585",
   "metadata": {},
   "outputs": [
    {
     "data": {
      "text/html": [
       "<div>\n",
       "<style scoped>\n",
       "    .dataframe tbody tr th:only-of-type {\n",
       "        vertical-align: middle;\n",
       "    }\n",
       "\n",
       "    .dataframe tbody tr th {\n",
       "        vertical-align: top;\n",
       "    }\n",
       "\n",
       "    .dataframe thead th {\n",
       "        text-align: right;\n",
       "    }\n",
       "</style>\n",
       "<table border=\"1\" class=\"dataframe\">\n",
       "  <thead>\n",
       "    <tr style=\"text-align: right;\">\n",
       "      <th></th>\n",
       "      <th>Contry</th>\n",
       "      <th>sr</th>\n",
       "      <th>pop15</th>\n",
       "      <th>pop75</th>\n",
       "      <th>dpi</th>\n",
       "      <th>ddpi</th>\n",
       "    </tr>\n",
       "  </thead>\n",
       "  <tbody>\n",
       "    <tr>\n",
       "      <th>0</th>\n",
       "      <td>Australia</td>\n",
       "      <td>11.43</td>\n",
       "      <td>29.35</td>\n",
       "      <td>2.87</td>\n",
       "      <td>2329.68</td>\n",
       "      <td>2.87</td>\n",
       "    </tr>\n",
       "    <tr>\n",
       "      <th>1</th>\n",
       "      <td>Austria</td>\n",
       "      <td>12.07</td>\n",
       "      <td>23.32</td>\n",
       "      <td>4.41</td>\n",
       "      <td>1507.99</td>\n",
       "      <td>3.93</td>\n",
       "    </tr>\n",
       "    <tr>\n",
       "      <th>2</th>\n",
       "      <td>Belgium</td>\n",
       "      <td>13.17</td>\n",
       "      <td>23.80</td>\n",
       "      <td>4.43</td>\n",
       "      <td>2108.47</td>\n",
       "      <td>3.82</td>\n",
       "    </tr>\n",
       "    <tr>\n",
       "      <th>3</th>\n",
       "      <td>Bolivia</td>\n",
       "      <td>5.75</td>\n",
       "      <td>41.89</td>\n",
       "      <td>1.67</td>\n",
       "      <td>189.13</td>\n",
       "      <td>0.22</td>\n",
       "    </tr>\n",
       "    <tr>\n",
       "      <th>4</th>\n",
       "      <td>Brazil</td>\n",
       "      <td>12.88</td>\n",
       "      <td>42.19</td>\n",
       "      <td>0.83</td>\n",
       "      <td>728.47</td>\n",
       "      <td>4.56</td>\n",
       "    </tr>\n",
       "  </tbody>\n",
       "</table>\n",
       "</div>"
      ],
      "text/plain": [
       "      Contry     sr  pop15  pop75      dpi  ddpi\n",
       "0  Australia  11.43  29.35   2.87  2329.68  2.87\n",
       "1    Austria  12.07  23.32   4.41  1507.99  3.93\n",
       "2    Belgium  13.17  23.80   4.43  2108.47  3.82\n",
       "3    Bolivia   5.75  41.89   1.67   189.13  0.22\n",
       "4     Brazil  12.88  42.19   0.83   728.47  4.56"
      ]
     },
     "execution_count": 2,
     "metadata": {},
     "output_type": "execute_result"
    }
   ],
   "source": [
    "#load data\n",
    "life_cycle_data = pd.read_csv('Assignment 7 data-lifecyclesaving.csv')\n",
    "\n",
    "#inspect\n",
    "life_cycle_data.head()"
   ]
  },
  {
   "cell_type": "code",
   "execution_count": 3,
   "id": "daadaf35",
   "metadata": {},
   "outputs": [
    {
     "data": {
      "text/plain": [
       "(50, 6)"
      ]
     },
     "execution_count": 3,
     "metadata": {},
     "output_type": "execute_result"
    }
   ],
   "source": [
    "life_cycle_data.shape"
   ]
  },
  {
   "cell_type": "code",
   "execution_count": 4,
   "id": "0f61d4f9",
   "metadata": {},
   "outputs": [
    {
     "data": {
      "text/html": [
       "<div>\n",
       "<style scoped>\n",
       "    .dataframe tbody tr th:only-of-type {\n",
       "        vertical-align: middle;\n",
       "    }\n",
       "\n",
       "    .dataframe tbody tr th {\n",
       "        vertical-align: top;\n",
       "    }\n",
       "\n",
       "    .dataframe thead th {\n",
       "        text-align: right;\n",
       "    }\n",
       "</style>\n",
       "<table border=\"1\" class=\"dataframe\">\n",
       "  <thead>\n",
       "    <tr style=\"text-align: right;\">\n",
       "      <th></th>\n",
       "      <th>sr</th>\n",
       "      <th>pop15</th>\n",
       "      <th>pop75</th>\n",
       "      <th>dpi</th>\n",
       "      <th>ddpi</th>\n",
       "    </tr>\n",
       "  </thead>\n",
       "  <tbody>\n",
       "    <tr>\n",
       "      <th>count</th>\n",
       "      <td>50.000000</td>\n",
       "      <td>50.000000</td>\n",
       "      <td>50.000000</td>\n",
       "      <td>50.000000</td>\n",
       "      <td>50.000000</td>\n",
       "    </tr>\n",
       "    <tr>\n",
       "      <th>mean</th>\n",
       "      <td>9.671000</td>\n",
       "      <td>35.089600</td>\n",
       "      <td>2.293000</td>\n",
       "      <td>1106.758400</td>\n",
       "      <td>3.757600</td>\n",
       "    </tr>\n",
       "    <tr>\n",
       "      <th>std</th>\n",
       "      <td>4.480407</td>\n",
       "      <td>9.151727</td>\n",
       "      <td>1.290771</td>\n",
       "      <td>990.868889</td>\n",
       "      <td>2.869871</td>\n",
       "    </tr>\n",
       "    <tr>\n",
       "      <th>min</th>\n",
       "      <td>0.600000</td>\n",
       "      <td>21.440000</td>\n",
       "      <td>0.560000</td>\n",
       "      <td>88.940000</td>\n",
       "      <td>0.220000</td>\n",
       "    </tr>\n",
       "    <tr>\n",
       "      <th>25%</th>\n",
       "      <td>6.970000</td>\n",
       "      <td>26.215000</td>\n",
       "      <td>1.125000</td>\n",
       "      <td>288.207500</td>\n",
       "      <td>2.002500</td>\n",
       "    </tr>\n",
       "    <tr>\n",
       "      <th>50%</th>\n",
       "      <td>10.510000</td>\n",
       "      <td>32.575000</td>\n",
       "      <td>2.175000</td>\n",
       "      <td>695.665000</td>\n",
       "      <td>3.000000</td>\n",
       "    </tr>\n",
       "    <tr>\n",
       "      <th>75%</th>\n",
       "      <td>12.617500</td>\n",
       "      <td>44.065000</td>\n",
       "      <td>3.325000</td>\n",
       "      <td>1795.622500</td>\n",
       "      <td>4.477500</td>\n",
       "    </tr>\n",
       "    <tr>\n",
       "      <th>max</th>\n",
       "      <td>21.100000</td>\n",
       "      <td>47.640000</td>\n",
       "      <td>4.700000</td>\n",
       "      <td>4001.890000</td>\n",
       "      <td>16.710000</td>\n",
       "    </tr>\n",
       "  </tbody>\n",
       "</table>\n",
       "</div>"
      ],
      "text/plain": [
       "              sr      pop15      pop75          dpi       ddpi\n",
       "count  50.000000  50.000000  50.000000    50.000000  50.000000\n",
       "mean    9.671000  35.089600   2.293000  1106.758400   3.757600\n",
       "std     4.480407   9.151727   1.290771   990.868889   2.869871\n",
       "min     0.600000  21.440000   0.560000    88.940000   0.220000\n",
       "25%     6.970000  26.215000   1.125000   288.207500   2.002500\n",
       "50%    10.510000  32.575000   2.175000   695.665000   3.000000\n",
       "75%    12.617500  44.065000   3.325000  1795.622500   4.477500\n",
       "max    21.100000  47.640000   4.700000  4001.890000  16.710000"
      ]
     },
     "execution_count": 4,
     "metadata": {},
     "output_type": "execute_result"
    }
   ],
   "source": [
    "life_cycle_data.describe()"
   ]
  },
  {
   "cell_type": "code",
   "execution_count": 5,
   "id": "d8056852",
   "metadata": {},
   "outputs": [
    {
     "data": {
      "text/plain": [
       "0"
      ]
     },
     "execution_count": 5,
     "metadata": {},
     "output_type": "execute_result"
    }
   ],
   "source": [
    "life_cycle_data.isna().sum().sum()"
   ]
  },
  {
   "cell_type": "code",
   "execution_count": 6,
   "id": "57f1e6d5",
   "metadata": {},
   "outputs": [
    {
     "data": {
      "text/plain": [
       "array([11.43, 12.07, 13.17,  5.75, 12.88,  8.79,  0.6 , 11.9 ,  4.98,\n",
       "       10.78, 16.85,  3.59, 11.24, 12.64, 12.55, 10.67,  3.01,  7.7 ,\n",
       "        1.27,  9.  , 11.34, 14.28, 21.1 ,  3.98, 10.35, 15.48, 10.25,\n",
       "       14.65,  7.3 ,  4.44,  2.02, 12.7 , 12.78, 12.49, 11.14, 13.3 ,\n",
       "       11.77,  6.86, 14.13,  5.13,  2.81,  7.81,  7.56,  9.22, 18.56,\n",
       "        7.72,  9.24,  8.89,  4.71])"
      ]
     },
     "execution_count": 6,
     "metadata": {},
     "output_type": "execute_result"
    }
   ],
   "source": [
    "life_cycle_data['sr'].unique()"
   ]
  },
  {
   "cell_type": "code",
   "execution_count": 7,
   "id": "e693b593",
   "metadata": {},
   "outputs": [
    {
     "data": {
      "text/plain": [
       "array([29.35, 23.32, 23.8 , 41.89, 42.19, 31.72, 39.74, 44.75, 46.64,\n",
       "       47.64, 24.42, 46.31, 27.84, 25.06, 23.31, 25.62, 46.05, 47.32,\n",
       "       34.03, 41.31, 31.16, 24.52, 27.01, 41.74, 21.8 , 32.54, 25.95,\n",
       "       24.71, 32.61, 45.04, 43.56, 41.18, 44.19, 46.26, 28.96, 31.94,\n",
       "       31.92, 27.74, 21.44, 23.49, 43.42, 46.12, 23.27, 29.81, 46.4 ,\n",
       "       45.25, 41.12, 28.13, 43.69, 47.2 ])"
      ]
     },
     "execution_count": 7,
     "metadata": {},
     "output_type": "execute_result"
    }
   ],
   "source": [
    "#examine pop15 values\n",
    "life_cycle_data['pop15'].unique()\n",
    "\n",
    "#need to standardize so they're of equal measure to pop75"
   ]
  },
  {
   "cell_type": "code",
   "execution_count": 8,
   "id": "a7cda757",
   "metadata": {},
   "outputs": [
    {
     "data": {
      "text/plain": [
       "array([2.87, 4.41, 4.43, 1.67, 0.83, 2.85, 1.34, 0.67, 1.06, 1.14, 3.93,\n",
       "       1.19, 2.37, 4.7 , 3.35, 3.1 , 0.87, 0.58, 3.08, 0.96, 4.19, 3.48,\n",
       "       1.91, 0.91, 3.73, 2.47, 3.67, 3.25, 3.17, 1.21, 1.2 , 1.05, 1.28,\n",
       "       1.12, 2.28, 1.52, 4.54, 1.08, 4.46, 3.43, 0.9 , 0.56, 1.73, 2.72,\n",
       "       2.07, 0.66])"
      ]
     },
     "execution_count": 8,
     "metadata": {},
     "output_type": "execute_result"
    }
   ],
   "source": [
    "#examine pop75 values\n",
    "life_cycle_data['pop75'].unique()"
   ]
  },
  {
   "cell_type": "code",
   "execution_count": 9,
   "id": "311d1f60",
   "metadata": {},
   "outputs": [
    {
     "data": {
      "text/plain": [
       "array([2329.68, 1507.99, 2108.47,  189.13,  728.47, 2982.88,  662.86,\n",
       "        289.52,  276.65,  471.24, 2496.53,  287.77, 1681.25, 2213.82,\n",
       "       2457.12,  870.85,  289.71,  232.44, 1900.1 ,   88.94, 1139.95,\n",
       "       1390.  , 1257.28,  207.68, 2449.39,  601.05, 2231.03, 1740.7 ,\n",
       "       1487.52,  325.54,  568.56,  220.56,  400.06,  152.01,  579.51,\n",
       "        651.11,  250.96,  768.79, 3299.49, 2630.96,  389.66,  249.87,\n",
       "       1813.93, 4001.89,  813.39,  138.33,  380.47,  766.54,  123.58,\n",
       "        242.69])"
      ]
     },
     "execution_count": 9,
     "metadata": {},
     "output_type": "execute_result"
    }
   ],
   "source": [
    "#examine dpi\n",
    "life_cycle_data['dpi'].unique()"
   ]
  },
  {
   "cell_type": "code",
   "execution_count": 10,
   "id": "97ed95f1",
   "metadata": {},
   "outputs": [
    {
     "data": {
      "text/plain": [
       "array([ 2.87,  3.93,  3.82,  0.22,  4.56,  2.43,  2.67,  6.51,  3.08,\n",
       "        2.8 ,  3.99,  2.19,  4.32,  4.52,  3.44,  6.28,  1.48,  3.19,\n",
       "        1.12,  1.54,  2.99,  3.54,  8.21,  5.81,  1.57,  8.12,  3.62,\n",
       "        7.66,  1.76,  2.48,  3.61,  1.03,  0.67,  2.  ,  7.48,  4.35,\n",
       "        3.01,  2.7 ,  2.96,  1.13,  2.01,  2.45,  0.53,  5.14, 10.23,\n",
       "        1.88, 16.71,  5.08])"
      ]
     },
     "execution_count": 10,
     "metadata": {},
     "output_type": "execute_result"
    }
   ],
   "source": [
    "#examine ddpi\n",
    "life_cycle_data['ddpi'].unique()"
   ]
  },
  {
   "cell_type": "code",
   "execution_count": 17,
   "id": "42f5e839",
   "metadata": {},
   "outputs": [
    {
     "data": {
      "text/plain": [
       "<seaborn.axisgrid.FacetGrid at 0x13c492190>"
      ]
     },
     "execution_count": 17,
     "metadata": {},
     "output_type": "execute_result"
    },
    {
     "data": {
      "image/png": "[encoded data removed]",
      "text/plain": [
       "<Figure size 500x500 with 1 Axes>"
      ]
     },
     "metadata": {},
     "output_type": "display_data"
    }
   ],
   "source": [
    "sns.displot(life_cycle_data, x = 'dpi')"
   ]
  },
  {
   "cell_type": "code",
   "execution_count": 18,
   "id": "056f0fb1",
   "metadata": {},
   "outputs": [
    {
     "data": {
      "text/plain": [
       "<seaborn.axisgrid.FacetGrid at 0x13c4b0bd0>"
      ]
     },
     "execution_count": 18,
     "metadata": {},
     "output_type": "execute_result"
    },
    {
     "data": {
      "image/png": "[encoded data removed]",
      "text/plain": [
       "<Figure size 500x500 with 1 Axes>"
      ]
     },
     "metadata": {},
     "output_type": "display_data"
    }
   ],
   "source": [
    "sns.displot(life_cycle_data, x = 'ddpi')"
   ]
  },
  {
   "cell_type": "code",
   "execution_count": 19,
   "id": "0ecd821b",
   "metadata": {},
   "outputs": [
    {
     "data": {
      "text/plain": [
       "<seaborn.axisgrid.FacetGrid at 0x13c397790>"
      ]
     },
     "execution_count": 19,
     "metadata": {},
     "output_type": "execute_result"
    },
    {
     "data": {
      "image/png": "[encoded data removed]",
      "text/plain": [
       "<Figure size 500x500 with 1 Axes>"
      ]
     },
     "metadata": {},
     "output_type": "display_data"
    }
   ],
   "source": [
    "sns.displot(life_cycle_data, x = 'sr')"
   ]
  },
  {
   "cell_type": "code",
   "execution_count": 20,
   "id": "0db8b165",
   "metadata": {},
   "outputs": [
    {
     "data": {
      "text/plain": [
       "<seaborn.axisgrid.FacetGrid at 0x13c61ee90>"
      ]
     },
     "execution_count": 20,
     "metadata": {},
     "output_type": "execute_result"
    },
    {
     "data": {
      "image/png": "[encoded data removed]",
      "text/plain": [
       "<Figure size 500x500 with 1 Axes>"
      ]
     },
     "metadata": {},
     "output_type": "display_data"
    }
   ],
   "source": [
    "sns.displot(life_cycle_data, x = 'pop15')"
   ]
  },
  {
   "cell_type": "code",
   "execution_count": 21,
   "id": "0a3adcb2",
   "metadata": {
    "scrolled": false
   },
   "outputs": [
    {
     "data": {
      "text/plain": [
       "<seaborn.axisgrid.FacetGrid at 0x13c48e390>"
      ]
     },
     "execution_count": 21,
     "metadata": {},
     "output_type": "execute_result"
    },
    {
     "data": {
      "image/png": "[encoded data removed]",
      "text/plain": [
       "<Figure size 500x500 with 1 Axes>"
      ]
     },
     "metadata": {},
     "output_type": "display_data"
    }
   ],
   "source": [
    "sns.displot(life_cycle_data, x = 'pop75')"
   ]
  },
  {
   "cell_type": "code",
   "execution_count": 24,
   "id": "d8666fcb",
   "metadata": {},
   "outputs": [
    {
     "data": {
      "text/plain": [
       "Index(['Contry', 'sr', 'pop15', 'pop75', 'dpi', 'ddpi'], dtype='object')"
      ]
     },
     "execution_count": 24,
     "metadata": {},
     "output_type": "execute_result"
    }
   ],
   "source": [
    "life_cycle_data.columns"
   ]
  },
  {
   "cell_type": "code",
   "execution_count": 25,
   "id": "238cc98a",
   "metadata": {},
   "outputs": [
    {
     "data": {
      "text/html": [
       "<div>\n",
       "<style scoped>\n",
       "    .dataframe tbody tr th:only-of-type {\n",
       "        vertical-align: middle;\n",
       "    }\n",
       "\n",
       "    .dataframe tbody tr th {\n",
       "        vertical-align: top;\n",
       "    }\n",
       "\n",
       "    .dataframe thead th {\n",
       "        text-align: right;\n",
       "    }\n",
       "</style>\n",
       "<table border=\"1\" class=\"dataframe\">\n",
       "  <thead>\n",
       "    <tr style=\"text-align: right;\">\n",
       "      <th></th>\n",
       "      <th>Contry</th>\n",
       "      <th>sr</th>\n",
       "      <th>pop15</th>\n",
       "      <th>pop75</th>\n",
       "      <th>dpi</th>\n",
       "      <th>ddpi</th>\n",
       "    </tr>\n",
       "  </thead>\n",
       "  <tbody>\n",
       "    <tr>\n",
       "      <th>0</th>\n",
       "      <td>Australia</td>\n",
       "      <td>0.396584</td>\n",
       "      <td>-0.633528</td>\n",
       "      <td>0.451558</td>\n",
       "      <td>1.246721</td>\n",
       "      <td>-0.312422</td>\n",
       "    </tr>\n",
       "    <tr>\n",
       "      <th>1</th>\n",
       "      <td>Austria</td>\n",
       "      <td>0.540879</td>\n",
       "      <td>-1.299109</td>\n",
       "      <td>1.656756</td>\n",
       "      <td>0.409040</td>\n",
       "      <td>0.060682</td>\n",
       "    </tr>\n",
       "    <tr>\n",
       "      <th>2</th>\n",
       "      <td>Belgium</td>\n",
       "      <td>0.788885</td>\n",
       "      <td>-1.246127</td>\n",
       "      <td>1.672408</td>\n",
       "      <td>1.021206</td>\n",
       "      <td>0.021964</td>\n",
       "    </tr>\n",
       "    <tr>\n",
       "      <th>3</th>\n",
       "      <td>Bolivia</td>\n",
       "      <td>-0.884029</td>\n",
       "      <td>0.750617</td>\n",
       "      <td>-0.487557</td>\n",
       "      <td>-0.935487</td>\n",
       "      <td>-1.245184</td>\n",
       "    </tr>\n",
       "    <tr>\n",
       "      <th>4</th>\n",
       "      <td>Brazil</td>\n",
       "      <td>0.723501</td>\n",
       "      <td>0.783730</td>\n",
       "      <td>-1.144938</td>\n",
       "      <td>-0.385650</td>\n",
       "      <td>0.282433</td>\n",
       "    </tr>\n",
       "  </tbody>\n",
       "</table>\n",
       "</div>"
      ],
      "text/plain": [
       "      Contry        sr     pop15     pop75       dpi      ddpi\n",
       "0  Australia  0.396584 -0.633528  0.451558  1.246721 -0.312422\n",
       "1    Austria  0.540879 -1.299109  1.656756  0.409040  0.060682\n",
       "2    Belgium  0.788885 -1.246127  1.672408  1.021206  0.021964\n",
       "3    Bolivia -0.884029  0.750617 -0.487557 -0.935487 -1.245184\n",
       "4     Brazil  0.723501  0.783730 -1.144938 -0.385650  0.282433"
      ]
     },
     "execution_count": 25,
     "metadata": {},
     "output_type": "execute_result"
    }
   ],
   "source": [
    "#standardize data since EM is sensitive to unequal weights\n",
    "cols_standardize = life_cycle_data[['sr', 'pop15', 'pop75', 'dpi', 'ddpi']]\n",
    "\n",
    "#initialize scaler\n",
    "scaler = StandardScaler()\n",
    "\n",
    "#fit & transform data\n",
    "scaled_cols = scaler.fit_transform(cols_standardize)\n",
    "\n",
    "#update df\n",
    "life_cycle_data[['sr', 'pop15', 'pop75', 'dpi', 'ddpi']] = scaled_cols\n",
    "\n",
    "#inspect\n",
    "life_cycle_data.head()"
   ]
  },
  {
   "cell_type": "markdown",
   "id": "a6b14685",
   "metadata": {},
   "source": [
    "# EM\n",
    "\n",
    "The application of the expectation-maximization algorithm will be done through scikit learn's GaussianMixture model library. "
   ]
  },
  {
   "cell_type": "code",
   "execution_count": 35,
   "id": "5b71f5e3",
   "metadata": {},
   "outputs": [],
   "source": [
    "#set features for clustering\n",
    "clustering_features = life_cycle_data[['sr', 'pop15', 'pop75', 'dpi', 'ddpi']]\n",
    "\n",
    "#test different number of clusters\n",
    "n_components = [2, 3, 5, 7]\n",
    "\n",
    "#initialize number of folds\n",
    "kfolds = 5\n",
    "\n",
    "#initialize kfold cross-validation\n",
    "kf = KFold(n_splits = kfolds, shuffle = True, random_state = 22)\n",
    "\n",
    "#initialize lists to store AIC, BIC values\n",
    "aic_bic_values = []\n",
    "\n",
    "#loop through\n",
    "for component in n_components:\n",
    "    \n",
    "    #loop through each fold in cv, split attributes into train/test to corroborate n_component \n",
    "    #parameter performance in model\n",
    "    for train_index, test_index in kf.split(clustering_features):\n",
    "    \n",
    "        #initialize EM model\n",
    "        gmm = GaussianMixture(n_components = component)\n",
    "        \n",
    "        #fit model\n",
    "        gmm.fit(clustering_features)\n",
    "        \n",
    "        #get aic & bic\n",
    "        fold_aic = gmm.aic(clustering_features)\n",
    "        fold_bic = gmm.bic(clustering_features)\n",
    "        \n",
    "    #add aic, bic, and component # tested\n",
    "    aic_bic_values.append([component, fold_aic, fold_bic])\n",
    "    \n",
    "metrics_df = pd.DataFrame(aic_bic_values, columns = ['component', 'aic', 'bic'])"
   ]
  },
  {
   "cell_type": "code",
   "execution_count": 36,
   "id": "5a9dd8d6",
   "metadata": {},
   "outputs": [
    {
     "data": {
      "text/html": [
       "<div>\n",
       "<style scoped>\n",
       "    .dataframe tbody tr th:only-of-type {\n",
       "        vertical-align: middle;\n",
       "    }\n",
       "\n",
       "    .dataframe tbody tr th {\n",
       "        vertical-align: top;\n",
       "    }\n",
       "\n",
       "    .dataframe thead th {\n",
       "        text-align: right;\n",
       "    }\n",
       "</style>\n",
       "<table border=\"1\" class=\"dataframe\">\n",
       "  <thead>\n",
       "    <tr style=\"text-align: right;\">\n",
       "      <th></th>\n",
       "      <th>component</th>\n",
       "      <th>aic</th>\n",
       "      <th>bic</th>\n",
       "    </tr>\n",
       "  </thead>\n",
       "  <tbody>\n",
       "    <tr>\n",
       "      <th>0</th>\n",
       "      <td>2</td>\n",
       "      <td>505.647252</td>\n",
       "      <td>584.040195</td>\n",
       "    </tr>\n",
       "    <tr>\n",
       "      <th>1</th>\n",
       "      <td>3</td>\n",
       "      <td>481.437851</td>\n",
       "      <td>599.983278</td>\n",
       "    </tr>\n",
       "    <tr>\n",
       "      <th>2</th>\n",
       "      <td>5</td>\n",
       "      <td>343.688688</td>\n",
       "      <td>542.539081</td>\n",
       "    </tr>\n",
       "    <tr>\n",
       "      <th>3</th>\n",
       "      <td>7</td>\n",
       "      <td>386.716214</td>\n",
       "      <td>665.871573</td>\n",
       "    </tr>\n",
       "  </tbody>\n",
       "</table>\n",
       "</div>"
      ],
      "text/plain": [
       "   component         aic         bic\n",
       "0          2  505.647252  584.040195\n",
       "1          3  481.437851  599.983278\n",
       "2          5  343.688688  542.539081\n",
       "3          7  386.716214  665.871573"
      ]
     },
     "execution_count": 36,
     "metadata": {},
     "output_type": "execute_result"
    }
   ],
   "source": [
    "metrics_df"
   ]
  },
  {
   "cell_type": "markdown",
   "id": "b235117a",
   "metadata": {},
   "source": [
    "# Conclusions\n",
    "\n",
    "Upon testing different numbers of clusters to find how many groups yield the best performing model, per the AIC results, having 5 groups led to the best Expectation-Maximization model. This is unsurprising because AIC penalizes simple models, and gives preference to more complex models. The BIC metric results also support 5 groups as the optimal number of clusters derived from the model as it has the lowest BIC value as well. This latter finding is somewhat surprising because BIC tends to favor simpler models. \n",
    "\n",
    "Therefore, the optimal number of similar country groups derived from the EM algorithm as applied to this dataset, is 5. "
   ]
  },
  {
   "cell_type": "code",
   "execution_count": 59,
   "id": "12254729",
   "metadata": {
    "scrolled": false
   },
   "outputs": [
    {
     "data": {
      "image/png": "[encoded data removed]",
      "text/plain": [
       "<Figure size 640x480 with 1 Axes>"
      ]
     },
     "metadata": {},
     "output_type": "display_data"
    }
   ],
   "source": [
    "#visualize best model labels\n",
    "optimal_components = 5\n",
    "best_gmm = GaussianMixture(n_components = optimal_components)\n",
    "best_gmm.fit(clustering_features)\n",
    "\n",
    "#get labels for each datapoint/country\n",
    "cluster_labels = best_gmm.predict(clustering_features)\n",
    "\n",
    "sns.scatterplot(x=clustering_features['sr'], y = clustering_features['ddpi'], hue = cluster_labels, palette = 'husl')\n",
    "plt.title('Cluster labels by aggregate personal savings and percent growth rate of real, per-capita disposable income')\n",
    "plt.xlabel('aggregate personal savings')\n",
    "plt.ylabel('real, per-capita disposable income')\n",
    "plt.legend('12345', title = 'Clusters')\n",
    "plt.show()"
   ]
  }
 ],
 "metadata": {
  "kernelspec": {
   "display_name": "Python 3 (ipykernel)",
   "language": "python",
   "name": "python3"
  },
  "language_info": {
   "codemirror_mode": {
    "name": "ipython",
    "version": 3
   },
   "file_extension": ".py",
   "mimetype": "text/x-python",
   "name": "python",
   "nbconvert_exporter": "python",
   "pygments_lexer": "ipython3",
   "version": "3.11.4"
  }
 },
 "nbformat": 4,
 "nbformat_minor": 5
}
